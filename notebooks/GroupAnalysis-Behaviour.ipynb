{
 "cells": [
  {
   "cell_type": "markdown",
   "metadata": {},
   "source": [
    "# Behavioural Data (By Itself)\n",
    "\n",
    "Note: there is a separate d' value for each load\n",
    "- `all_behav_vals` is the d' for each load, for each participant\n",
    "- `avg_behav_vals` is the average d' across loads, for each participant "
   ]
  },
  {
   "cell_type": "code",
   "execution_count": 1,
   "metadata": {},
   "outputs": [],
   "source": [
    "%matplotlib inline\n",
    "\n",
    "from os.path import join as pjoin\n",
    "\n",
    "import numpy as np\n",
    "import pandas as pd\n",
    "from scipy.stats import pearsonr\n"
   ]
  },
  {
   "cell_type": "code",
   "execution_count": 2,
   "metadata": {
    "collapsed": true
   },
   "outputs": [],
   "source": [
    "# Import custom code for this analysis\n",
    "#% autoreload 2\n",
    "from plts import *\n",
    "from utils import *"
   ]
  },
  {
   "cell_type": "markdown",
   "metadata": {},
   "source": [
    "### Settings"
   ]
  },
  {
   "cell_type": "code",
   "execution_count": 3,
   "metadata": {
    "collapsed": true
   },
   "outputs": [],
   "source": [
    "# Set path to load results from\n",
    "res_path = '/Users/tom/Documents/Research/1-Projects/fooof/2-Data/Results/G2'"
   ]
  },
  {
   "cell_type": "markdown",
   "metadata": {},
   "source": [
    "## Behavioural Data Analysis"
   ]
  },
  {
   "cell_type": "code",
   "execution_count": 4,
   "metadata": {},
   "outputs": [],
   "source": [
    "# Load behavioural Data\n",
    "behav_file = pjoin(res_path, 'Behav', 'neural_aging_data_behaviour.csv')\n",
    "behav_dat = pd.read_csv(behav_file)"
   ]
  },
  {
   "cell_type": "code",
   "execution_count": 5,
   "metadata": {},
   "outputs": [
    {
     "data": {
      "text/html": [
       "<div>\n",
       "<style>\n",
       "    .dataframe thead tr:only-child th {\n",
       "        text-align: right;\n",
       "    }\n",
       "\n",
       "    .dataframe thead th {\n",
       "        text-align: left;\n",
       "    }\n",
       "\n",
       "    .dataframe tbody tr th {\n",
       "        vertical-align: top;\n",
       "    }\n",
       "</style>\n",
       "<table border=\"1\" class=\"dataframe\">\n",
       "  <thead>\n",
       "    <tr style=\"text-align: right;\">\n",
       "      <th></th>\n",
       "      <th>SubjID</th>\n",
       "      <th>Age</th>\n",
       "      <th>Load</th>\n",
       "      <th>CDA</th>\n",
       "      <th>d'</th>\n",
       "    </tr>\n",
       "  </thead>\n",
       "  <tbody>\n",
       "    <tr>\n",
       "      <th>0</th>\n",
       "      <td>1</td>\n",
       "      <td>1</td>\n",
       "      <td>1</td>\n",
       "      <td>-0.442318</td>\n",
       "      <td>4.701454</td>\n",
       "    </tr>\n",
       "    <tr>\n",
       "      <th>1</th>\n",
       "      <td>2</td>\n",
       "      <td>1</td>\n",
       "      <td>1</td>\n",
       "      <td>-0.326298</td>\n",
       "      <td>3.934543</td>\n",
       "    </tr>\n",
       "    <tr>\n",
       "      <th>2</th>\n",
       "      <td>3</td>\n",
       "      <td>1</td>\n",
       "      <td>1</td>\n",
       "      <td>-1.291108</td>\n",
       "      <td>3.040111</td>\n",
       "    </tr>\n",
       "    <tr>\n",
       "      <th>3</th>\n",
       "      <td>4</td>\n",
       "      <td>1</td>\n",
       "      <td>1</td>\n",
       "      <td>-1.692917</td>\n",
       "      <td>4.733815</td>\n",
       "    </tr>\n",
       "    <tr>\n",
       "      <th>4</th>\n",
       "      <td>5</td>\n",
       "      <td>1</td>\n",
       "      <td>1</td>\n",
       "      <td>-0.173045</td>\n",
       "      <td>4.380097</td>\n",
       "    </tr>\n",
       "  </tbody>\n",
       "</table>\n",
       "</div>"
      ],
      "text/plain": [
       "   SubjID  Age  Load       CDA        d'\n",
       "0       1    1     1 -0.442318  4.701454\n",
       "1       2    1     1 -0.326298  3.934543\n",
       "2       3    1     1 -1.291108  3.040111\n",
       "3       4    1     1 -1.692917  4.733815\n",
       "4       5    1     1 -0.173045  4.380097"
      ]
     },
     "execution_count": 5,
     "metadata": {},
     "output_type": "execute_result"
    }
   ],
   "source": [
    "# Sanity check behavioural data\n",
    "behav_dat.head()"
   ]
  },
  {
   "cell_type": "code",
   "execution_count": 6,
   "metadata": {
    "collapsed": true
   },
   "outputs": [],
   "source": [
    "# Collapse behavioural data across loads\n",
    "avg_behav = behav_dat.groupby('SubjID').mean()"
   ]
  },
  {
   "cell_type": "code",
   "execution_count": 7,
   "metadata": {},
   "outputs": [
    {
     "data": {
      "text/html": [
       "<div>\n",
       "<style>\n",
       "    .dataframe thead tr:only-child th {\n",
       "        text-align: right;\n",
       "    }\n",
       "\n",
       "    .dataframe thead th {\n",
       "        text-align: left;\n",
       "    }\n",
       "\n",
       "    .dataframe tbody tr th {\n",
       "        vertical-align: top;\n",
       "    }\n",
       "</style>\n",
       "<table border=\"1\" class=\"dataframe\">\n",
       "  <thead>\n",
       "    <tr style=\"text-align: right;\">\n",
       "      <th></th>\n",
       "      <th>count</th>\n",
       "      <th>mean</th>\n",
       "      <th>std</th>\n",
       "      <th>min</th>\n",
       "      <th>25%</th>\n",
       "      <th>50%</th>\n",
       "      <th>75%</th>\n",
       "      <th>max</th>\n",
       "    </tr>\n",
       "    <tr>\n",
       "      <th>Age</th>\n",
       "      <th></th>\n",
       "      <th></th>\n",
       "      <th></th>\n",
       "      <th></th>\n",
       "      <th></th>\n",
       "      <th></th>\n",
       "      <th></th>\n",
       "      <th></th>\n",
       "    </tr>\n",
       "  </thead>\n",
       "  <tbody>\n",
       "    <tr>\n",
       "      <th>1</th>\n",
       "      <td>17.0</td>\n",
       "      <td>3.723283</td>\n",
       "      <td>0.781225</td>\n",
       "      <td>2.429116</td>\n",
       "      <td>2.907601</td>\n",
       "      <td>4.016855</td>\n",
       "      <td>4.217998</td>\n",
       "      <td>4.899760</td>\n",
       "    </tr>\n",
       "    <tr>\n",
       "      <th>2</th>\n",
       "      <td>14.0</td>\n",
       "      <td>3.105764</td>\n",
       "      <td>0.886168</td>\n",
       "      <td>1.390209</td>\n",
       "      <td>2.670936</td>\n",
       "      <td>3.090130</td>\n",
       "      <td>3.692970</td>\n",
       "      <td>4.751966</td>\n",
       "    </tr>\n",
       "  </tbody>\n",
       "</table>\n",
       "</div>"
      ],
      "text/plain": [
       "     count      mean       std       min       25%       50%       75%  \\\n",
       "Age                                                                      \n",
       "1     17.0  3.723283  0.781225  2.429116  2.907601  4.016855  4.217998   \n",
       "2     14.0  3.105764  0.886168  1.390209  2.670936  3.090130  3.692970   \n",
       "\n",
       "          max  \n",
       "Age            \n",
       "1    4.899760  \n",
       "2    4.751966  "
      ]
     },
     "execution_count": 7,
     "metadata": {},
     "output_type": "execute_result"
    }
   ],
   "source": [
    "# Check average d', split up by age groups\n",
    "avg_behav.groupby('Age')[\"d'\"].describe()"
   ]
  },
  {
   "cell_type": "code",
   "execution_count": 8,
   "metadata": {},
   "outputs": [
    {
     "data": {
      "text/html": [
       "<div>\n",
       "<style>\n",
       "    .dataframe thead tr:only-child th {\n",
       "        text-align: right;\n",
       "    }\n",
       "\n",
       "    .dataframe thead th {\n",
       "        text-align: left;\n",
       "    }\n",
       "\n",
       "    .dataframe tbody tr th {\n",
       "        vertical-align: top;\n",
       "    }\n",
       "</style>\n",
       "<table border=\"1\" class=\"dataframe\">\n",
       "  <thead>\n",
       "    <tr style=\"text-align: right;\">\n",
       "      <th></th>\n",
       "      <th>count</th>\n",
       "      <th>mean</th>\n",
       "      <th>std</th>\n",
       "      <th>min</th>\n",
       "      <th>25%</th>\n",
       "      <th>50%</th>\n",
       "      <th>75%</th>\n",
       "      <th>max</th>\n",
       "    </tr>\n",
       "    <tr>\n",
       "      <th>Age</th>\n",
       "      <th></th>\n",
       "      <th></th>\n",
       "      <th></th>\n",
       "      <th></th>\n",
       "      <th></th>\n",
       "      <th></th>\n",
       "      <th></th>\n",
       "      <th></th>\n",
       "    </tr>\n",
       "  </thead>\n",
       "  <tbody>\n",
       "    <tr>\n",
       "      <th>1</th>\n",
       "      <td>17.0</td>\n",
       "      <td>-1.395421</td>\n",
       "      <td>1.145267</td>\n",
       "      <td>-4.305039</td>\n",
       "      <td>-2.073300</td>\n",
       "      <td>-0.952601</td>\n",
       "      <td>-0.711283</td>\n",
       "      <td>0.575874</td>\n",
       "    </tr>\n",
       "    <tr>\n",
       "      <th>2</th>\n",
       "      <td>14.0</td>\n",
       "      <td>-1.110141</td>\n",
       "      <td>0.467909</td>\n",
       "      <td>-1.850606</td>\n",
       "      <td>-1.414441</td>\n",
       "      <td>-1.246122</td>\n",
       "      <td>-0.751901</td>\n",
       "      <td>-0.415433</td>\n",
       "    </tr>\n",
       "  </tbody>\n",
       "</table>\n",
       "</div>"
      ],
      "text/plain": [
       "     count      mean       std       min       25%       50%       75%  \\\n",
       "Age                                                                      \n",
       "1     17.0 -1.395421  1.145267 -4.305039 -2.073300 -0.952601 -0.711283   \n",
       "2     14.0 -1.110141  0.467909 -1.850606 -1.414441 -1.246122 -0.751901   \n",
       "\n",
       "          max  \n",
       "Age            \n",
       "1    0.575874  \n",
       "2   -0.415433  "
      ]
     },
     "execution_count": 8,
     "metadata": {},
     "output_type": "execute_result"
    }
   ],
   "source": [
    "# Check average CDA, split up by age groups\n",
    "avg_behav.groupby('Age')[\"CDA\"].describe()"
   ]
  },
  {
   "cell_type": "code",
   "execution_count": 9,
   "metadata": {},
   "outputs": [
    {
     "name": "stdout",
     "output_type": "stream",
     "text": [
      "All: \t: \t  0.0104 \t0.9555\n",
      "Yng: \t: \t  0.2805 \t0.2755\n",
      "Old: \t: \t -0.4481 \t0.1081\n"
     ]
    }
   ],
   "source": [
    "# Check correlations between d' and CDA measure\n",
    "print_stat('All: \\t', *pearsonr(avg_behav[\"CDA\"], avg_behav[\"d'\"]))\n",
    "print_stat('Yng: \\t', *pearsonr(avg_behav[avg_behav['Age'] == 1][\"CDA\"], avg_behav[avg_behav['Age'] == 1][\"d'\"]))\n",
    "print_stat('Old: \\t', *pearsonr(avg_behav[avg_behav['Age'] == 2][\"CDA\"], avg_behav[avg_behav['Age'] == 2][\"d'\"]))"
   ]
  },
  {
   "cell_type": "code",
   "execution_count": 10,
   "metadata": {},
   "outputs": [],
   "source": [
    "# Create behaviour plot\n",
    "avg_behav_vals = np.concatenate([avg_behav[avg_behav['Age'] == 2][\"d'\"].values,\n",
    "                                 avg_behav[avg_behav['Age'] == 1][\"d'\"].values])\n",
    "all_behav_vals = np.concatenate([behav_dat[behav_dat['Age'] == 2][\"d'\"].values,\n",
    "                                 behav_dat[behav_dat['Age'] == 1][\"d'\"].values])"
   ]
  },
  {
   "cell_type": "code",
   "execution_count": 11,
   "metadata": {},
   "outputs": [
    {
     "data": {
      "image/png": "[encoded data removed]",
      "text/plain": [
       "<Figure size 144x288 with 1 Axes>"
      ]
     },
     "metadata": {},
     "output_type": "display_data"
    }
   ],
   "source": [
    "# Plot the comparison of the averaged (across loads) d', split up by group\n",
    "plot_comp_scatter(avg_behav_vals)"
   ]
  },
  {
   "cell_type": "code",
   "execution_count": 12,
   "metadata": {},
   "outputs": [
    {
     "data": {
      "text/plain": [
       "Ttest_indResult(statistic=2.061705493268976, pvalue=0.04829911348520237)"
      ]
     },
     "execution_count": 12,
     "metadata": {},
     "output_type": "execute_result"
    }
   ],
   "source": [
    "# Statistically compare the difference in avg behaviour between yng & old\n",
    "ttest_ind(avg_behav_vals[YNG_INDS], avg_behav_vals[OLD_INDS])"
   ]
  },
  {
   "cell_type": "markdown",
   "metadata": {},
   "source": [
    "#### Check behavioural difference split up by load"
   ]
  },
  {
   "cell_type": "code",
   "execution_count": 13,
   "metadata": {
    "collapsed": true
   },
   "outputs": [],
   "source": [
    "def get_load(behav_dat, load):\n",
    "    \"\"\"Helper function to get behav from a specific load.\"\"\"\n",
    "    \n",
    "    temp = behav_dat[behav_dat[\"Load\"] == load]\n",
    "    load_vals = np.concatenate([temp[temp['Age'] == 2][\"d'\"].values,\n",
    "                                temp[temp['Age'] == 1][\"d'\"].values])\n",
    "    \n",
    "    return load_vals"
   ]
  },
  {
   "cell_type": "code",
   "execution_count": 14,
   "metadata": {},
   "outputs": [
    {
     "name": "stdout",
     "output_type": "stream",
     "text": [
      "LOAD: 1\n",
      "\tMean YNG: 3.96\n",
      "\tMean OLD: 3.62\n",
      "\tDiff\t 0.34713751982773156\n",
      "\tT-Test\t 1.1341 0.2660\n",
      "LOAD: 2\n",
      "\tMean YNG: 3.84\n",
      "\tMean OLD: 3.24\n",
      "\tDiff\t 0.5985745321134457\n",
      "\tT-Test\t 1.9911 0.0560\n",
      "LOAD: 3\n",
      "\tMean YNG: 3.37\n",
      "\tMean OLD: 2.47\n",
      "\tDiff\t 0.906845622542017\n",
      "\tT-Test\t 2.5969 0.0146\n"
     ]
    }
   ],
   "source": [
    "for load in [1, 2, 3]:\n",
    "    load_vals = get_load(behav_dat, load)\n",
    "    print('LOAD:', str(load))\n",
    "    print('\\tMean YNG: {:1.2f}'.format(np.mean(load_vals[YNG_INDS])))\n",
    "    print('\\tMean OLD: {:1.2f}'.format(np.mean(load_vals[OLD_INDS])))\n",
    "    print('\\tDiff\\t', np.mean(load_vals[YNG_INDS] - np.mean(load_vals[OLD_INDS])))\n",
    "    print('\\tT-Test\\t {:1.4f} {:1.4f}'.format(*ttest_ind(load_vals[YNG_INDS], load_vals[OLD_INDS])))"
   ]
  },
  {
   "cell_type": "code",
   "execution_count": 15,
   "metadata": {},
   "outputs": [
    {
     "data": {
      "image/png": "[encoded data removed]",
      "text/plain": [
       "<Figure size 144x288 with 1 Axes>"
      ]
     },
     "metadata": {},
     "output_type": "display_data"
    }
   ],
   "source": [
    "# Plot the comparison for specific load\n",
    "load_vals = get_load(behav_dat, 3)\n",
    "plot_comp_scatter(load_vals)"
   ]
  },
  {
   "cell_type": "markdown",
   "metadata": {},
   "source": [
    "#### So - why is load 3 so much worse?\n",
    "\n",
    "Here, get the change in behaviour within subjects, between loads."
   ]
  },
  {
   "cell_type": "code",
   "execution_count": 16,
   "metadata": {
    "collapsed": true
   },
   "outputs": [],
   "source": [
    "# Collect all d's into a 2D matrix to calculate the delta-d between conditions\n",
    "ds_all = np.flipud(np.vstack([behav_dat[behav_dat[\"Load\"] == 1][\"d'\"].values,\n",
    "                              behav_dat[behav_dat[\"Load\"] == 2][\"d'\"].values,  \n",
    "                              behav_dat[behav_dat[\"Load\"] == 3][\"d'\"].values]).T)\n",
    "d_diffs = np.diff(ds_all)"
   ]
  },
  {
   "cell_type": "code",
   "execution_count": 17,
   "metadata": {},
   "outputs": [
    {
     "data": {
      "text/plain": [
       "Ttest_indResult(statistic=-2.580676340366138, pvalue=0.015188157594471542)"
      ]
     },
     "execution_count": 17,
     "metadata": {},
     "output_type": "execute_result"
    }
   ],
   "source": [
    "# Average across differences between loads 1-2 & 2-3\n",
    "mean_diffs = np.mean(d_diffs, 1)\n",
    "\n",
    "# Check for statistical difference in delta-d'\n",
    "ttest_ind(mean_diffs[OLD_INDS], mean_diffs[YNG_INDS])"
   ]
  },
  {
   "cell_type": "code",
   "execution_count": 18,
   "metadata": {},
   "outputs": [
    {
     "data": {
      "image/png": "[encoded data removed]",
      "text/plain": [
       "<Figure size 144x288 with 1 Axes>"
      ]
     },
     "metadata": {},
     "output_type": "display_data"
    }
   ],
   "source": [
    "# Plot the comparison of the average delta-d\n",
    "plot_comp_scatter(mean_diffs)"
   ]
  }
 ],
 "metadata": {
  "kernelspec": {
   "display_name": "Python [conda root]",
   "language": "python",
   "name": "conda-root-py"
  },
  "language_info": {
   "codemirror_mode": {
    "name": "ipython",
    "version": 3
   },
   "file_extension": ".py",
   "mimetype": "text/x-python",
   "name": "python",
   "nbconvert_exporter": "python",
   "pygments_lexer": "ipython3",
   "version": "3.6.6"
  }
 },
 "nbformat": 4,
 "nbformat_minor": 2
}
