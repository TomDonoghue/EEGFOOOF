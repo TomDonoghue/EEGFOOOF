{
 "cells": [
  {
   "cell_type": "markdown",
   "metadata": {},
   "source": [
    "# Group Analysis: FOOOFed EEG Analysis: Rest\n",
    "\n",
    "Apply FOOOF to resting state EEG data, and compare details between young and old group. "
   ]
  },
  {
   "cell_type": "code",
   "execution_count": 1,
   "metadata": {
    "scrolled": false
   },
   "outputs": [],
   "source": [
    "%matplotlib inline\n",
    "%config InlineBackend.figure_format='retina'\n",
    "\n",
    "%load_ext autoreload"
   ]
  },
  {
   "cell_type": "code",
   "execution_count": 2,
   "metadata": {},
   "outputs": [],
   "source": [
    "from os import listdir\n",
    "from os.path import join as pjoin\n",
    "\n",
    "import numpy as np\n",
    "#import pandas as pd\n",
    "import matplotlib.pyplot as plt\n",
    "\n",
    "from scipy.stats import ttest_ind, pearsonr\n",
    "\n",
    "from fooof import FOOOFGroup\n",
    "from fooof.analysis import get_band_peak_group\n",
    "from fooof.core.funcs import expo_nk_function"
   ]
  },
  {
   "cell_type": "code",
   "execution_count": 3,
   "metadata": {},
   "outputs": [],
   "source": [
    "# Import custom code for this analysis\n",
    "import sys\n",
    "sys.path.append('../code')\n",
    "\n",
    "%autoreload 2\n",
    "from plts import *\n",
    "from utils import *"
   ]
  },
  {
   "cell_type": "markdown",
   "metadata": {},
   "source": [
    "# Settings"
   ]
  },
  {
   "cell_type": "code",
   "execution_count": 4,
   "metadata": {
    "scrolled": true
   },
   "outputs": [
    {
     "name": "stdout",
     "output_type": "stream",
     "text": [
      "Number of young subjects:   17\n",
      "Number of  old  subjects:   14\n"
     ]
    }
   ],
   "source": [
    "# Set path to load results from\n",
    "res_path = '/Users/tom/Documents/Research/1-Projects/fooof/2-Data/Results/'\n",
    "\n",
    "# Set whether to drop outlier subjects, in terms of FOOOF Goodness-of-Fit metrics\n",
    "drop_outliers = True\n",
    "\n",
    "# Set indices to separate groups\n",
    "from settings import YNG_INDS, OLD_INDS\n",
    "\n",
    "# Set average function to use\n",
    "avg_func = np.nanmean\n",
    "#avg_func = np.nanmedian\n",
    "\n",
    "# Wether to save out plots or not\n",
    "save_fig = False\n",
    "\n",
    "print('Number of young subjects:  ', len(YNG_INDS))\n",
    "print('Number of  old  subjects:  ', len(OLD_INDS))"
   ]
  },
  {
   "cell_type": "markdown",
   "metadata": {},
   "source": [
    "### Load FOOOF Data"
   ]
  },
  {
   "cell_type": "code",
   "execution_count": 5,
   "metadata": {},
   "outputs": [],
   "source": [
    "# Set the data folder to run\n",
    "dat_folder = 'FOOOF-AllCh'"
   ]
  },
  {
   "cell_type": "code",
   "execution_count": 6,
   "metadata": {},
   "outputs": [],
   "source": [
    "# Get files\n",
    "files = listdir(pjoin(res_path, dat_folder))\n",
    "files = [file for file in files if 'RAW' in file]\n",
    "files.sort()"
   ]
  },
  {
   "cell_type": "code",
   "execution_count": 7,
   "metadata": {
    "scrolled": false
   },
   "outputs": [],
   "source": [
    "# Load all subject FOOOFGroups\n",
    "fg = FOOOFGroup()\n",
    "fgs = []\n",
    "for file in files:\n",
    "    fg.load(file, pjoin(res_path, dat_folder))\n",
    "    fgs.append(fg.copy())"
   ]
  },
  {
   "cell_type": "markdown",
   "metadata": {},
   "source": [
    "### Extract FOOOF Data"
   ]
  },
  {
   "cell_type": "code",
   "execution_count": 8,
   "metadata": {},
   "outputs": [],
   "source": [
    "# Grab alphas from each subject\n",
    "ch_ind = 28  # 28 is Oz\n",
    "alphas = np.empty(shape=[len(fgs), 3])\n",
    "for ind, fg in enumerate(fgs):\n",
    "    #alphas[ind, :] = get_band_peak_group(fg.get_params('gaussian_params'), [7, 14], len(fg))[ch_ind, :]\n",
    "    alphas[ind, :] = get_band_peak_group(fg.get_params('peak_params'), [7, 14], len(fg))[ch_ind, :]"
   ]
  },
  {
   "cell_type": "code",
   "execution_count": 9,
   "metadata": {},
   "outputs": [],
   "source": [
    "# Grab aperiodic params from each subject\n",
    "ch_ind = 47 # 47 is Cz\n",
    "aps = np.empty(shape=[len(fgs), 2])\n",
    "for ind, fg in enumerate(fgs):\n",
    "    aps[ind, :] = fg.get_params('aperiodic_params')[ch_ind]\n",
    "offs = aps[:, 0]\n",
    "exps = aps[:, 1]"
   ]
  },
  {
   "cell_type": "code",
   "execution_count": 10,
   "metadata": {},
   "outputs": [],
   "source": [
    "# Extract error & R^2 from FOOOF fits\n",
    "ch_ind = 28  # Oz\n",
    "\n",
    "errs = []; r2s = []\n",
    "\n",
    "for fg in fgs:\n",
    "    errs.append(fg.get_results()[ch_ind].error)\n",
    "    r2s.append(fg.get_results()[ch_ind].r_squared)\n",
    "\n",
    "errs = np.array(errs)\n",
    "r2s = np.array(r2s)"
   ]
  },
  {
   "cell_type": "markdown",
   "metadata": {},
   "source": [
    "### Check For Outliers\n",
    "\n",
    "This check and drop procedure finds & drops subjects for which the FOOOF goodness-of-fit metrics are statistical outliers, indicating poor fits. "
   ]
  },
  {
   "cell_type": "code",
   "execution_count": 11,
   "metadata": {},
   "outputs": [],
   "source": [
    "def check_outliers(dat, thresh):\n",
    "    return list(np.where(np.abs(dat - np.mean(dat)) > thresh * np.std(dat))[0])"
   ]
  },
  {
   "cell_type": "code",
   "execution_count": 12,
   "metadata": {},
   "outputs": [],
   "source": [
    "std_thresh = 2.5\n",
    "err_outliers = check_outliers(errs, std_thresh)\n",
    "std_outliers = check_outliers(r2s, std_thresh)"
   ]
  },
  {
   "cell_type": "code",
   "execution_count": 13,
   "metadata": {},
   "outputs": [
    {
     "name": "stdout",
     "output_type": "stream",
     "text": [
      "[21]\n",
      "[21]\n"
     ]
    }
   ],
   "source": [
    "# Check if the same outliers are detected for each GoF measure\n",
    "print(err_outliers)\n",
    "print(std_outliers)"
   ]
  },
  {
   "cell_type": "code",
   "execution_count": 14,
   "metadata": {},
   "outputs": [],
   "source": [
    "# Combine outlier list across GoF metrics\n",
    "bad_inds = set(err_outliers + std_outliers)"
   ]
  },
  {
   "cell_type": "code",
   "execution_count": 15,
   "metadata": {},
   "outputs": [
    {
     "name": "stdout",
     "output_type": "stream",
     "text": [
      "DROPPING 1 OUTLIER\n",
      "\tRemoving index #  21\n"
     ]
    }
   ],
   "source": [
    "# Drop outlier GoF values\n",
    "if drop_outliers:\n",
    "    print('DROPPING {} OUTLIER'.format(len(bad_inds)))\n",
    "    for bad_ind in bad_inds:\n",
    "        print('\\tRemoving index # ', bad_ind)\n",
    "        try:\n",
    "            YNG_INDS.remove(bad_ind)\n",
    "            OLD_INDS.remove(bad_ind)\n",
    "        except: pass"
   ]
  },
  {
   "cell_type": "markdown",
   "metadata": {},
   "source": [
    "## Aperiodic Comparisons"
   ]
  },
  {
   "cell_type": "code",
   "execution_count": 16,
   "metadata": {},
   "outputs": [
    {
     "data": {
      "image/png": "[encoded data removed]",
      "text/plain": [
       "<Figure size 144x288 with 1 Axes>"
      ]
     },
     "metadata": {
      "image/png": {
       "height": 252,
       "width": 176
      },
      "needs_background": "light"
     },
     "output_type": "display_data"
    }
   ],
   "source": [
    "# Plot exponent comparison\n",
    "plot_comp_scatter(exps, 'Exponent', save_fig=save_fig, save_name='exponents')"
   ]
  },
  {
   "cell_type": "code",
   "execution_count": 17,
   "metadata": {},
   "outputs": [
    {
     "name": "stdout",
     "output_type": "stream",
     "text": [
      "Exponent t-test: \t  7.2386 \t 0.0000\n",
      "Mean Difference: \t 0.6843925394143859\n"
     ]
    }
   ],
   "source": [
    "# Statistically test exponent difference\n",
    "print_stat('Exponent t-test', *ttest_ind(exps[YNG_INDS], exps[OLD_INDS]))\n",
    "print('Mean Difference: \\t', np.mean(exps[YNG_INDS]) - np.mean(exps[OLD_INDS]))"
   ]
  },
  {
   "cell_type": "code",
   "execution_count": 18,
   "metadata": {},
   "outputs": [
    {
     "data": {
      "image/png": "[encoded data removed]",
      "text/plain": [
       "<Figure size 144x288 with 1 Axes>"
      ]
     },
     "metadata": {
      "image/png": {
       "height": 252,
       "width": 184
      },
      "needs_background": "light"
     },
     "output_type": "display_data"
    }
   ],
   "source": [
    "# Plot offset comparison\n",
    "plot_comp_scatter(offs, 'Offset', save_fig=save_fig, save_name='Offsets')"
   ]
  },
  {
   "cell_type": "code",
   "execution_count": 19,
   "metadata": {},
   "outputs": [
    {
     "name": "stdout",
     "output_type": "stream",
     "text": [
      "Offset t-test: \t  6.8150 \t 0.0000\n",
      "Mean Difference: \t 0.8819863462390032\n"
     ]
    }
   ],
   "source": [
    "# Statistically test offset difference\n",
    "print_stat('Offset t-test', *ttest_ind(offs[YNG_INDS], offs[OLD_INDS]))\n",
    "print('Mean Difference: \\t', np.mean(offs[YNG_INDS]) - np.mean(offs[OLD_INDS]))"
   ]
  },
  {
   "cell_type": "markdown",
   "metadata": {},
   "source": [
    "## Periodic Comparisons"
   ]
  },
  {
   "cell_type": "markdown",
   "metadata": {},
   "source": [
    "### Check total alpha power\n",
    "\n",
    "'Total alpha power', from the FOOOF model, is the model results of the aperiodic + the alpha peak amplitude."
   ]
  },
  {
   "cell_type": "code",
   "execution_count": 20,
   "metadata": {},
   "outputs": [],
   "source": [
    "# Set the channel to extract alpha power from\n",
    "ch_ind = 28 # Oz\n",
    "\n",
    "# Collect the aperiodic parameters for each subject\n",
    "oz_aps = np.empty(shape=[len(fgs), 2])\n",
    "for ind, fg in enumerate(fgs):\n",
    "    oz_aps[ind, :] = fg.get_params('aperiodic_params')[ch_ind]\n",
    "\n",
    "# Calculate total alpha as the value of the BG function at alpha CF, please the amplitude of the alpha peak\n",
    "tot_alphas = []\n",
    "for bg, cf, amp in zip(oz_aps, alphas[:, 0], alphas[:, 1]):\n",
    "\n",
    "    # If there is no alpha, get the aperiodic component at CF of 10, and set alpha amplitude to zero\n",
    "    if np.isnan(cf):\n",
    "        cf, amp = 10, 0\n",
    "    \n",
    "    # Calculate the value of the aperiodic function at the alpha-CF, and add the alpha-amp\n",
    "    tot_alphas.append(expo_nk_function(np.array([cf]), *bg)[0] + amp)\n",
    "    \n",
    "tot_alphas = np.array(tot_alphas)"
   ]
  },
  {
   "cell_type": "code",
   "execution_count": 21,
   "metadata": {},
   "outputs": [
    {
     "data": {
      "image/png": "[encoded data removed]",
      "text/plain": [
       "<Figure size 144x288 with 1 Axes>"
      ]
     },
     "metadata": {
      "image/png": {
       "height": 252,
       "width": 191
      },
      "needs_background": "light"
     },
     "output_type": "display_data"
    }
   ],
   "source": [
    "# Plot total alpha - total power values from the FOOOF model at individualzed alpha CFs\n",
    "#  Note: this is equivalent to doing an individualed alpha frequency analysis, comparing total power\n",
    "plot_comp_scatter(tot_alphas, 'Total Alpha', save_fig=save_fig, save_name='TotalAlpha')"
   ]
  },
  {
   "cell_type": "code",
   "execution_count": 22,
   "metadata": {},
   "outputs": [
    {
     "name": "stdout",
     "output_type": "stream",
     "text": [
      "Total Alpha t-test: \t  2.8001 \t 0.0092\n",
      "Mean Difference: \t 0.45104318321427783\n"
     ]
    }
   ],
   "source": [
    "print_stat('Total Alpha t-test', *ttest_ind(tot_alphas[YNG_INDS], tot_alphas[OLD_INDS]))\n",
    "print('Mean Difference: \\t', np.mean(tot_alphas[YNG_INDS]) - np.mean(tot_alphas[OLD_INDS]))"
   ]
  },
  {
   "cell_type": "markdown",
   "metadata": {},
   "source": [
    "### Check number of extracted oscillations"
   ]
  },
  {
   "cell_type": "code",
   "execution_count": 23,
   "metadata": {},
   "outputs": [],
   "source": [
    "ch_ind = 28  # Oz\n",
    "n_oscs = []\n",
    "for fg in fgs:\n",
    "    n_oscs.append(fg.get_results()[ch_ind].peak_params.shape[0])\n",
    "n_oscs = np.array(n_oscs)"
   ]
  },
  {
   "cell_type": "code",
   "execution_count": 24,
   "metadata": {},
   "outputs": [
    {
     "name": "stdout",
     "output_type": "stream",
     "text": [
      "# Oscs Yng: 4.1875\n",
      "# Oscs Old: 4.285714285714286\n",
      "\n",
      "# Oscs Diff: \t -0.2390 \t 0.8128\n"
     ]
    }
   ],
   "source": [
    "print('# Oscs Yng:', np.mean(n_oscs[YNG_INDS]))\n",
    "print('# Oscs Old:', np.mean(n_oscs[OLD_INDS]))\n",
    "print_stat('\\n# Oscs Diff', *ttest_ind(n_oscs[YNG_INDS], n_oscs[OLD_INDS]))"
   ]
  },
  {
   "cell_type": "markdown",
   "metadata": {},
   "source": [
    "### Statistically Compare Peak Parameters"
   ]
  },
  {
   "cell_type": "code",
   "execution_count": 25,
   "metadata": {},
   "outputs": [
    {
     "name": "stdout",
     "output_type": "stream",
     "text": [
      "Number of subjects with no alpha:\n"
     ]
    },
    {
     "ename": "NameError",
     "evalue": "name 'dat' is not defined",
     "output_type": "error",
     "traceback": [
      "\u001b[0;31m---------------------------------------------------------------------------\u001b[0m",
      "\u001b[0;31mNameError\u001b[0m                                 Traceback (most recent call last)",
      "\u001b[0;32m<ipython-input-25-e20c78d768ee>\u001b[0m in \u001b[0;36m<module>\u001b[0;34m\u001b[0m\n\u001b[1;32m      1\u001b[0m \u001b[0;31m# Check how many subjects don't have alpha\u001b[0m\u001b[0;34m\u001b[0m\u001b[0;34m\u001b[0m\u001b[0;34m\u001b[0m\u001b[0m\n\u001b[1;32m      2\u001b[0m \u001b[0mprint\u001b[0m\u001b[0;34m(\u001b[0m\u001b[0;34m'Number of subjects with no alpha:'\u001b[0m\u001b[0;34m)\u001b[0m\u001b[0;34m\u001b[0m\u001b[0;34m\u001b[0m\u001b[0m\n\u001b[0;32m----> 3\u001b[0;31m \u001b[0mprint\u001b[0m\u001b[0;34m(\u001b[0m\u001b[0;34m'\\t YNG:\\t'\u001b[0m\u001b[0;34m,\u001b[0m \u001b[0msum\u001b[0m\u001b[0;34m(\u001b[0m\u001b[0mnp\u001b[0m\u001b[0;34m.\u001b[0m\u001b[0misnan\u001b[0m\u001b[0;34m(\u001b[0m\u001b[0mdat\u001b[0m\u001b[0;34m[\u001b[0m\u001b[0mYNG_INDS\u001b[0m\u001b[0;34m]\u001b[0m\u001b[0;34m)\u001b[0m\u001b[0;34m)\u001b[0m\u001b[0;34m)\u001b[0m\u001b[0;34m\u001b[0m\u001b[0;34m\u001b[0m\u001b[0m\n\u001b[0m\u001b[1;32m      4\u001b[0m \u001b[0mprint\u001b[0m\u001b[0;34m(\u001b[0m\u001b[0;34m'\\t OLD: \\t'\u001b[0m\u001b[0;34m,\u001b[0m \u001b[0msum\u001b[0m\u001b[0;34m(\u001b[0m\u001b[0mnp\u001b[0m\u001b[0;34m.\u001b[0m\u001b[0misnan\u001b[0m\u001b[0;34m(\u001b[0m\u001b[0mdat\u001b[0m\u001b[0;34m[\u001b[0m\u001b[0mOLD_INDS\u001b[0m\u001b[0;34m]\u001b[0m\u001b[0;34m)\u001b[0m\u001b[0;34m)\u001b[0m\u001b[0;34m)\u001b[0m\u001b[0;34m\u001b[0m\u001b[0;34m\u001b[0m\u001b[0m\n",
      "\u001b[0;31mNameError\u001b[0m: name 'dat' is not defined"
     ]
    }
   ],
   "source": [
    "# Check how many subjects don't have alpha\n",
    "print('Number of subjects with no alpha:')\n",
    "print('\\t YNG:\\t', sum(np.isnan(dat[YNG_INDS])))\n",
    "print('\\t OLD: \\t', sum(np.isnan(dat[OLD_INDS])))"
   ]
  },
  {
   "cell_type": "code",
   "execution_count": null,
   "metadata": {},
   "outputs": [],
   "source": [
    "# Check differences in alpha measures, between groups\n",
    "for d_ind, label in zip([0, 1, 2], ['CF', 'PW', 'BW']):\n",
    "\n",
    "    # Select data\n",
    "    dat = alphas[:, d_ind]\n",
    "    you_dat = list(dat[YNG_INDS][~np.isnan(dat[YNG_INDS])])# + [0] * sum(np.isnan(dat[YNG_INDS]))\n",
    "    old_dat = list(dat[OLD_INDS][~np.isnan(dat[OLD_INDS])])# + [0] * sum(np.isnan(dat[OLD_INDS]))\n",
    "    \n",
    "    # Statistically compare and check average difference between groups\n",
    "    print(label)\n",
    "    print_stat('\\tt-test', *ttest_ind(you_dat, old_dat))\n",
    "    print('\\tMean Diff: \\t  {:1.3f}'.format(np.mean(you_dat - np.mean(old_dat))))"
   ]
  },
  {
   "cell_type": "markdown",
   "metadata": {},
   "source": [
    "### Alpha - Center Frequency"
   ]
  },
  {
   "cell_type": "code",
   "execution_count": null,
   "metadata": {},
   "outputs": [],
   "source": [
    "plot_comp_scatter(alphas[:, 0], 'Alpha CF', save_fig=save_fig, save_name='AlphaCF')"
   ]
  },
  {
   "cell_type": "markdown",
   "metadata": {},
   "source": [
    "### Alpha - Power"
   ]
  },
  {
   "cell_type": "code",
   "execution_count": null,
   "metadata": {},
   "outputs": [],
   "source": [
    "plot_comp_scatter(alphas[:, 1], 'Alpha PW', save_fig=save_fig, save_name='AlphaPW')"
   ]
  },
  {
   "cell_type": "markdown",
   "metadata": {},
   "source": [
    "### Alpha - Bandwidth"
   ]
  },
  {
   "cell_type": "code",
   "execution_count": null,
   "metadata": {},
   "outputs": [],
   "source": [
    "plot_comp_scatter(alphas[:, 2], 'Alpha BW', save_fig=save_fig, save_name='AlphaBW')"
   ]
  },
  {
   "cell_type": "markdown",
   "metadata": {},
   "source": [
    "### Alpha Oscillations - Individual Variation"
   ]
  },
  {
   "cell_type": "code",
   "execution_count": null,
   "metadata": {},
   "outputs": [],
   "source": [
    "plot_oscillations(alphas[YNG_INDS, :], save_fig=save_fig, save_name='YoungAlphas')"
   ]
  },
  {
   "cell_type": "code",
   "execution_count": null,
   "metadata": {},
   "outputs": [],
   "source": [
    "plot_oscillations(alphas[OLD_INDS, :], save_fig=save_fig, save_name='OldAlphas')"
   ]
  },
  {
   "cell_type": "markdown",
   "metadata": {},
   "source": [
    "### Overlap of Individualized Alpha with Canonical Band\n",
    "\n"
   ]
  },
  {
   "cell_type": "code",
   "execution_count": null,
   "metadata": {},
   "outputs": [],
   "source": [
    "def calc_overlaps(alphas):\n",
    "    \"\"\"\n",
    "    The approach to do this is taken from:\n",
    "    https://stackoverflow.com/questions/32551610/overlapping-probability-of-two-normal-distribution-with-scipy\n",
    "    \"\"\"\n",
    "\n",
    "    # Note: current approach presumes no NaNs\n",
    "    overlaps = []\n",
    "    mean, std = 10, 2\n",
    "\n",
    "    for alpha in alphas:\n",
    "\n",
    "        # Get individial CF - keep BW @ 2\n",
    "        ind_mean, ind_std = alpha[0], 2\n",
    "\n",
    "        # Normalize all deviations from canonical to be lower than 10 Hz\n",
    "        if ind_mean <= mean:\n",
    "            m1, std1, m2, std2 = ind_mean, ind_std, mean, std\n",
    "            #flip = False\n",
    "        else:\n",
    "            m1, std1, m2, std2 = mean, std, ind_mean, ind_std\n",
    "            #flip = True    \n",
    "\n",
    "        intersect = get_intersect(m1, m2, std1, std2)\n",
    "        overlap = get_overlap(intersect, m1, m2, std1, std2)\n",
    "        \n",
    "#         if flip:\n",
    "#             overlap = 1 - overlap\n",
    "#         else:\n",
    "#             overlap = -(1 - overlap)\n",
    "        \n",
    "        overlaps.append(overlap)\n",
    "\n",
    "    overlaps = np.array(overlaps)\n",
    "    \n",
    "    return overlaps"
   ]
  },
  {
   "cell_type": "code",
   "execution_count": null,
   "metadata": {},
   "outputs": [],
   "source": [
    "overlaps = calc_overlaps(alphas)"
   ]
  },
  {
   "cell_type": "code",
   "execution_count": null,
   "metadata": {},
   "outputs": [],
   "source": [
    "# Check average (overall) of overlaps\n",
    "print('ALL avg overlap: ', np.mean(np.abs(overlaps)), '\\n')\n",
    "\n",
    "# Check average per yng & old group, and test difference\n",
    "print('YNG avg overlap:', np.mean(overlaps[YNG_INDS]))\n",
    "print('OLD avg overlap:', np.mean(overlaps[OLD_INDS]))\n",
    "\n",
    "print_stat('\\nDiff Overlap:', *ttest_ind(overlaps[YNG_INDS], overlaps[OLD_INDS]))"
   ]
  },
  {
   "cell_type": "code",
   "execution_count": null,
   "metadata": {},
   "outputs": [],
   "source": [
    "plot_comp_scatter(overlaps, 'Alpha Overlaps', save_fig=save_fig, save_name='AlphaOverlaps')"
   ]
  },
  {
   "cell_type": "code",
   "execution_count": null,
   "metadata": {},
   "outputs": [],
   "source": [
    "# Calculate the differences per subject from a 10 Hz center\n",
    "overlap_diffs = alphas[:, 0] - 10\n",
    "yng_overlaps = overlap_diffs[YNG_INDS]\n",
    "old_overlaps = overlap_diffs[OLD_INDS]"
   ]
  },
  {
   "cell_type": "code",
   "execution_count": null,
   "metadata": {},
   "outputs": [],
   "source": [
    "print('Directional Differences from 10 Hz Center, by Group')\n",
    "print('YNG-Diff {: 1.2f}'.format(np.mean(yng_overlaps)))\n",
    "print('OLD-Diff {: 1.2f}'.format(np.mean(old_overlaps)))\n",
    "print('\\n')\n",
    "print('Absolute Differences from 10 Hz Center, by Group')\n",
    "print('YNG-Diff {: 1.2f}'.format(np.mean(np.abs(yng_overlaps))))\n",
    "print('OLD-Diff {: 1.2f}'.format(np.mean(np.abs(old_overlaps))))"
   ]
  },
  {
   "cell_type": "markdown",
   "metadata": {},
   "source": [
    "#### Plot Overlap\n",
    "\n",
    "Plot for an example case, using the average deviation from 10 Hz. "
   ]
  },
  {
   "cell_type": "code",
   "execution_count": null,
   "metadata": {},
   "outputs": [],
   "source": [
    "# Get the average deviation from center of 10 Hz\n",
    "avg_deviation = np.mean(np.abs(alphas[:, 0] - 10))"
   ]
  },
  {
   "cell_type": "code",
   "execution_count": null,
   "metadata": {},
   "outputs": [],
   "source": [
    "# Compare canonical 10 +/- 2, with a gaussian centered with average deviation\n",
    "#  Note: in this approach, average deviation shifted below 10 Hz\n",
    "#    This is arbitrary - still captures deviations above 10 - could be equivalently calculated that way\n",
    "m1, m2, std1, std2 = 10-avg_deviation, 10, 2, 2\n",
    "r = get_intersect(m1, m2, std1, std2)\n",
    "\n",
    "# Check the overlap of the 'average' subject\n",
    "print(get_overlap(r, m1, m2, std1, std2))"
   ]
  },
  {
   "cell_type": "code",
   "execution_count": null,
   "metadata": {},
   "outputs": [],
   "source": [
    "# Plot the overlap of canonical and average shifted alpha\n",
    "plot_overlap(m1, m2, std1, std2, save_fig=save_fig, save_name='CanonicalCompare')"
   ]
  },
  {
   "cell_type": "markdown",
   "metadata": {},
   "source": [
    "### Compare 'Frequency Specific' Differences from Aperiodic"
   ]
  },
  {
   "cell_type": "code",
   "execution_count": null,
   "metadata": {},
   "outputs": [],
   "source": [
    "# Plot aperiodics with a the comparison of differences at each frequency\n",
    "plot_aperiodic(aps, save_fig=save_fig, save_name='Aperiodics')"
   ]
  },
  {
   "cell_type": "markdown",
   "metadata": {},
   "source": [
    "### Compare 'Peaks' from Aperiodic\n",
    "\n",
    "Question: compare with just exponent, or with exponent & offset?"
   ]
  },
  {
   "cell_type": "code",
   "execution_count": null,
   "metadata": {},
   "outputs": [],
   "source": [
    "# Pull out the difference in power, at 10 Hz, arising from BG difference\n",
    "exp_alphas = []\n",
    "for ap in aps:\n",
    "    exp_alphas.append(expo_nk_function(np.array([10]), *ap)[0])\n",
    "    #exp_alphas.append(expo_nk_function(np.array([10]), 1, ap[1])[0])\n",
    "    #exp_alphas.append(expo_nk_function(np.array([10]), ap[0], 1)[0])\n",
    "exp_alphas = np.array(exp_alphas)"
   ]
  },
  {
   "cell_type": "code",
   "execution_count": null,
   "metadata": {},
   "outputs": [],
   "source": [
    "# Compare the 'alpha' difference - coming only from aperiodic differences\n",
    "plot_comp_scatter(exp_alphas, \"AP 'Alpha'\", save_fig=save_fig, save_name='APAlpha')"
   ]
  },
  {
   "cell_type": "code",
   "execution_count": null,
   "metadata": {},
   "outputs": [],
   "source": [
    "# Statistically test difference in 'AP-Alpha'\n",
    "print_stat('AP-Al Diff', *ttest_ind(exp_alphas[YNG_INDS], exp_alphas[OLD_INDS]))"
   ]
  },
  {
   "cell_type": "markdown",
   "metadata": {},
   "source": [
    "#### Compare across all frequencies\n",
    "\n",
    "Note: Old version of figure. "
   ]
  },
  {
   "cell_type": "code",
   "execution_count": null,
   "metadata": {},
   "outputs": [],
   "source": [
    "# Calculate aperiodic components of power spectra for each subject\n",
    "freqs = range(2, 50, 2)\n",
    "model_aps = []\n",
    "for ap in aps:\n",
    "    model_aps.append(expo_nk_function(np.array(freqs), *ap))\n",
    "    #model_aps.append(expo_nk_function(np.array(freqs), 0, ap[1]))\n",
    "    #model_aps.append(expo_nk_function(np.array(freqs), ap[0], 1))\n",
    "model_aps = np.array(model_aps)"
   ]
  },
  {
   "cell_type": "code",
   "execution_count": null,
   "metadata": {},
   "outputs": [],
   "source": [
    "# Calculate average difference per frequency, and plot comparison\n",
    "avg_diffs, p_vals = calc_ap_comps(freqs, model_aps)\n",
    "plot_ap_band_diff(freqs, avg_diffs, p_vals)"
   ]
  },
  {
   "cell_type": "markdown",
   "metadata": {},
   "source": [
    "## Controls - check errors\n",
    "\n",
    "Check that there isn't a systematic different in model fit error / R^2 that could explain differences"
   ]
  },
  {
   "cell_type": "code",
   "execution_count": null,
   "metadata": {},
   "outputs": [],
   "source": [
    "# Compare errors between groups\n",
    "plot_comp_scatter(errs)"
   ]
  },
  {
   "cell_type": "code",
   "execution_count": null,
   "metadata": {},
   "outputs": [],
   "source": [
    "# Compare errors between groups\n",
    "plot_comp_scatter(r2s)"
   ]
  },
  {
   "cell_type": "code",
   "execution_count": null,
   "metadata": {},
   "outputs": [],
   "source": [
    "# Statistically compare errors and R^2 between groups\n",
    "print_stat('Errors', *ttest_ind(errs[YNG_INDS], errs[OLD_INDS]))\n",
    "print_stat('R-squared', *ttest_ind(r2s[YNG_INDS], r2s[OLD_INDS]))"
   ]
  },
  {
   "cell_type": "code",
   "execution_count": null,
   "metadata": {},
   "outputs": [],
   "source": [
    "# Check the correlation between errors and R^2s\n",
    "print_stat('Errs & R2s ', *pearsonr(errs, r2s))"
   ]
  },
  {
   "cell_type": "markdown",
   "metadata": {},
   "source": [
    "## Correlations between FOOOF Features"
   ]
  },
  {
   "cell_type": "code",
   "execution_count": null,
   "metadata": {},
   "outputs": [],
   "source": [
    "# Seperate out Oz BG parameters\n",
    "oz_offs = oz_aps[:, 0]; oz_exps = oz_aps[:, 1]"
   ]
  },
  {
   "cell_type": "code",
   "execution_count": null,
   "metadata": {},
   "outputs": [],
   "source": [
    "# Correlation between aperiodic features\n",
    "print_stat('Cz - Off & Sl ', *pearsonr(offs, exps))\n",
    "print_stat('Oz - Off & Sl ', *pearsonr(oz_offs, oz_exps))"
   ]
  },
  {
   "cell_type": "code",
   "execution_count": null,
   "metadata": {},
   "outputs": [],
   "source": [
    "# Correlations between oscillation features\n",
    "print_stat('Osc - Cf  & Amp', *pearsonr(alphas[:, 0], alphas[:, 1]))\n",
    "print_stat('Osc - Cf  & BW ', *pearsonr(alphas[:, 0], alphas[:, 2]))\n",
    "print_stat('Osc - Amp & BW ', *pearsonr(alphas[:, 1], alphas[:, 2]))"
   ]
  },
  {
   "cell_type": "code",
   "execution_count": null,
   "metadata": {},
   "outputs": [],
   "source": [
    "# Correlations between exponent and oscillation features\n",
    "print_stat('CF  & Sl ', *pearsonr(alphas[:, 0], oz_exps))\n",
    "print_stat('Amp & Sl ', *pearsonr(alphas[:, 1], oz_exps))\n",
    "print_stat('BW  & Sl ', *pearsonr(alphas[:, 2], oz_exps))"
   ]
  },
  {
   "cell_type": "code",
   "execution_count": null,
   "metadata": {},
   "outputs": [],
   "source": [
    "# Oz alpha with Cz exponent (?)\n",
    "print_stat('Oz CF  & Cz Sl', *pearsonr(alphas[:, 0], exps))\n",
    "print_stat('Oz Amp & Cz Sl', *pearsonr(alphas[:, 1], exps))\n",
    "print_stat('Oz BW  & Cz Sl', *pearsonr(alphas[:, 2], exps))"
   ]
  },
  {
   "cell_type": "code",
   "execution_count": null,
   "metadata": {},
   "outputs": [],
   "source": [
    "# Correlation between FOOOF outputs and error\n",
    "print_stat('Oz Cf  & Err', *pearsonr(errs, alphas[:, 0]))\n",
    "print_stat('Oz Amp & Err', *pearsonr(errs, alphas[:, 1]))\n",
    "print_stat('Oz BW  & Err', *pearsonr(errs, alphas[:, 2]))\n",
    "print_stat('Oz Sl  & Err', *pearsonr(errs, oz_exps))"
   ]
  },
  {
   "cell_type": "code",
   "execution_count": null,
   "metadata": {},
   "outputs": [],
   "source": [
    "# Correlation between FOOOF outputs and r2s\n",
    "print_stat('Oz Cf   & R^2', *pearsonr(r2s, alphas[:, 0]))\n",
    "print_stat('Oz Amp  & R^2', *pearsonr(r2s, alphas[:, 1]))\n",
    "print_stat('Oz BW   & R^2', *pearsonr(r2s, alphas[:, 2]))\n",
    "print_stat('Oz Sl   & R^2', *pearsonr(r2s, oz_exps))"
   ]
  }
 ],
 "metadata": {
  "kernelspec": {
   "display_name": "Python 3",
   "language": "python",
   "name": "python3"
  },
  "language_info": {
   "codemirror_mode": {
    "name": "ipython",
    "version": 3
   },
   "file_extension": ".py",
   "mimetype": "text/x-python",
   "name": "python",
   "nbconvert_exporter": "python",
   "pygments_lexer": "ipython3",
   "version": "3.7.3"
  }
 },
 "nbformat": 4,
 "nbformat_minor": 2
}
