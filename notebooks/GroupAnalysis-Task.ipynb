{
 "cells": [
  {
   "cell_type": "markdown",
   "metadata": {},
   "source": [
    "# Group Analysis - FOOOFed EEG Analysis: Task\n",
    "\n",
    "- Notes / ToDos: \n",
    "    - Check if difference in d's vs. difference in physiology (across loads)?\n",
    "    \n",
    "Overview:\n",
    "- Words\n",
    "- Words \n",
    "- Words"
   ]
  },
  {
   "cell_type": "code",
   "execution_count": 17,
   "metadata": {},
   "outputs": [
    {
     "name": "stdout",
     "output_type": "stream",
     "text": [
      "The autoreload extension is already loaded. To reload it, use:\n",
      "  %reload_ext autoreload\n"
     ]
    }
   ],
   "source": [
    "%matplotlib inline\n",
    "%config InlineBackend.figure_format='retina'\n",
    "\n",
    "%load_ext autoreload"
   ]
  },
  {
   "cell_type": "code",
   "execution_count": 10,
   "metadata": {
    "collapsed": true
   },
   "outputs": [],
   "source": [
    "from os import listdir\n",
    "from os.path import join as pjoin\n",
    "\n",
    "import numpy as np\n",
    "import pandas as pd\n",
    "import matplotlib.pyplot as plt\n",
    "\n",
    "from scipy.stats import ttest_ind, sem, pearsonr\n",
    "\n",
    "\n",
    "import pandas as pd\n",
    "\n",
    "import patsy\n",
    "import statsmodels.api as sm\n",
    "\n",
    "\n",
    "\n",
    "\n",
    "from fooof import FOOOFGroup\n",
    "from fooof.analysis import get_band_peak_group\n",
    "from fooof.core.funcs import gaussian_function\n",
    "from fooof.core.funcs import expo_nk_function"
   ]
  },
  {
   "cell_type": "code",
   "execution_count": 18,
   "metadata": {
    "collapsed": true
   },
   "outputs": [],
   "source": [
    "# Import custom code for this analysis\n",
    "% autoreload 2\n",
    "from io import *\n",
    "from plts import *\n",
    "from utils import *"
   ]
  },
  {
   "cell_type": "markdown",
   "metadata": {},
   "source": [
    "# Settings"
   ]
  },
  {
   "cell_type": "code",
   "execution_count": 12,
   "metadata": {},
   "outputs": [
    {
     "name": "stdout",
     "output_type": "stream",
     "text": [
      "Number of young subjects:   17\n",
      "Number of  old  subjects:   14\n"
     ]
    }
   ],
   "source": [
    "# Set path to load results from\n",
    "res_path = '/Users/tom/Documents/Research/1-Projects/fooof/2-Data/Results/G2'\n",
    "\n",
    "# Set indices to separate groups\n",
    "from settings import YNG_INDS, OLD_INDS\n",
    "\n",
    "# Set average function to use\n",
    "avg_func = np.nanmean\n",
    "#avg_func = np.nanmedian\n",
    "\n",
    "# Wether to save out plots or not\n",
    "save_fig = False\n",
    "\n",
    "print('Number of young subjects:  ', len(YNG_INDS))\n",
    "print('Number of  old  subjects:  ', len(OLD_INDS))"
   ]
  },
  {
   "cell_type": "code",
   "execution_count": 13,
   "metadata": {},
   "outputs": [],
   "source": [
    "# Data settings\n",
    "srate = 512\n",
    "tmin, tmax = -0.85, 1.1\n",
    "times = np.arange(tmin, tmax, 1/srate)\n",
    "seg_times = [(-0.85, -0.35), (0.1, 0.6), (0.5, 1.0)]\n",
    "n_subjs = 31"
   ]
  },
  {
   "cell_type": "code",
   "execution_count": 14,
   "metadata": {
    "collapsed": true
   },
   "outputs": [],
   "source": [
    "### Check dropped trials"
   ]
  },
  {
   "cell_type": "code",
   "execution_count": 15,
   "metadata": {},
   "outputs": [
    {
     "name": "stdout",
     "output_type": "stream",
     "text": [
      "SubNum \t\t # Dropped Trials \t # Dropped Components\n",
      "0 \t\t 5 \t\t\t 3\n",
      "1 \t\t 15 \t\t\t 4\n",
      "2 \t\t 1 \t\t\t 0\n",
      "3 \t\t 13 \t\t\t 1\n",
      "4 \t\t 18 \t\t\t 2\n",
      "5 \t\t 0 \t\t\t 7\n",
      "6 \t\t 28 \t\t\t 6\n",
      "7 \t\t 7 \t\t\t 0\n",
      "8 \t\t 29 \t\t\t 4\n",
      "9 \t\t 4 \t\t\t 4\n",
      "10 \t\t 2 \t\t\t 3\n",
      "11 \t\t 0 \t\t\t 4\n",
      "12 \t\t 14 \t\t\t 7\n",
      "13 \t\t 2 \t\t\t 2\n",
      "14 \t\t 2 \t\t\t 3\n",
      "15 \t\t 0 \t\t\t 5\n",
      "16 \t\t 3 \t\t\t 3\n",
      "17 \t\t 11 \t\t\t 0\n",
      "18 \t\t 2 \t\t\t 2\n",
      "19 \t\t 109 \t\t\t 3\n",
      "20 \t\t 38 \t\t\t 6\n",
      "21 \t\t 14 \t\t\t 4\n",
      "22 \t\t 0 \t\t\t 2\n",
      "23 \t\t 0 \t\t\t 4\n",
      "24 \t\t 1 \t\t\t 3\n",
      "25 \t\t 15 \t\t\t 0\n",
      "26 \t\t 4 \t\t\t 3\n",
      "27 \t\t 12 \t\t\t 4\n",
      "28 \t\t 41 \t\t\t 4\n",
      "29 \t\t 34 \t\t\t 5\n",
      "30 \t\t 0 \t\t\t 3\n"
     ]
    }
   ],
   "source": [
    "# Load dropped trials & components\n",
    "dropped_trials = np.load(pjoin(res_path, 'Group', 'dropped_trials.npy'))\n",
    "dropped_components = np.load(pjoin(res_path, 'Group', 'dropped_components.npy'))\n",
    "\n",
    "# Check dropped trials for each subject\n",
    "print('SubNum \\t\\t # Dropped Trials \\t # Dropped Components')\n",
    "for ind, trials, components in zip(range(n_subjs), dropped_trials, dropped_components):\n",
    "    temp_trials = trials[np.nonzero(trials)]\n",
    "    temp_comps = components[np.nonzero(components)]\n",
    "    print(ind, '\\t\\t', len(temp_trials), '\\t\\t\\t', len(temp_comps))"
   ]
  },
  {
   "cell_type": "code",
   "execution_count": null,
   "metadata": {
    "collapsed": true
   },
   "outputs": [],
   "source": []
  },
  {
   "cell_type": "code",
   "execution_count": null,
   "metadata": {
    "collapsed": true
   },
   "outputs": [],
   "source": []
  },
  {
   "cell_type": "markdown",
   "metadata": {},
   "source": [
    "## Group FOOOFing - Trial Averaged Data\n",
    "\n",
    "- Ipsi & Contra\n",
    "\n",
    "`all_alphas` & `all_slopes` have the shape [n_loads, n_subjs, n_times]"
   ]
  },
  {
   "cell_type": "code",
   "execution_count": 16,
   "metadata": {},
   "outputs": [],
   "source": [
    "all_slopes, all_alphas = load_fooof_task(res_path)"
   ]
  },
  {
   "cell_type": "markdown",
   "metadata": {},
   "source": [
    "# IT'S A MESS"
   ]
  },
  {
   "cell_type": "code",
   "execution_count": null,
   "metadata": {
    "collapsed": true
   },
   "outputs": [],
   "source": [
    "def all_areas(dat):\n",
    "    outs = []\n",
    "    for dd in dat:\n",
    "        outs.append(area_gauss(dd[1], dd[2]))\n",
    "    return np.array(outs)\n",
    "\n",
    "def area_gauss(amp, bw):\n",
    "    return (amp * bw/2) / 0.3989"
   ]
  },
  {
   "cell_type": "code",
   "execution_count": null,
   "metadata": {
    "collapsed": true
   },
   "outputs": [],
   "source": [
    "qq = np.apply_over_axes(area_gauss, all_alphas, axes)\n",
    "\n",
    "#qq = np.nanmean(all_alphas, axis=0)\n",
    "qq = all_alphas[1, :, :]\n",
    "rr = np.nanmean(qq, axis=0)"
   ]
  },
  {
   "cell_type": "code",
   "execution_count": null,
   "metadata": {
    "collapsed": true
   },
   "outputs": [],
   "source": [
    "from scipy.stats import ttest_1samp"
   ]
  },
  {
   "cell_type": "code",
   "execution_count": null,
   "metadata": {
    "collapsed": true
   },
   "outputs": [],
   "source": [
    "ww = qq[:, 1] - qq[:, 0]\n",
    "\n",
    "#ww[np.isnan(ww)] = 0"
   ]
  },
  {
   "cell_type": "code",
   "execution_count": null,
   "metadata": {
    "collapsed": true
   },
   "outputs": [],
   "source": [
    "ttest_1samp(ww[~np.isnan(ww)][OLD_INDS], 0)"
   ]
  },
  {
   "cell_type": "code",
   "execution_count": null,
   "metadata": {
    "collapsed": true
   },
   "outputs": [],
   "source": [
    "np.nanmedian(ww[YNG_INDS])"
   ]
  },
  {
   "cell_type": "code",
   "execution_count": null,
   "metadata": {
    "collapsed": true
   },
   "outputs": [],
   "source": [
    "np.nanmedian(ww[OLD_INDS])"
   ]
  },
  {
   "cell_type": "code",
   "execution_count": null,
   "metadata": {
    "collapsed": true
   },
   "outputs": [],
   "source": [
    "np.nanmedian(ww)"
   ]
  },
  {
   "cell_type": "code",
   "execution_count": null,
   "metadata": {
    "collapsed": true
   },
   "outputs": [],
   "source": [
    "ww[OLD_INDS]"
   ]
  },
  {
   "cell_type": "code",
   "execution_count": null,
   "metadata": {
    "collapsed": true
   },
   "outputs": [],
   "source": [
    "all_alphas[:, 12, :]"
   ]
  },
  {
   "cell_type": "code",
   "execution_count": null,
   "metadata": {
    "collapsed": true
   },
   "outputs": [],
   "source": []
  },
  {
   "cell_type": "markdown",
   "metadata": {},
   "source": [
    "# Maybe there's some science here\n",
    "\n",
    "Somewhere."
   ]
  },
  {
   "cell_type": "markdown",
   "metadata": {},
   "source": [
    "## Check Behaviour & Trial EPhys Corrs\n",
    "\n",
    "- Baseline measures\n",
    "- Task related 'reactivity' measures\n",
    "\n",
    "Note: all_slopes & all_alphas have shape of [n_loads, n_subjs, n_times]"
   ]
  },
  {
   "cell_type": "code",
   "execution_count": null,
   "metadata": {
    "collapsed": true
   },
   "outputs": [],
   "source": [
    "# Average across analytic alpha measures to get canonical alpha measure\n",
    "\n",
    "seg_masks = []\n",
    "for seg in seg_times:\n",
    "    seg_masks.append(np.logical_and(times >= seg[0], times <= seg[1]))\n",
    "\n",
    "canalpha = np.zeros_like(all_alphas)\n",
    "for subi, subj_dat in enumerate(canonical_group):\n",
    "    for lodi in range(3):\n",
    "        for segi, mask in enumerate(seg_masks):\n",
    "            canalpha[lodi, subi, segi] = np.mean(subj_dat[lodi, mask])\n",
    "            \n",
    "#from scipy.cluster.vq import whiten\n",
    "#wh_canalpha = whiten(canalpha)"
   ]
  },
  {
   "cell_type": "code",
   "execution_count": null,
   "metadata": {
    "collapsed": true
   },
   "outputs": [],
   "source": [
    "# Predict behaviour from 'absolute' FOOOF trial output measures\n",
    "#   Note: as defined this model has three measures per subject, one for each load\n",
    "\n",
    "# Settings\n",
    "t_ind = 0\n",
    "\n",
    "# Build the dataframe\n",
    "df = pd.DataFrame()\n",
    "df['slope'] = all_slopes[:, :, t_ind].flatten()\n",
    "\n",
    "df['alpha'] = all_alphas[:, :, t_ind].flatten()\n",
    "#df['alpha'] = canalpha[:, :, t_ind].flatten()\n",
    "\n",
    "df['behav'] = behav_dat[\"d'\"].values\n",
    "df['age'] = behav_dat['Age'].values\n",
    "\n",
    "# Specify the model\n",
    "#outcome, predictors = patsy.dmatrices(\"behav ~ slope + alpha + age\", df)\n",
    "outcome, predictors = patsy.dmatrices(\"behav ~ slope * alpha * age\", df)\n",
    "#outcome, predictors = patsy.dmatrices(\"behav ~ age + alpha + slope + alpha:age + slope:age\", df)\n",
    "mod = sm.OLS(outcome, predictors)\n",
    "res = mod.fit()\n",
    "\n",
    "# Check out the results\n",
    "print(res.summary())"
   ]
  },
  {
   "cell_type": "code",
   "execution_count": null,
   "metadata": {
    "collapsed": true
   },
   "outputs": [],
   "source": [
    "# Predict behaviour from 'absolute' FOOOF trial output measures, separetely for each load\n",
    "\n",
    "# Settings\n",
    "t_ind = 0\n",
    "l_ind = 1\n",
    "\n",
    "# Build the dataframe\n",
    "df = pd.DataFrame()\n",
    "df['slope'] = all_slopes[l_ind, :, t_ind].flatten()\n",
    "df['alpha'] = all_alphas[l_ind, :, t_ind].flatten()\n",
    "\n",
    "df['behav'] = behav_dat[behav_dat['Load'] == l_ind+1][\"d'\"].values\n",
    "df['age'] = behav_dat[behav_dat['Load'] == l_ind+1][\"Age\"].values\n",
    "\n",
    "# Specift the model\n",
    "#outcome, predictors = patsy.dmatrices(\"behav ~ slope + alpha + age\", df)\n",
    "#outcome, predictors = patsy.dmatrices(\"behav ~ slope * alpha * age\", df)\n",
    "#outcome, predictors = patsy.dmatrices(\"behav ~ age + alpha + slope + alpha:age + slope:age\", df)\n",
    "mod = sm.OLS(outcome, predictors)\n",
    "res = mod.fit()\n",
    "\n",
    "# Check out the results\n",
    "print(res.summary())"
   ]
  },
  {
   "cell_type": "code",
   "execution_count": null,
   "metadata": {
    "collapsed": true
   },
   "outputs": [],
   "source": [
    "# Predict from absolute FOOOF results, split up by group\n",
    "\n",
    "# Settings\n",
    "group = 'young' # 'young', 'old'\n",
    "group = 'old' \n",
    "t_ind = 1\n",
    "\n",
    "inds = YNG_INDS if group == 'young' else OLD_INDS\n",
    "age_gr = 1 if group == 'young' else 2\n",
    "\n",
    "# Build the dataframe\n",
    "df = pd.DataFrame()\n",
    "df['slope'] = all_slopes[:, inds, t_ind].flatten()\n",
    "df['alpha'] = all_alphas[:, inds, t_ind].flatten()\n",
    "df['behav'] = behav_dat[behav_dat.Age == age_gr][\"d'\"].values\n",
    "\n",
    "# \n",
    "outcome, predictors = patsy.dmatrices(\"behav ~ slope + alpha\", df)\n",
    "mod = sm.OLS(outcome, predictors)\n",
    "res = mod.fit()\n",
    "\n",
    "# Check out the results\n",
    "print(res.summary())"
   ]
  },
  {
   "cell_type": "code",
   "execution_count": null,
   "metadata": {
    "collapsed": true
   },
   "outputs": [],
   "source": [
    "# Check relation between slope and alpha\n",
    "#print(pearsonr(df.sl, df.al))\n",
    "#plt.plot(df.sl, df.al, '.')\n",
    "\n",
    "#print(pearsonr(df.beh, df.al))\n",
    "#plt.plot(df.beh, df.al, '.')\n",
    "\n",
    "#print(pearsonr(df.beh, df.sl))\n",
    "#plt.plot(df.beh, df.sl, '.')"
   ]
  },
  {
   "cell_type": "code",
   "execution_count": null,
   "metadata": {
    "collapsed": true
   },
   "outputs": [],
   "source": [
    "# Check correlation between slope & d', and alpha & d' - for a specific load and time point\n",
    "\n",
    "# Set which load and time point to use\n",
    "l_ind = 0\n",
    "t_ind = 0\n",
    "\n",
    "print_stat(\"Sl-Lo-d'\", *pearsonr(all_slopes[l_ind, :, t_ind],\n",
    "                                 behav_dat[behav_dat.Load == l_ind + 1][\"d'\"]))\n",
    "print_stat(\"Al-Lo-d'\", *pearsonr(all_alphas[l_ind, :, t_ind],\n",
    "                                 behav_dat[behav_dat.Load == l_ind + 1][\"d'\"]))"
   ]
  },
  {
   "cell_type": "code",
   "execution_count": null,
   "metadata": {
    "collapsed": true
   },
   "outputs": [],
   "source": [
    "t_ind = 2\n",
    "\n",
    "print_stat(\"Sl-d'\", *pearsonr(all_slopes[:, :, t_ind].flatten(), behav_dat[\"d'\"].values))\n",
    "print_stat(\"Al-d'\", *pearsonr(all_alphas[:, :, t_ind].flatten(), behav_dat[\"d'\"].values))"
   ]
  },
  {
   "cell_type": "code",
   "execution_count": null,
   "metadata": {
    "collapsed": true
   },
   "outputs": [],
   "source": [
    "all_slopes.shape"
   ]
  },
  {
   "cell_type": "code",
   "execution_count": null,
   "metadata": {
    "collapsed": true
   },
   "outputs": [],
   "source": [
    "# Average d' with average measures\n",
    "\n",
    "t_ind = 2\n",
    "\n",
    "print_stat('XX', *pearsonr(avg_behav[\"d'\"], np.mean(all_slopes[:, :, t_ind], 0)))\n",
    "print_stat('XX', *pearsonr(avg_behav[\"d'\"], np.mean(all_alphas[:, :, t_ind], 0)))"
   ]
  },
  {
   "cell_type": "code",
   "execution_count": null,
   "metadata": {
    "collapsed": true
   },
   "outputs": [],
   "source": [
    "# Average d' with average measures\n",
    "\n",
    "t_ind = 2\n",
    "\n",
    "print_stat('XX', *pearsonr(avg_behav[\"d'\"], np.mean(all_slopes[:, :, 2] - all_slopes[:, :, 0], 0)))\n",
    "print_stat('XX', *pearsonr(avg_behav[\"d'\"], np.mean(all_alphas[:, :, 2] - all_alphas[:, :, 0], 0)))"
   ]
  },
  {
   "cell_type": "code",
   "execution_count": null,
   "metadata": {
    "collapsed": true
   },
   "outputs": [],
   "source": []
  },
  {
   "cell_type": "code",
   "execution_count": null,
   "metadata": {
    "collapsed": true
   },
   "outputs": [],
   "source": [
    "#\n",
    "sl_st_yng = np.vstack([all_slopes[0, YNG_INDS, :], all_slopes[1, YNG_INDS, :], all_slopes[2, YNG_INDS, :]])\n",
    "sl_st_old = np.vstack([all_slopes[0, OLD_INDS, :], all_slopes[1, OLD_INDS, :], all_slopes[2, OLD_INDS, :]])\n",
    "\n",
    "#\n",
    "al_st_yng = np.vstack([all_alphas[0, YNG_INDS, :], all_alphas[1, YNG_INDS, :], all_alphas[2, YNG_INDS, :]])\n",
    "al_st_old = np.vstack([all_alphas[0, OLD_INDS, :], all_alphas[1, OLD_INDS, :], all_alphas[2, OLD_INDS, :]])\n",
    "\n",
    "#\n",
    "canal_st_yng = np.vstack([canalpha[0, YNG_INDS, :], canalpha[1, YNG_INDS, :], canalpha[2, YNG_INDS, :]])\n",
    "canal_st_old = np.vstack([canalpha[0, OLD_INDS, :], canalpha[1, OLD_INDS, :], canalpha[2, OLD_INDS, :]])"
   ]
  },
  {
   "cell_type": "code",
   "execution_count": null,
   "metadata": {
    "collapsed": true
   },
   "outputs": [],
   "source": [
    "ind = 2\n",
    "\n",
    "print_stat('Yng-Sl', *pearsonr(sl_st_yng[:, ind], behav_dat[behav_dat.Age == 1][\"d'\"]))\n",
    "print_stat('Old-Sl', *pearsonr(sl_st_old[:, ind], behav_dat[behav_dat.Age == 2][\"d'\"]))\n",
    "\n",
    "print('')\n",
    "\n",
    "print_stat('Yng-Al', *pearsonr(al_st_yng[:, ind], behav_dat[behav_dat.Age == 1][\"d'\"]))\n",
    "print_stat('Old-Al', *pearsonr(al_st_old[:, ind], behav_dat[behav_dat.Age == 2][\"d'\"]))\n",
    "\n",
    "print('')\n",
    "\n",
    "print_stat('Yng-CanAl', *pearsonr(canal_st_yng[:, ind], behav_dat[behav_dat.Age == 1][\"d'\"]))\n",
    "print_stat('Old-CanAl', *pearsonr(canal_st_old[:, ind], behav_dat[behav_dat.Age == 2][\"d'\"]))"
   ]
  },
  {
   "cell_type": "code",
   "execution_count": null,
   "metadata": {
    "collapsed": true
   },
   "outputs": [],
   "source": []
  },
  {
   "cell_type": "code",
   "execution_count": null,
   "metadata": {
    "collapsed": true
   },
   "outputs": [],
   "source": [
    "def calc_diff(dat, i1, i2):\n",
    "    return dat[:, i1] - dat[:, i2]"
   ]
  },
  {
   "cell_type": "code",
   "execution_count": null,
   "metadata": {
    "collapsed": true
   },
   "outputs": [],
   "source": []
  },
  {
   "cell_type": "code",
   "execution_count": null,
   "metadata": {
    "collapsed": true
   },
   "outputs": [],
   "source": [
    "# Calculate difference measures\n",
    "i1, i2 = 2, 0\n",
    "\n",
    "sl_dif_yng = calc_diff(sl_st_yng, i1, i2)\n",
    "sl_dif_old = calc_diff(sl_st_old, i1, i2)\n",
    "\n",
    "al_dif_yng = calc_diff(al_st_yng, i1, i2)\n",
    "al_dif_old = calc_diff(al_st_old, i1, i2)\n",
    "\n",
    "canal_dif_yng = calc_diff(canal_st_yng, i1, i2)\n",
    "canal_dif_old = calc_diff(canal_st_old, i1, i2)"
   ]
  },
  {
   "cell_type": "code",
   "execution_count": null,
   "metadata": {
    "collapsed": true
   },
   "outputs": [],
   "source": []
  },
  {
   "cell_type": "code",
   "execution_count": null,
   "metadata": {
    "collapsed": true
   },
   "outputs": [],
   "source": [
    "# Check correlations of difference measures with behaviour\n",
    "print_stat('Sl-Yng', *pearsonr(sl_dif_yng, behav_dat[behav_dat.Age == 1][\"d'\"]))\n",
    "print_stat('Sl-Old', *pearsonr(sl_dif_old, behav_dat[behav_dat.Age == 2][\"d'\"]))\n",
    "print('')\n",
    "print_stat('Al-Yng', *pearsonr(al_dif_yng, behav_dat[behav_dat.Age == 1][\"d'\"]))\n",
    "print_stat('Al-Old', *pearsonr(al_dif_old, behav_dat[behav_dat.Age == 2][\"d'\"]))\n",
    "print('')\n",
    "print_stat('Al-Yng', *pearsonr(canal_dif_yng, behav_dat[behav_dat.Age == 1][\"d'\"]))\n",
    "print_stat('Al-Old', *pearsonr(canal_dif_old, behav_dat[behav_dat.Age == 2][\"d'\"]))"
   ]
  },
  {
   "cell_type": "code",
   "execution_count": null,
   "metadata": {
    "collapsed": true
   },
   "outputs": [],
   "source": []
  },
  {
   "cell_type": "code",
   "execution_count": null,
   "metadata": {
    "collapsed": true
   },
   "outputs": [],
   "source": [
    "# Compare Canonical to FOOOF alpha\n",
    "\n",
    "df = pd.DataFrame()\n",
    "\n",
    "df['behav'] = behav_dat[\"d'\"].values\n",
    "df['age'] = behav_dat['Age'].values\n",
    "\n",
    "df['al_dif'] = np.concatenate([al_dif_yng, al_dif_old])\n",
    "#df['al_dif'] = np.concatenate([canal_dif_yng, canal_dif_old])\n",
    "\n",
    "# \n",
    "outcome, predictors = patsy.dmatrices(\"behav ~ al_dif * age\", df)\n",
    "mod = sm.OLS(outcome, predictors)\n",
    "res = mod.fit()\n",
    "\n",
    "# Check out the results\n",
    "print(res.summary())"
   ]
  },
  {
   "cell_type": "code",
   "execution_count": null,
   "metadata": {
    "collapsed": true
   },
   "outputs": [],
   "source": []
  },
  {
   "cell_type": "code",
   "execution_count": null,
   "metadata": {
    "collapsed": true
   },
   "outputs": [],
   "source": [
    "# Build the dataframe\n",
    "\n",
    "df = pd.DataFrame()\n",
    "\n",
    "df['behav'] = behav_dat[\"d'\"].values\n",
    "df['age'] = behav_dat['Age'].values\n",
    "\n",
    "\n",
    "df['sl_dif'] = np.concatenate([sl_dif_yng, sl_dif_old])\n",
    "df['al_dif'] = np.concatenate([al_dif_yng, al_dif_old])\n",
    "#df['al_dif'] = np.concatenate([canal_dif_yng, canal_dif_old])\n",
    "\n",
    "# \n",
    "#outcome, predictors = patsy.dmatrices(\"behav ~ sl_dif + al_dif + age\", df)\n",
    "#outcome, predictors = patsy.dmatrices(\"behav ~ age * sl_dif\", df)\n",
    "outcome, predictors = patsy.dmatrices(\"behav ~ age * al_dif + sl_dif\", df)\n",
    "mod = sm.OLS(outcome, predictors)\n",
    "res = mod.fit()\n",
    "\n",
    "# Check out the results\n",
    "print(res.summary())"
   ]
  },
  {
   "cell_type": "code",
   "execution_count": null,
   "metadata": {
    "collapsed": true
   },
   "outputs": [],
   "source": []
  },
  {
   "cell_type": "code",
   "execution_count": null,
   "metadata": {
    "collapsed": true
   },
   "outputs": [],
   "source": [
    "# # Build the dataframe\n",
    "\n",
    "# t_ind = 2\n",
    "# l_ind = 0 \n",
    "\n",
    "# df = pd.DataFrame()\n",
    "\n",
    "# df['behav'] = behav_dat[behav_dat['Load'] == l_ind+1][\"d'\"].values\n",
    "# df['age'] = behav_dat[behav_dat['Load'] == l_ind+1][\"Age\"].values\n",
    "\n",
    "# df['sl_dif'] = np.concatenate([sl_dif_yng, sl_dif_old])\n",
    "# df['al_dif'] = np.concatenate([al_dif_yng, al_dif_old])\n",
    "\n",
    "# # \n",
    "# outcome, predictors = patsy.dmatrices(\"behav ~ sl_dif + al_dif + age\", df)\n",
    "# #outcome, predictors = patsy.dmatrices(\"behav ~ age * sl_dif\", df)\n",
    "# mod = sm.OLS(outcome, predictors)\n",
    "# res = mod.fit()\n",
    "\n",
    "# # Check out the results\n",
    "# print(res.summary())"
   ]
  },
  {
   "cell_type": "code",
   "execution_count": null,
   "metadata": {
    "collapsed": true
   },
   "outputs": [],
   "source": []
  },
  {
   "cell_type": "code",
   "execution_count": null,
   "metadata": {
    "collapsed": true
   },
   "outputs": [],
   "source": [
    "#\n",
    "al_ = np.mean(all_slopes[:, YNG_INDS, :], 0)\n",
    "\n",
    "sl_st_yng = np.vstack([all_slopes[0, YNG_INDS, :], all_slopes[1, YNG_INDS, :], all_slopes[2, YNG_INDS, :]])\n",
    "sl_st_old = np.vstack([all_slopes[0, OLD_INDS, :], all_slopes[1, OLD_INDS, :], all_slopes[2, OLD_INDS, :]])\n",
    "\n",
    "#\n",
    "al_st_yng = np.vstack([all_alphas[0, YNG_INDS, :], all_alphas[1, YNG_INDS, :], all_alphas[2, YNG_INDS, :]])\n",
    "al_st_old = np.vstack([all_alphas[0, OLD_INDS, :], all_alphas[1, OLD_INDS, :], all_alphas[2, OLD_INDS, :]])"
   ]
  },
  {
   "cell_type": "code",
   "execution_count": null,
   "metadata": {
    "collapsed": true
   },
   "outputs": [],
   "source": []
  },
  {
   "cell_type": "code",
   "execution_count": null,
   "metadata": {
    "collapsed": true
   },
   "outputs": [],
   "source": [
    "print(pearsonr(sl_dif_yng, al_dif_yng))\n",
    "print(pearsonr(sl_dif_old, al_dif_old))"
   ]
  },
  {
   "cell_type": "code",
   "execution_count": null,
   "metadata": {
    "collapsed": true
   },
   "outputs": [],
   "source": []
  },
  {
   "cell_type": "code",
   "execution_count": null,
   "metadata": {
    "collapsed": true
   },
   "outputs": [],
   "source": [
    "# Average across loads\n",
    "sl_resps = np.diff(np.mean(all_slopes, 0))\n",
    "al_resps = np.diff(np.mean(all_alphas, 0))\n",
    "\n",
    "# # Take specific load\n",
    "# load_ind = 2\n",
    "# sl_resps = all_slopes[load_ind, :, :]\n",
    "# al_resps = all_alphas[load_ind, :, :]"
   ]
  },
  {
   "cell_type": "code",
   "execution_count": null,
   "metadata": {
    "collapsed": true
   },
   "outputs": [],
   "source": [
    "# Correlations between reactivity measures\n",
    "print_stat('SLR & ALR - 1', *pearsonr(sl_resps[:, 0], al_resps[:, 0]))\n",
    "print_stat('SLR & ALR - 2', *pearsonr(sl_resps[:, 1], al_resps[:, 1]))"
   ]
  },
  {
   "cell_type": "code",
   "execution_count": null,
   "metadata": {
    "collapsed": true
   },
   "outputs": [],
   "source": [
    "edat = sl_resps; ind = 0;\n",
    "\n",
    "print_stat('\\tALL', *pearsonr(avg_behav[\"d'\"], al_resps[:, 0]))\n",
    "print_stat('\\tYNG', *pearsonr(avg_behav[avg_behav['Age'] == 1][\"d'\"], edat[YNG_INDS, ind]))\n",
    "print_stat('\\tOLD', *pearsonr(avg_behav[avg_behav['Age'] == 2][\"d'\"], edat[OLD_INDS, ind]))"
   ]
  },
  {
   "cell_type": "code",
   "execution_count": null,
   "metadata": {
    "collapsed": true
   },
   "outputs": [],
   "source": [
    "edat = sl_resps\n",
    "\n",
    "print_stat('\\tALL', *pearsonr(avg_behav[\"d'\"], al_resps[:, 0]))\n",
    "print_stat('\\tYNG', *pearsonr(avg_behav[avg_behav['Age'] == 1][\"d'\"], np.mean(edat[YNG_INDS], 1)))\n",
    "print_stat('\\tOLD', *pearsonr(avg_behav[avg_behav['Age'] == 2][\"d'\"], np.mean(edat[OLD_INDS], 1)))"
   ]
  },
  {
   "cell_type": "code",
   "execution_count": null,
   "metadata": {
    "collapsed": true
   },
   "outputs": [],
   "source": [
    "print(pearsonr(avg_behav[\"CDA\"], al_resps[:, 0]))\n",
    "print(pearsonr(avg_behav[\"CDA\"], sl_resps[:, 0]))"
   ]
  },
  {
   "cell_type": "code",
   "execution_count": null,
   "metadata": {
    "collapsed": true
   },
   "outputs": [],
   "source": []
  },
  {
   "cell_type": "code",
   "execution_count": null,
   "metadata": {
    "collapsed": true
   },
   "outputs": [],
   "source": [
    "# Get the change in behavioural scores between highes & lowest loads\n",
    "delta_behavs = []\n",
    "temp_df = behav_dat[behav_dat.Age == 1]\n",
    "for subj_id in set(temp_df.SubjID.values):\n",
    "    temp = behav_dat[behav_dat.SubjID == subj_id]\n",
    "    delta_behavs.append(temp[temp.Load == 3][\"d'\"].values[0] - temp[temp.Load == 1][\"d'\"].values[0])\n",
    "delta_behavs = np.array(delta_behavs)"
   ]
  },
  {
   "cell_type": "code",
   "execution_count": null,
   "metadata": {
    "collapsed": true
   },
   "outputs": [],
   "source": []
  },
  {
   "cell_type": "code",
   "execution_count": null,
   "metadata": {
    "collapsed": true
   },
   "outputs": [],
   "source": [
    "# Get the change in physiological scores between highes & lowest loads\n",
    "temp_dat = all_slopes\n",
    "temp = temp_dat[2, :, :] - temp_dat[0, :, :]\n",
    "temp[np.isnan(temp)] = 0\n",
    "delta_phys = temp[:, 2] - temp[:, 0]"
   ]
  },
  {
   "cell_type": "code",
   "execution_count": null,
   "metadata": {
    "collapsed": true
   },
   "outputs": [],
   "source": []
  },
  {
   "cell_type": "code",
   "execution_count": null,
   "metadata": {
    "collapsed": true
   },
   "outputs": [],
   "source": [
    "print('ALL:', pearsonr(delta_behavs, delta_phys[YNG_INDS]))\n",
    "plt.scatter(delta_behavs, delta_phys[YNG_INDS])"
   ]
  },
  {
   "cell_type": "code",
   "execution_count": null,
   "metadata": {
    "collapsed": true
   },
   "outputs": [],
   "source": [
    "plt.scatter(delta_behavs[OLD_INDS], delta_phys[OLD_INDS], label='OLD')\n",
    "print('OLD:', pearsonr(delta_behavs[OLD_INDS], delta_phys[OLD_INDS]))\n",
    "plt.scatter(delta_behavs[YNG_INDS], delta_phys[YNG_INDS], label='YNG')\n",
    "print('YNG:', pearsonr(delta_behavs[YNG_INDS], delta_phys[YNG_INDS]))\n",
    "plt.legend()\n",
    "plt.xlabel('Delta Behav');\n",
    "plt.ylabel('Delta Physiology');"
   ]
  },
  {
   "cell_type": "code",
   "execution_count": null,
   "metadata": {
    "collapsed": true
   },
   "outputs": [],
   "source": []
  },
  {
   "cell_type": "code",
   "execution_count": null,
   "metadata": {
    "collapsed": true
   },
   "outputs": [],
   "source": [
    "#cur_dat = canalpha\n",
    "#cur_dat = all_slopes\n",
    "cur_dat = all_alphas\n",
    "\n",
    "# Get phys-responsiveness, as late minus pre\n",
    "temp = cur_dat[:, :, 2] - cur_dat[:, :, 1]\n",
    "# Or - just take late\n",
    "#temp = cur_dat[:, :, 2]\n",
    "\n",
    "# Replace any nans as zeros\n",
    "temp[np.isnan(temp)] = 0\n",
    "\n",
    "# Get delta physiology as high load minus low load\n",
    "delta_phys = temp[2, :] - temp[0, :]"
   ]
  },
  {
   "cell_type": "code",
   "execution_count": null,
   "metadata": {
    "collapsed": true
   },
   "outputs": [],
   "source": []
  },
  {
   "cell_type": "code",
   "execution_count": null,
   "metadata": {
    "collapsed": true
   },
   "outputs": [],
   "source": [
    "print('ALL:', pearsonr(delta_behavs, delta_phys))\n",
    "print('OLD:', pearsonr(delta_behavs[OLD_INDS], delta_phys[OLD_INDS]))\n",
    "print('YNG:', pearsonr(delta_behavs[YNG_INDS], delta_phys[YNG_INDS]))\n",
    "\n",
    "plt.scatter(delta_behavs[OLD_INDS], delta_phys[OLD_INDS], label='OLD')\n",
    "plt.scatter(delta_behavs[YNG_INDS], delta_phys[YNG_INDS], label='YNG')\n",
    "\n",
    "#plt.ylim([-0.0000005, 0.0000005])\n",
    "\n",
    "plt.legend()\n",
    "plt.xlabel('Delta Behav');\n",
    "plt.ylabel('Delta Physiology');"
   ]
  },
  {
   "cell_type": "code",
   "execution_count": null,
   "metadata": {
    "collapsed": true
   },
   "outputs": [],
   "source": []
  },
  {
   "cell_type": "code",
   "execution_count": null,
   "metadata": {
    "collapsed": true
   },
   "outputs": [],
   "source": [
    "#\n",
    "sl_st_yng = np.vstack([all_slopes[0, YNG_INDS, :], all_slopes[1, YNG_INDS, :], all_slopes[2, YNG_INDS, :]])\n",
    "sl_st_old = np.vstack([all_slopes[0, OLD_INDS, :], all_slopes[1, OLD_INDS, :], all_slopes[2, OLD_INDS, :]])\n",
    "\n",
    "#\n",
    "al_st_yng = np.vstack([all_alphas[0, YNG_INDS, :], all_alphas[1, YNG_INDS, :], all_alphas[2, YNG_INDS, :]])\n",
    "al_st_old = np.vstack([all_alphas[0, OLD_INDS, :], all_alphas[1, OLD_INDS, :], all_alphas[2, OLD_INDS, :]])\n",
    "\n",
    "#\n",
    "canal_st_yng = np.vstack([canalpha[0, YNG_INDS, :], canalpha[1, YNG_INDS, :], canalpha[2, YNG_INDS, :]])\n",
    "canal_st_old = np.vstack([canalpha[0, OLD_INDS, :], canalpha[1, OLD_INDS, :], canalpha[2, OLD_INDS, :]])"
   ]
  }
 ],
 "metadata": {
  "kernelspec": {
   "display_name": "Python [conda root]",
   "language": "python",
   "name": "conda-root-py"
  },
  "language_info": {
   "codemirror_mode": {
    "name": "ipython",
    "version": 3
   },
   "file_extension": ".py",
   "mimetype": "text/x-python",
   "name": "python",
   "nbconvert_exporter": "python",
   "pygments_lexer": "ipython3",
   "version": "3.6.6"
  }
 },
 "nbformat": 4,
 "nbformat_minor": 2
}
