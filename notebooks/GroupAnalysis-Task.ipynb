{
 "cells": [
  {
   "cell_type": "markdown",
   "metadata": {},
   "source": [
    "# Group Analysis - FOOOFed EEG Analysis: Task\n",
    "    \n",
    "Applying FOOOF to task based EEG data, and comparing between young and old groups. "
   ]
  },
  {
   "cell_type": "code",
   "execution_count": 426,
   "metadata": {},
   "outputs": [
    {
     "name": "stdout",
     "output_type": "stream",
     "text": [
      "The autoreload extension is already loaded. To reload it, use:\n",
      "  %reload_ext autoreload\n"
     ]
    }
   ],
   "source": [
    "%matplotlib inline\n",
    "%config InlineBackend.figure_format='retina'\n",
    "\n",
    "%load_ext autoreload"
   ]
  },
  {
   "cell_type": "code",
   "execution_count": 427,
   "metadata": {},
   "outputs": [],
   "source": [
    "from os.path import join as pjoin\n",
    "import warnings\n",
    "\n",
    "import numpy as np\n",
    "import pandas as pd\n",
    "import matplotlib.pyplot as plt\n",
    "\n",
    "from scipy.stats import pearsonr, spearmanr\n",
    "\n",
    "import patsy\n",
    "import statsmodels.api as sm\n",
    "from statsmodels.stats.anova import anova_lm\n",
    "from statsmodels.stats.diagnostic import compare_cox, compare_j\n",
    "\n",
    "from fooof.synth.gen import gen_aperiodic"
   ]
  },
  {
   "cell_type": "code",
   "execution_count": 428,
   "metadata": {},
   "outputs": [],
   "source": [
    "# Import custom code for this analysis\n",
    "%autoreload 2\n",
    "from fio import *\n",
    "from plts import *\n",
    "from utils import *"
   ]
  },
  {
   "cell_type": "markdown",
   "metadata": {},
   "source": [
    "# Settings"
   ]
  },
  {
   "cell_type": "code",
   "execution_count": 429,
   "metadata": {},
   "outputs": [
    {
     "name": "stdout",
     "output_type": "stream",
     "text": [
      "Number of young subjects:   17\n",
      "Number of  old  subjects:   14\n"
     ]
    }
   ],
   "source": [
    "# Set path to load results from\n",
    "res_path = '/Users/tom/Documents/Research/1-Projects/fooof/2-Data/Results/'\n",
    "\n",
    "# Set indices to separate groups\n",
    "from settings import YNG_INDS, OLD_INDS\n",
    "\n",
    "# Set average function to use\n",
    "avg_func = np.nanmean\n",
    "#avg_func = np.nanmedian\n",
    "\n",
    "# Wether to save out plots or not\n",
    "save_fig = False\n",
    "\n",
    "print('Number of young subjects:  ', len(YNG_INDS))\n",
    "print('Number of  old  subjects:  ', len(OLD_INDS))"
   ]
  },
  {
   "cell_type": "code",
   "execution_count": 430,
   "metadata": {},
   "outputs": [],
   "source": [
    "# Data settings\n",
    "srate = 512\n",
    "tmin, tmax = -0.85, 1.1\n",
    "times = np.arange(tmin, tmax, 1/srate)\n",
    "seg_times = [(-0.85, -0.35), (0.1, 0.6), (0.5, 1.0)]\n",
    "n_subjs = 31"
   ]
  },
  {
   "cell_type": "markdown",
   "metadata": {
    "collapsed": true
   },
   "source": [
    "### Check dropped trials"
   ]
  },
  {
   "cell_type": "code",
   "execution_count": 431,
   "metadata": {},
   "outputs": [
    {
     "name": "stdout",
     "output_type": "stream",
     "text": [
      "SubNum \t\t # Dropped Trials \t # Dropped Components\n"
     ]
    }
   ],
   "source": [
    "# Load dropped trials & components\n",
    "dropped_trials = np.load(pjoin(res_path, 'Group', 'dropped_trials.npy'))\n",
    "dropped_components = np.load(pjoin(res_path, 'Group', 'dropped_components.npy'))\n",
    "\n",
    "# Check dropped trials for each subject\n",
    "print('SubNum \\t\\t # Dropped Trials \\t # Dropped Components')\n",
    "for ind, trials, components in zip(range(n_subjs), dropped_trials, dropped_components):\n",
    "    temp_trials = trials[trials < 999.]\n",
    "    temp_comps = components[components < 999.]\n",
    "#    print(ind, '\\t\\t', len(temp_trials), '\\t\\t\\t', len(temp_comps))"
   ]
  },
  {
   "cell_type": "markdown",
   "metadata": {},
   "source": [
    "## Group FOOOFing - Trial Averaged Data\n",
    "\n",
    "Notes:\n",
    "- 3D data objects have the shape `[n_loads, n_subjs, n_times]`"
   ]
  },
  {
   "cell_type": "markdown",
   "metadata": {},
   "source": [
    "### Load Data"
   ]
  },
  {
   "cell_type": "code",
   "execution_count": 537,
   "metadata": {},
   "outputs": [],
   "source": [
    "# Load behavioural data\n",
    "behav_dat = pd.read_csv(pjoin(res_path, 'Behav', 'neural_aging_data_behaviour.csv'))"
   ]
  },
  {
   "cell_type": "code",
   "execution_count": 562,
   "metadata": {},
   "outputs": [],
   "source": [
    "# Convert data types\n",
    "behav_dat['Age'] = behav_dat['Age'].astype('str')\n",
    "behav_dat['Load'] = behav_dat['Load'].astype('str')"
   ]
  },
  {
   "cell_type": "code",
   "execution_count": 563,
   "metadata": {},
   "outputs": [],
   "source": [
    "# Calculate average behaviour across loads\n",
    "avg_behav = behav_dat.groupby('SubjID').mean()"
   ]
  },
  {
   "cell_type": "code",
   "execution_count": 564,
   "metadata": {},
   "outputs": [],
   "source": [
    "# CHEATING\n",
    "#for ind in [28, 59, 90]:\n",
    "#    behav_dat.loc[ind, \"d'\"] = 2"
   ]
  },
  {
   "cell_type": "code",
   "execution_count": 565,
   "metadata": {},
   "outputs": [],
   "source": [
    "# Load and extract FOOOF data\n",
    "all_offsets, all_exps = load_fooof_task_ap(res_path, 'Contra')\n",
    "all_alphas =  load_fooof_task_pe(res_path, 'Contra')\n",
    "all_alphas_cf = load_fooof_task_pe(res_path, 'Contra', 0)\n",
    "all_alphas_bw = load_fooof_task_pe(res_path, 'Contra', 2)"
   ]
  },
  {
   "cell_type": "code",
   "execution_count": 566,
   "metadata": {},
   "outputs": [],
   "source": [
    "# Replace NaN with row mean\n",
    "# import numpy.ma as ma\n",
    "# out = []\n",
    "# for mat in all_alphas:\n",
    "#     mat = mat.T\n",
    "#     out.append(np.where(np.isnan(mat), ma.array(mat, mask=np.isnan(mat)).mean(axis=0), mat).T)\n",
    "# all_alphas = np.stack(out)\n",
    "\n",
    "# Replace nan with global mean\n",
    "#all_alphas[np.isnan(all_alphas)] = np.nanmean(all_alphas)"
   ]
  },
  {
   "cell_type": "code",
   "execution_count": 567,
   "metadata": {},
   "outputs": [],
   "source": [
    "# Load canonical alpha analysis\n",
    "canonical_group = np.load(pjoin(res_path, 'Group', 'canonical_group.npy'))"
   ]
  },
  {
   "cell_type": "code",
   "execution_count": 694,
   "metadata": {},
   "outputs": [],
   "source": [
    "# Average across analytic alpha measures to get canonical alpha measure\n",
    "seg_masks = []\n",
    "for seg in seg_times:\n",
    "    seg_masks.append(np.logical_and(times >= seg[0], times <= seg[1]))\n",
    "\n",
    "canalpha = np.zeros_like(all_alphas)\n",
    "for subi, subj_dat in enumerate(canonical_group):\n",
    "    for lodi in range(3):\n",
    "        for segi, mask in enumerate(seg_masks):\n",
    "            canalpha[lodi, subi, segi] = np.mean(subj_dat[lodi, mask])"
   ]
  },
  {
   "cell_type": "code",
   "execution_count": 695,
   "metadata": {},
   "outputs": [
    {
     "data": {
      "text/plain": [
       "10"
      ]
     },
     "execution_count": 695,
     "metadata": {},
     "output_type": "execute_result"
    }
   ],
   "source": [
    "# Number of missing FOOOFed alphas\n",
    "sum(sum(sum(np.isnan(all_alphas))))"
   ]
  },
  {
   "cell_type": "code",
   "execution_count": 696,
   "metadata": {},
   "outputs": [],
   "source": [
    "# Drop missing FOOOF values from other measures\n",
    "canalpha[np.isnan(all_alphas)] = np.nan\n",
    "all_exps[np.isnan(all_alphas)] = np.nan\n",
    "all_offsets[np.isnan(all_alphas)] = np.nan"
   ]
  },
  {
   "cell_type": "code",
   "execution_count": 697,
   "metadata": {},
   "outputs": [],
   "source": [
    "# # TESTS\n",
    "#all_alphas[:, 1, :] = np.nan\n",
    "#canalpha [:, 1, :] = np.nan\n",
    "# all_alphas[:, 8, :] = np.nan\n",
    "# canalpha [:, 8, :] = np.nan"
   ]
  },
  {
   "cell_type": "code",
   "execution_count": 698,
   "metadata": {},
   "outputs": [],
   "source": [
    "# CHEATING: DROP OUT SUBJECTS\n",
    "#behav_dat[behav_dat['SubjID'] == 8] = np.nan\n",
    "#behav_dat[behav_dat['SubjID'] == 1] = np.nan"
   ]
  },
  {
   "cell_type": "markdown",
   "metadata": {},
   "source": [
    "## Check Behaviour & Trial EPhys Corrs - Baseline Measures"
   ]
  },
  {
   "cell_type": "code",
   "execution_count": 699,
   "metadata": {},
   "outputs": [],
   "source": [
    "# Predict behaviour from 'absolute' FOOOF trial output measures\n",
    "#   Note: as defined this model has three measures per subject, one for each load\n",
    "\n",
    "# Settings\n",
    "t_ind = 0\n",
    "\n",
    "# Build the dataframe\n",
    "df = pd.DataFrame()\n",
    "df['exponent'] = all_exps[:, :, t_ind].flatten()\n",
    "\n",
    "#df['alpha'] = all_alphas[:, :, t_ind].flatten()\n",
    "df['alpha'] = canalpha[:, :, t_ind].flatten()\n",
    "\n",
    "df['behav'] = behav_dat[\"d'\"].values\n",
    "df['age'] = behav_dat['Age'].values\n",
    "\n",
    "# Specify the model\n",
    "#outcome, predictors = patsy.dmatrices(\"behav ~ exponent + alpha + age\", df)\n",
    "#outcome, predictors = patsy.dmatrices(\"behav ~ exponent * alpha * age\", df)\n",
    "outcome, predictors = patsy.dmatrices(\"behav ~ age + alpha + exponent + alpha:age + exponent:age\", df)\n",
    "mod = sm.OLS(outcome, predictors)\n",
    "res = mod.fit()\n",
    "\n",
    "# Check out the results\n",
    "#print(res.summary())"
   ]
  },
  {
   "cell_type": "code",
   "execution_count": 700,
   "metadata": {},
   "outputs": [],
   "source": [
    "# # Predict behaviour from 'absolute' FOOOF trial output measures, separately for each load\n",
    "\n",
    "# # Settings\n",
    "# t_ind = 2\n",
    "# l_ind = 2\n",
    "\n",
    "# # Build the dataframe\n",
    "# df = pd.DataFrame()\n",
    "# df['exponent'] = all_exps[l_ind, :, t_ind].flatten()\n",
    "# df['alpha'] = all_alphas[l_ind, :, t_ind].flatten()\n",
    "\n",
    "# df['behav'] = behav_dat[behav_dat['Load'] == l_ind+1][\"d'\"].values\n",
    "# df['age'] = behav_dat[behav_dat['Load'] == l_ind+1][\"Age\"].values\n",
    "\n",
    "# # Specift the model\n",
    "# #outcome, predictors = patsy.dmatrices(\"behav ~ exponent + age\", df)\n",
    "# outcome, predictors = patsy.dmatrices(\"behav ~ exponent + alpha + age\", df)\n",
    "# #outcome, predictors = patsy.dmatrices(\"behav ~ exponent * alpha * age\", df)\n",
    "# #outcome, predictors = patsy.dmatrices(\"behav ~ age + alpha + exponent + alpha:age + exponent:age\", df)\n",
    "# mod = sm.OLS(outcome, predictors)\n",
    "# res = mod.fit()\n",
    "\n",
    "# # Check out the results\n",
    "# #print(res.summary())"
   ]
  },
  {
   "cell_type": "code",
   "execution_count": 701,
   "metadata": {},
   "outputs": [],
   "source": [
    "# # Predict from absolute FOOOF results, split up by group\n",
    "\n",
    "# # Settings\n",
    "# #group = 'young' # 'young', 'old'\n",
    "# group = 'old' \n",
    "# t_ind = 2\n",
    "\n",
    "# inds = YNG_INDS if group == 'young' else OLD_INDS\n",
    "# age_gr = 1 if group == 'young' else 2\n",
    "\n",
    "# # Build the dataframe\n",
    "# df = pd.DataFrame()\n",
    "# df['exponent'] = all_exps[:, inds, t_ind].flatten()\n",
    "\n",
    "# df['alpha'] = all_alphas[:, inds, t_ind].flatten()\n",
    "# #df['alpha'] = canalpha[:, inds, t_ind].flatten()\n",
    "\n",
    "# df['behav'] = behav_dat[behav_dat.Age == age_gr][\"d'\"].values\n",
    "\n",
    "# # \n",
    "# outcome, predictors = patsy.dmatrices(\"behav ~ exponent * alpha\", df)\n",
    "# mod = sm.OLS(outcome, predictors)\n",
    "# res = mod.fit()\n",
    "\n",
    "# # Check out the results\n",
    "# print(res.summary())"
   ]
  },
  {
   "cell_type": "code",
   "execution_count": 702,
   "metadata": {},
   "outputs": [],
   "source": [
    "# # Check relation between exponent and alpha\n",
    "# print(pearsonr(df.exponent, df.alpha))\n",
    "# #plt.plot(df.exponent, df.alpha, '.')\n",
    "\n",
    "# print(pearsonr(df.behav, df.alpha))\n",
    "# #plt.plot(df.behav, df.alpha, '.')\n",
    "\n",
    "# print(pearsonr(df.behav, df.exponent))\n",
    "# plt.plot(df.behav, df.exponent, '.')"
   ]
  },
  {
   "cell_type": "markdown",
   "metadata": {},
   "source": [
    "## Difference Measures\n",
    "\n",
    "Predict behaviour output from evoked responses of alpha and aperiodic. "
   ]
  },
  {
   "cell_type": "code",
   "execution_count": 703,
   "metadata": {},
   "outputs": [],
   "source": [
    "def reshape_dat(dat):\n",
    "    \n",
    "    yng_dat = np.vstack([dat[0, YNG_INDS, :], dat[1, YNG_INDS, :], dat[2, YNG_INDS, :]])\n",
    "    old_dat = np.vstack([dat[0, OLD_INDS, :], dat[1, OLD_INDS, :], dat[2, OLD_INDS, :]])\n",
    "    \n",
    "    return yng_dat, old_dat"
   ]
  },
  {
   "cell_type": "code",
   "execution_count": 704,
   "metadata": {},
   "outputs": [],
   "source": [
    "## ReOrg data - reshape 3D matrix, to 2D matrix with stacked trials\n",
    "\n",
    "canal_st_yng, canal_st_old = reshape_dat(canalpha)\n",
    "\n",
    "off_st_yng, off_st_old = reshape_dat(all_offsets)\n",
    "exp_st_yng, exp_st_old = reshape_dat(all_exps)\n",
    "\n",
    "al_st_yng, al_st_old = reshape_dat(all_alphas)\n",
    "al_cf_st_yng, al_cf_st_old = reshape_dat(all_alphas_cf)\n",
    "al_bw_st_yng, al_bw_st_old = reshape_dat(all_alphas_bw)"
   ]
  },
  {
   "cell_type": "code",
   "execution_count": 705,
   "metadata": {},
   "outputs": [],
   "source": [
    "# Calculate difference measures\n",
    "i1, i2 = 2, 0\n",
    "\n",
    "canal_dif_yng = calc_diff(canal_st_yng, i1, i2)\n",
    "canal_dif_old = calc_diff(canal_st_old, i1, i2)\n",
    "\n",
    "off_dif_yng = calc_diff(off_st_yng, i1, i2)\n",
    "off_dif_old = calc_diff(off_st_old, i1, i2)\n",
    "\n",
    "exp_dif_yng = calc_diff(exp_st_yng, i1, i2)\n",
    "exp_dif_old = calc_diff(exp_st_old, i1, i2)\n",
    "\n",
    "al_dif_yng = calc_diff(al_st_yng, i1, i2)\n",
    "al_dif_old = calc_diff(al_st_old, i1, i2)\n",
    "\n",
    "al_cf_dif_yng = calc_diff(al_cf_st_yng, i1, i2)\n",
    "al_cf_dif_old = calc_diff(al_cf_st_old, i1, i2)\n",
    "\n",
    "al_bw_dif_yng = calc_diff(al_bw_st_yng, i1, i2)\n",
    "al_bw_dif_old = calc_diff(al_bw_st_old, i1, i2)"
   ]
  },
  {
   "cell_type": "code",
   "execution_count": 706,
   "metadata": {},
   "outputs": [
    {
     "name": "stdout",
     "output_type": "stream",
     "text": [
      "CANALPHA - YNG:  1.7587073923825103e-07\n",
      "CANALPHA - OLD:  -1.8642563800435488e-07\n",
      "\n",
      "Alpha Power - YNG:  0.08159853781427646\n",
      "Alpha Power - OLD:  -0.005133746231154371\n",
      "\n",
      "Alpha CF - YNG:  -0.12449879811280581\n",
      "Alpha CF - OLD:  0.6765393899310752\n",
      "\n",
      "Alpha BW - YNG:  -0.29693609552241185\n",
      "Alpha BW - OLD:  0.285449393734117\n",
      "\n",
      "Exp - YNG:  -0.0480892733131357\n",
      "Exp - OLD:  -0.05927353380939024\n",
      "\n",
      "Off - YNG:  -0.0480892733131357\n",
      "Off - OLD:  -0.05927353380939024\n"
     ]
    }
   ],
   "source": [
    "print('CANALPHA - YNG: ', np.nanmean(canal_dif_yng))\n",
    "print('CANALPHA - OLD: ', np.nanmean(canal_dif_old))\n",
    "\n",
    "print('')\n",
    "print('Alpha Power - YNG: ', np.nanmean(al_dif_yng))\n",
    "print('Alpha Power - OLD: ', np.nanmean(al_dif_old))\n",
    "print('')\n",
    "print('Alpha CF - YNG: ', np.nanmean(al_cf_dif_yng))\n",
    "print('Alpha CF - OLD: ', np.nanmean(al_cf_dif_old))\n",
    "print('')\n",
    "print('Alpha BW - YNG: ', np.nanmean(al_bw_dif_yng))\n",
    "print('Alpha BW - OLD: ', np.nanmean(al_bw_dif_old))\n",
    "\n",
    "print('')\n",
    "print('Exp - YNG: ', np.nanmean(exp_dif_yng))\n",
    "print('Exp - OLD: ', np.nanmean(exp_dif_old))\n",
    "print('')\n",
    "print('Off - YNG: ', np.nanmean(exp_dif_yng))\n",
    "print('Off - OLD: ', np.nanmean(exp_dif_old))"
   ]
  },
  {
   "cell_type": "code",
   "execution_count": 710,
   "metadata": {},
   "outputs": [],
   "source": []
  },
  {
   "cell_type": "code",
   "execution_count": 714,
   "metadata": {},
   "outputs": [
    {
     "name": "stdout",
     "output_type": "stream",
     "text": [
      "CanAl: \t  2.1291 \t0.0361\n",
      "\n",
      "Al-CF: \t -3.8230 \t0.0003\n",
      "Al-PW: \t  2.7494 \t0.0073\n",
      "Al-BW: \t -3.7894 \t0.0003\n",
      "\n",
      "Exp: \t  0.4920 \t0.6240\n",
      "Off: \t  1.4006 \t0.1650\n"
     ]
    }
   ],
   "source": [
    "print_stat('CanAl', *nan_ttest(canal_dif_yng, canal_dif_old))\n",
    "\n",
    "print('')\n",
    "print_stat('Al-CF', *nan_ttest(al_cf_dif_yng, al_cf_dif_old))\n",
    "print_stat('Al-PW', *nan_ttest(al_dif_yng, al_dif_old))\n",
    "print_stat('Al-BW', *nan_ttest(al_bw_dif_yng, al_bw_dif_old))\n",
    "\n",
    "print('')\n",
    "print_stat('Exp', *nan_ttest(exp_dif_yng, exp_dif_old))\n",
    "print_stat('Off', *nan_ttest(off_dif_yng, off_dif_old))"
   ]
  },
  {
   "cell_type": "code",
   "execution_count": 715,
   "metadata": {},
   "outputs": [
    {
     "name": "stdout",
     "output_type": "stream",
     "text": [
      "Sl-Yng: \t  0.3224 \t0.0224\n",
      "Sl-Old: \t -0.2152 \t0.2008\n",
      "\n",
      "CanAl-Yng: \t -0.2029 \t0.1576\n",
      "CanAl-Old: \t  0.2630 \t0.1158\n",
      "\n",
      "Al-Yng: \t -0.1362 \t0.3455\n",
      "Al-Old: \t  0.3408 \t0.0390\n",
      "\n",
      "Al-CF-Yng: \t  0.1978 \t0.1686\n",
      "Al-CF-Old: \t  0.0086 \t0.9598\n",
      "\n",
      "Al-BW-Yng: \t  0.1042 \t0.4714\n",
      "Al-BW-Old: \t  0.0289 \t0.8651\n"
     ]
    }
   ],
   "source": [
    "# Check correlations of difference measures with behaviour\n",
    "print_stat('Sl-Yng', *nan_corr(exp_dif_yng, behav_dat[behav_dat.Age == '1'][\"d'\"]))\n",
    "print_stat('Sl-Old', *nan_corr(exp_dif_old, behav_dat[behav_dat.Age == '2'][\"d'\"]))\n",
    "print('')\n",
    "print_stat('CanAl-Yng', *nan_corr(canal_dif_yng, behav_dat[behav_dat.Age == '1'][\"d'\"]))\n",
    "print_stat('CanAl-Old', *nan_corr(canal_dif_old, behav_dat[behav_dat.Age == '2'][\"d'\"]))\n",
    "print('')\n",
    "print_stat('Al-Yng', *nan_corr(al_dif_yng, behav_dat[behav_dat.Age == '1'][\"d'\"]))\n",
    "print_stat('Al-Old', *nan_corr(al_dif_old, behav_dat[behav_dat.Age == '2'][\"d'\"]))\n",
    "print('')\n",
    "print_stat('Al-CF-Yng', *nan_corr(al_cf_dif_yng, behav_dat[behav_dat.Age == '1'][\"d'\"]))\n",
    "print_stat('Al-CF-Old', *nan_corr(al_cf_dif_old, behav_dat[behav_dat.Age == '2'][\"d'\"]))\n",
    "print('')\n",
    "print_stat('Al-BW-Yng', *nan_corr(al_bw_dif_yng, behav_dat[behav_dat.Age == '1'][\"d'\"]))\n",
    "print_stat('Al-BW-Old', *nan_corr(al_bw_dif_old, behav_dat[behav_dat.Age == '2'][\"d'\"]))"
   ]
  },
  {
   "cell_type": "markdown",
   "metadata": {},
   "source": [
    "## Base Model: Age & Load"
   ]
  },
  {
   "cell_type": "code",
   "execution_count": 718,
   "metadata": {},
   "outputs": [
    {
     "name": "stdout",
     "output_type": "stream",
     "text": [
      "                            OLS Regression Results                            \n",
      "==============================================================================\n",
      "Dep. Variable:                  behav   R-squared:                       0.228\n",
      "Model:                            OLS   Adj. R-squared:                  0.202\n",
      "Method:                 Least Squares   F-statistic:                     8.761\n",
      "Date:                Mon, 25 Feb 2019   Prob (F-statistic):           3.75e-05\n",
      "Time:                        23:05:11   Log-Likelihood:                -118.31\n",
      "No. Observations:                  93   AIC:                             244.6\n",
      "Df Residuals:                      89   BIC:                             254.7\n",
      "Df Model:                           3                                         \n",
      "Covariance Type:            nonrobust                                         \n",
      "==============================================================================\n",
      "                 coef    std err          t      P>|t|      [0.025      0.975]\n",
      "------------------------------------------------------------------------------\n",
      "Intercept      4.0845      0.179     22.822      0.000       3.729       4.440\n",
      "load[T.2]     -0.2406      0.224     -1.073      0.286      -0.686       0.205\n",
      "load[T.3]     -0.8431      0.224     -3.761      0.000      -1.289      -0.398\n",
      "age[T.2]      -0.6175      0.184     -3.358      0.001      -0.983      -0.252\n",
      "==============================================================================\n",
      "Omnibus:                        1.470   Durbin-Watson:                   1.957\n",
      "Prob(Omnibus):                  0.480   Jarque-Bera (JB):                1.363\n",
      "Skew:                          -0.168   Prob(JB):                        0.506\n",
      "Kurtosis:                       2.511   Cond. No.                         4.13\n",
      "==============================================================================\n",
      "\n",
      "Warnings:\n",
      "[1] Standard Errors assume that the covariance matrix of the errors is correctly specified.\n"
     ]
    }
   ],
   "source": [
    "df = pd.DataFrame()\n",
    "\n",
    "df['behav'] = behav_dat[\"d'\"].values\n",
    "df['age'] = behav_dat['Age'].values\n",
    "df['load'] = behav_dat['Load'].values\n",
    " \n",
    "outcome, predictors = patsy.dmatrices(\"behav ~ load + age\", df)\n",
    "mod_base = sm.OLS(outcome, predictors).fit()\n",
    "\n",
    "print(mod_base.summary())"
   ]
  },
  {
   "cell_type": "markdown",
   "metadata": {},
   "source": [
    "### CDA Model"
   ]
  },
  {
   "cell_type": "code",
   "execution_count": 719,
   "metadata": {},
   "outputs": [
    {
     "name": "stdout",
     "output_type": "stream",
     "text": [
      "                            OLS Regression Results                            \n",
      "==============================================================================\n",
      "Dep. Variable:                  behav   R-squared:                       0.230\n",
      "Model:                            OLS   Adj. R-squared:                  0.195\n",
      "Method:                 Least Squares   F-statistic:                     6.556\n",
      "Date:                Mon, 25 Feb 2019   Prob (F-statistic):           0.000115\n",
      "Time:                        23:05:12   Log-Likelihood:                -118.21\n",
      "No. Observations:                  93   AIC:                             246.4\n",
      "Df Residuals:                      88   BIC:                             259.1\n",
      "Df Model:                           4                                         \n",
      "Covariance Type:            nonrobust                                         \n",
      "==============================================================================\n",
      "                 coef    std err          t      P>|t|      [0.025      0.975]\n",
      "------------------------------------------------------------------------------\n",
      "Intercept      4.1246      0.203     20.327      0.000       3.721       4.528\n",
      "load[T.2]     -0.2219      0.229     -0.967      0.336      -0.678       0.234\n",
      "load[T.3]     -0.8142      0.235     -3.462      0.001      -1.282      -0.347\n",
      "age[T.2]      -0.6290      0.187     -3.369      0.001      -1.000      -0.258\n",
      "cda            0.0401      0.094      0.427      0.671      -0.147       0.227\n",
      "==============================================================================\n",
      "Omnibus:                        1.417   Durbin-Watson:                   1.940\n",
      "Prob(Omnibus):                  0.492   Jarque-Bera (JB):                1.357\n",
      "Skew:                          -0.180   Prob(JB):                        0.507\n",
      "Kurtosis:                       2.530   Cond. No.                         6.55\n",
      "==============================================================================\n",
      "\n",
      "Warnings:\n",
      "[1] Standard Errors assume that the covariance matrix of the errors is correctly specified.\n"
     ]
    }
   ],
   "source": [
    "df = pd.DataFrame()\n",
    "\n",
    "df['behav'] = behav_dat[\"d'\"].values\n",
    "df['age'] = behav_dat['Age'].values\n",
    "df['load'] = behav_dat['Load'].values\n",
    "df['cda'] = behav_dat['CDA'].values\n",
    " \n",
    "outcome, predictors = patsy.dmatrices(\"behav ~ load + cda + age\", df)\n",
    "mod_base = sm.OLS(outcome, predictors).fit()\n",
    "\n",
    "print(mod_base.summary())"
   ]
  },
  {
   "cell_type": "markdown",
   "metadata": {},
   "source": [
    "### Predicting from Canonical Alpha"
   ]
  },
  {
   "cell_type": "code",
   "execution_count": 720,
   "metadata": {},
   "outputs": [
    {
     "name": "stdout",
     "output_type": "stream",
     "text": [
      "                            OLS Regression Results                            \n",
      "==============================================================================\n",
      "Dep. Variable:                  behav   R-squared:                       0.322\n",
      "Model:                            OLS   Adj. R-squared:                  0.280\n",
      "Method:                 Least Squares   F-statistic:                     7.683\n",
      "Date:                Mon, 25 Feb 2019   Prob (F-statistic):           5.94e-06\n",
      "Time:                        23:05:12   Log-Likelihood:                -106.24\n",
      "No. Observations:                  87   AIC:                             224.5\n",
      "Df Residuals:                      81   BIC:                             239.3\n",
      "Df Model:                           5                                         \n",
      "Covariance Type:            nonrobust                                         \n",
      "===================================================================================\n",
      "                      coef    std err          t      P>|t|      [0.025      0.975]\n",
      "-----------------------------------------------------------------------------------\n",
      "Intercept           4.0165      0.177     22.720      0.000       3.665       4.368\n",
      "load[T.2]          -0.1524      0.226     -0.676      0.501      -0.601       0.297\n",
      "load[T.3]          -0.8277      0.229     -3.609      0.001      -1.284      -0.371\n",
      "age[T.2]           -0.6437      0.184     -3.499      0.001      -1.010      -0.278\n",
      "al_dif           -2.09e+05   1.49e+05     -1.398      0.166   -5.06e+05    8.84e+04\n",
      "al_dif:age[T.2]  6.709e+05   2.39e+05      2.808      0.006    1.96e+05    1.15e+06\n",
      "==============================================================================\n",
      "Omnibus:                        1.492   Durbin-Watson:                   2.057\n",
      "Prob(Omnibus):                  0.474   Jarque-Bera (JB):                1.307\n",
      "Skew:                          -0.141   Prob(JB):                        0.520\n",
      "Kurtosis:                       2.469   Cond. No.                     3.45e+06\n",
      "==============================================================================\n",
      "\n",
      "Warnings:\n",
      "[1] Standard Errors assume that the covariance matrix of the errors is correctly specified.\n",
      "[2] The smallest eigenvalue is 1.06e-11. This might indicate that there are\n",
      "strong multicollinearity problems or that the design matrix is singular.\n"
     ]
    }
   ],
   "source": [
    "df = pd.DataFrame()\n",
    "\n",
    "df['behav'] = behav_dat[\"d'\"].values\n",
    "df['age'] = behav_dat['Age'].values\n",
    "df['load'] = behav_dat['Load'].values\n",
    "\n",
    "df['al_dif'] = np.concatenate([canal_dif_yng, canal_dif_old])\n",
    " \n",
    "outcome, predictors = patsy.dmatrices(\"behav ~ load + al_dif * age\", df)\n",
    "mod_alpha_can = sm.OLS(outcome, predictors).fit()\n",
    "\n",
    "print(mod_alpha_can.summary())"
   ]
  },
  {
   "cell_type": "markdown",
   "metadata": {},
   "source": [
    "## Predicting from FOOOF: Alpha Power"
   ]
  },
  {
   "cell_type": "code",
   "execution_count": 721,
   "metadata": {},
   "outputs": [
    {
     "name": "stdout",
     "output_type": "stream",
     "text": [
      "                            OLS Regression Results                            \n",
      "==============================================================================\n",
      "Dep. Variable:                  behav   R-squared:                       0.330\n",
      "Model:                            OLS   Adj. R-squared:                  0.289\n",
      "Method:                 Least Squares   F-statistic:                     7.993\n",
      "Date:                Mon, 25 Feb 2019   Prob (F-statistic):           3.66e-06\n",
      "Time:                        23:05:12   Log-Likelihood:                -105.68\n",
      "No. Observations:                  87   AIC:                             223.4\n",
      "Df Residuals:                      81   BIC:                             238.2\n",
      "Df Model:                           5                                         \n",
      "Covariance Type:            nonrobust                                         \n",
      "===================================================================================\n",
      "                      coef    std err          t      P>|t|      [0.025      0.975]\n",
      "-----------------------------------------------------------------------------------\n",
      "Intercept           4.0393      0.183     22.030      0.000       3.674       4.404\n",
      "load[T.2]          -0.0804      0.230     -0.349      0.728      -0.538       0.377\n",
      "load[T.3]          -0.7721      0.234     -3.305      0.001      -1.237      -0.307\n",
      "age[T.2]           -0.7826      0.190     -4.110      0.000      -1.161      -0.404\n",
      "al_dif             -1.3057      0.831     -1.571      0.120      -2.960       0.348\n",
      "al_dif:age[T.2]     3.8092      1.272      2.995      0.004       1.279       6.340\n",
      "==============================================================================\n",
      "Omnibus:                        1.045   Durbin-Watson:                   2.075\n",
      "Prob(Omnibus):                  0.593   Jarque-Bera (JB):                1.090\n",
      "Skew:                          -0.167   Prob(JB):                        0.580\n",
      "Kurtosis:                       2.565   Cond. No.                         18.8\n",
      "==============================================================================\n",
      "\n",
      "Warnings:\n",
      "[1] Standard Errors assume that the covariance matrix of the errors is correctly specified.\n"
     ]
    }
   ],
   "source": [
    "df = pd.DataFrame()\n",
    "\n",
    "df['behav'] = behav_dat[\"d'\"].values\n",
    "df['age'] = behav_dat['Age'].values\n",
    "df['load'] = behav_dat['Load'].values\n",
    "\n",
    "df['al_dif'] = np.concatenate([al_dif_yng, al_dif_old])\n",
    " \n",
    "outcome, predictors = patsy.dmatrices(\"behav ~ load + al_dif * age\", df)\n",
    "mod_alpha_foo = sm.OLS(outcome, predictors).fit()\n",
    "\n",
    "print(mod_alpha_foo.summary())"
   ]
  },
  {
   "cell_type": "markdown",
   "metadata": {},
   "source": [
    "## Predicting from FOOOF: All Alpha"
   ]
  },
  {
   "cell_type": "code",
   "execution_count": 722,
   "metadata": {},
   "outputs": [
    {
     "name": "stdout",
     "output_type": "stream",
     "text": [
      "                            OLS Regression Results                            \n",
      "==============================================================================\n",
      "Dep. Variable:                  behav   R-squared:                       0.386\n",
      "Model:                            OLS   Adj. R-squared:                  0.324\n",
      "Method:                 Least Squares   F-statistic:                     6.141\n",
      "Date:                Mon, 25 Feb 2019   Prob (F-statistic):           3.98e-06\n",
      "Time:                        23:05:13   Log-Likelihood:                -101.87\n",
      "No. Observations:                  87   AIC:                             221.7\n",
      "Df Residuals:                      78   BIC:                             243.9\n",
      "Df Model:                           8                                         \n",
      "Covariance Type:            nonrobust                                         \n",
      "====================================================================================\n",
      "                       coef    std err          t      P>|t|      [0.025      0.975]\n",
      "------------------------------------------------------------------------------------\n",
      "Intercept            3.9549      0.189     20.878      0.000       3.578       4.332\n",
      "load[T.2]           -0.0415      0.228     -0.182      0.856      -0.496       0.413\n",
      "load[T.3]           -0.8020      0.237     -3.385      0.001      -1.274      -0.330\n",
      "age[T.2]            -0.7314      0.190     -3.848      0.000      -1.110      -0.353\n",
      "al_cf_dif            0.3054      0.166      1.836      0.070      -0.026       0.637\n",
      "al_bw_dif:age[1]    -0.1878      0.240     -0.782      0.436      -0.666       0.290\n",
      "al_bw_dif:age[2]    -0.6953      0.267     -2.601      0.011      -1.228      -0.163\n",
      "al_dif              -1.0830      0.823     -1.316      0.192      -2.722       0.556\n",
      "al_dif:age[T.2]      3.5315      1.246      2.835      0.006       1.052       6.011\n",
      "==============================================================================\n",
      "Omnibus:                        3.006   Durbin-Watson:                   2.166\n",
      "Prob(Omnibus):                  0.222   Jarque-Bera (JB):                2.881\n",
      "Skew:                          -0.440   Prob(JB):                        0.237\n",
      "Kurtosis:                       2.853   Cond. No.                         20.6\n",
      "==============================================================================\n",
      "\n",
      "Warnings:\n",
      "[1] Standard Errors assume that the covariance matrix of the errors is correctly specified.\n"
     ]
    }
   ],
   "source": [
    "df = pd.DataFrame()\n",
    "\n",
    "df['behav'] = behav_dat[\"d'\"].values\n",
    "df['age'] = behav_dat['Age'].values\n",
    "df['load'] = behav_dat['Load'].values\n",
    "\n",
    "df['al_dif'] = np.concatenate([al_dif_yng, al_dif_old])\n",
    "df['al_cf_dif'] = np.concatenate([al_cf_dif_yng, al_cf_dif_old])\n",
    "df['al_bw_dif'] = np.concatenate([al_bw_dif_yng, al_bw_dif_old])\n",
    "\n",
    "outcome, predictors = patsy.dmatrices(\"behav ~ load + al_cf_dif + al_bw_dif:age + al_dif * age\", df)\n",
    "mod_alpha_foo_all = sm.OLS(outcome, predictors).fit()\n",
    "\n",
    "print(mod_alpha_foo_all.summary())"
   ]
  },
  {
   "cell_type": "code",
   "execution_count": null,
   "metadata": {},
   "outputs": [],
   "source": []
  },
  {
   "cell_type": "code",
   "execution_count": 723,
   "metadata": {},
   "outputs": [
    {
     "name": "stdout",
     "output_type": "stream",
     "text": [
      "YNG:: \t -0.2590 \t0.0693\n",
      "OLD:: \t  0.0501 \t0.7684\n",
      "ALL:: \t -0.1673 \t0.1214\n"
     ]
    }
   ],
   "source": [
    "print_stat('YNG:', *nan_corr(al_dif_yng, al_cf_dif_yng))\n",
    "print_stat('OLD:', *nan_corr(al_dif_old, al_cf_dif_old))\n",
    "print_stat('ALL:', *nan_corr(np.concatenate([al_dif_yng, al_dif_old]),\n",
    "                             np.concatenate([al_cf_dif_yng, al_cf_dif_old])))"
   ]
  },
  {
   "cell_type": "code",
   "execution_count": null,
   "metadata": {},
   "outputs": [],
   "source": []
  },
  {
   "cell_type": "code",
   "execution_count": null,
   "metadata": {},
   "outputs": [],
   "source": []
  },
  {
   "cell_type": "code",
   "execution_count": 724,
   "metadata": {},
   "outputs": [
    {
     "data": {
      "text/plain": [
       "(nan, 1.0)"
      ]
     },
     "execution_count": 724,
     "metadata": {},
     "output_type": "execute_result"
    },
    {
     "data": {
      "image/png": "[encoded data removed]",
      "text/plain": [
       "<Figure size 432x288 with 1 Axes>"
      ]
     },
     "metadata": {
      "image/png": {
       "height": 250,
       "width": 372
      },
      "needs_background": "light"
     },
     "output_type": "display_data"
    }
   ],
   "source": [
    "plt.scatter(np.concatenate([al_dif_yng, al_dif_old]), np.concatenate([al_cf_dif_yng, al_cf_dif_old]))\n",
    "pearsonr(np.concatenate([al_dif_yng, al_dif_old]), np.concatenate([al_cf_dif_yng, al_cf_dif_old]))"
   ]
  },
  {
   "cell_type": "markdown",
   "metadata": {},
   "source": [
    "## Predicting from FOOOF: Aperiodic"
   ]
  },
  {
   "cell_type": "code",
   "execution_count": 725,
   "metadata": {},
   "outputs": [
    {
     "name": "stdout",
     "output_type": "stream",
     "text": [
      "                            OLS Regression Results                            \n",
      "==============================================================================\n",
      "Dep. Variable:                  behav   R-squared:                       0.297\n",
      "Model:                            OLS   Adj. R-squared:                  0.235\n",
      "Method:                 Least Squares   F-statistic:                     4.766\n",
      "Date:                Mon, 25 Feb 2019   Prob (F-statistic):           0.000166\n",
      "Time:                        23:05:14   Log-Likelihood:                -107.80\n",
      "No. Observations:                  87   AIC:                             231.6\n",
      "Df Residuals:                      79   BIC:                             251.3\n",
      "Df Model:                           7                                         \n",
      "Covariance Type:            nonrobust                                         \n",
      "====================================================================================\n",
      "                       coef    std err          t      P>|t|      [0.025      0.975]\n",
      "------------------------------------------------------------------------------------\n",
      "Intercept            4.1149      0.215     19.104      0.000       3.686       4.544\n",
      "load[T.2]           -0.2648      0.228     -1.162      0.249      -0.718       0.189\n",
      "load[T.3]           -0.8864      0.237     -3.745      0.000      -1.358      -0.415\n",
      "age[T.2]            -0.5421      0.253     -2.143      0.035      -1.046      -0.039\n",
      "exp_dif              2.6917      2.857      0.942      0.349      -2.995       8.379\n",
      "age[T.2]:exp_dif    -8.6602      4.495     -1.927      0.058     -17.607       0.286\n",
      "off_dif:age[1]      -1.1825      2.639     -0.448      0.655      -6.435       4.070\n",
      "off_dif:age[2]       5.2884      3.149      1.680      0.097      -0.979      11.556\n",
      "==============================================================================\n",
      "Omnibus:                        1.572   Durbin-Watson:                   2.080\n",
      "Prob(Omnibus):                  0.456   Jarque-Bera (JB):                1.266\n",
      "Skew:                          -0.085   Prob(JB):                        0.531\n",
      "Kurtosis:                       2.434   Cond. No.                         71.9\n",
      "==============================================================================\n",
      "\n",
      "Warnings:\n",
      "[1] Standard Errors assume that the covariance matrix of the errors is correctly specified.\n"
     ]
    }
   ],
   "source": [
    "df = pd.DataFrame()\n",
    "\n",
    "df['behav'] = behav_dat[\"d'\"].values\n",
    "df['age'] = behav_dat['Age'].values\n",
    "df['load'] = behav_dat['Load'].values\n",
    "\n",
    "df['exp_dif'] = np.concatenate([exp_dif_yng, exp_dif_old])\n",
    "df['off_dif'] = np.concatenate([off_dif_yng, off_dif_old])\n",
    "\n",
    "outcome, predictors = patsy.dmatrices(\"behav ~ load + age * exp_dif + off_dif:age\", df)\n",
    "mod_exponent_foo = sm.OLS(outcome, predictors).fit()\n",
    "\n",
    "print(mod_exponent_foo.summary())"
   ]
  },
  {
   "cell_type": "markdown",
   "metadata": {
    "collapsed": true
   },
   "source": [
    "### Predicting from FOOOF model with Alpha & Aperiodic"
   ]
  },
  {
   "cell_type": "code",
   "execution_count": 726,
   "metadata": {},
   "outputs": [
    {
     "name": "stdout",
     "output_type": "stream",
     "text": [
      "                            OLS Regression Results                            \n",
      "==============================================================================\n",
      "Dep. Variable:                  behav   R-squared:                       0.336\n",
      "Model:                            OLS   Adj. R-squared:                  0.286\n",
      "Method:                 Least Squares   F-statistic:                     6.733\n",
      "Date:                Mon, 25 Feb 2019   Prob (F-statistic):           8.45e-06\n",
      "Time:                        23:05:16   Log-Likelihood:                -105.34\n",
      "No. Observations:                  87   AIC:                             224.7\n",
      "Df Residuals:                      80   BIC:                             241.9\n",
      "Df Model:                           6                                         \n",
      "Covariance Type:            nonrobust                                         \n",
      "===================================================================================\n",
      "                      coef    std err          t      P>|t|      [0.025      0.975]\n",
      "-----------------------------------------------------------------------------------\n",
      "Intercept           4.0609      0.186     21.855      0.000       3.691       4.431\n",
      "load[T.2]          -0.0649      0.231     -0.280      0.780      -0.525       0.396\n",
      "load[T.3]          -0.7460      0.236     -3.154      0.002      -1.217      -0.275\n",
      "age[T.2]           -0.7898      0.191     -4.133      0.000      -1.170      -0.410\n",
      "al_dif             -1.1476      0.857     -1.339      0.184      -2.853       0.558\n",
      "age[T.2]:al_dif     3.7638      1.276      2.949      0.004       1.224       6.303\n",
      "exp_dif             0.7230      0.917      0.789      0.433      -1.101       2.547\n",
      "==============================================================================\n",
      "Omnibus:                        1.021   Durbin-Watson:                   2.106\n",
      "Prob(Omnibus):                  0.600   Jarque-Bera (JB):                1.082\n",
      "Skew:                          -0.174   Prob(JB):                        0.582\n",
      "Kurtosis:                       2.578   Cond. No.                         19.0\n",
      "==============================================================================\n",
      "\n",
      "Warnings:\n",
      "[1] Standard Errors assume that the covariance matrix of the errors is correctly specified.\n"
     ]
    }
   ],
   "source": [
    "df = pd.DataFrame()\n",
    "\n",
    "df['behav'] = behav_dat[\"d'\"].values\n",
    "df['age'] = behav_dat['Age'].values\n",
    "df['load'] = behav_dat['Load'].values\n",
    "\n",
    "df['exp_dif'] = np.concatenate([exp_dif_yng, exp_dif_old])\n",
    "df['al_dif'] = np.concatenate([al_dif_yng, al_dif_old])\n",
    "\n",
    "outcome, predictors = patsy.dmatrices(\"behav ~ load + age * al_dif + exp_dif\", df)\n",
    "mod_all_foo = sm.OLS(outcome, predictors).fit()\n",
    "\n",
    "print(mod_all_foo.summary())"
   ]
  },
  {
   "cell_type": "markdown",
   "metadata": {},
   "source": [
    "## Model Comparisons\n",
    "\n",
    "Explicitly test for differences between different model fits. \n",
    "\n",
    "#### Comparing Nested Models\n",
    "\n",
    "Statsmodels offers three tests for nested models: f test, lagrange multiplier, likelihood ratio\n",
    "\n",
    "Note that these three can be called from a results object, as `compare_x_test` with `f`, `lm` and `lr` as `x`. \n",
    "\n",
    "F-test can also be run with `anova_lm`. \n",
    "\n",
    "#### Comparing Non-Nested Models\n",
    "\n",
    "Statmodels offers two tests for non-nested model: cox test & j test\n",
    "\n",
    "They are better described in the R implementations:\n",
    "\n",
    "- cox_test: http://math.furman.edu/~dcs/courses/math47/R/library/lmtest/html/coxtest.html\n",
    "- j_test: http://math.furman.edu/~dcs/courses/math47/R/library/lmtest/html/jtest.html"
   ]
  },
  {
   "cell_type": "code",
   "execution_count": 727,
   "metadata": {},
   "outputs": [
    {
     "name": "stdout",
     "output_type": "stream",
     "text": [
      "Canonical alpha vs. Base Model\n",
      "   df_resid        ssr  df_diff    ss_diff        F    Pr(>F)\n",
      "0      88.0  69.194025      0.0        NaN      NaN       NaN\n",
      "1      81.0  58.573401      7.0  10.620624  2.09815  0.052908\n",
      "\n",
      "\n",
      "FOOOFed alpha vs. Base Model\n",
      "   df_resid        ssr  df_diff   ss_diff        F    Pr(>F)\n",
      "0      88.0  69.194025      0.0       NaN      NaN       NaN\n",
      "1      81.0  57.823785      7.0  11.37024  2.27536  0.036273\n"
     ]
    }
   ],
   "source": [
    "# Compare nested models: alpha models vs base models\n",
    "with warnings.catch_warnings():\n",
    "    warnings.simplefilter(\"ignore\")\n",
    "    print('Canonical alpha vs. Base Model')\n",
    "    print(anova_lm(mod_base, mod_alpha_can))\n",
    "    print('\\n')\n",
    "    print('FOOOFed alpha vs. Base Model')\n",
    "    print(anova_lm(mod_base, mod_alpha_foo))"
   ]
  },
  {
   "cell_type": "code",
   "execution_count": 728,
   "metadata": {},
   "outputs": [
    {
     "name": "stdout",
     "output_type": "stream",
     "text": [
      "Canonical alpha vs. FOOOFed Alpha\n",
      "Alpha-Model Compare: \t -1.3500 \t0.1770\n"
     ]
    }
   ],
   "source": [
    "# Compare different alpha models\n",
    "print('Canonical alpha vs. FOOOFed Alpha')\n",
    "print_stat('Alpha-Model Compare', *compare_cox.run(mod_alpha_can, mod_alpha_foo))"
   ]
  },
  {
   "cell_type": "code",
   "execution_count": 743,
   "metadata": {},
   "outputs": [
    {
     "name": "stdout",
     "output_type": "stream",
     "text": [
      "Canonical alpha vs. FOOOFed Alpha\n",
      "Alpha-Model Compare: \t -4.3502 \t0.0000\n"
     ]
    }
   ],
   "source": [
    "# Compare different alpha models\n",
    "print('Canonical alpha vs. FOOOFed Alpha')\n",
    "print_stat('Alpha-Model Compare', *compare_cox.run(mod_alpha_can, mod_alpha_foo_all))"
   ]
  },
  {
   "cell_type": "code",
   "execution_count": 729,
   "metadata": {},
   "outputs": [
    {
     "name": "stdout",
     "output_type": "stream",
     "text": [
      "FOOOF aperiodic vs. Base Model\n",
      "   df_resid        ssr  df_diff   ss_diff         F    Pr(>F)\n",
      "0      88.0  69.194025      0.0       NaN       NaN       NaN\n",
      "1      79.0  60.713667      9.0  8.480358  1.226062  0.291344\n"
     ]
    }
   ],
   "source": [
    "# Compare nested model: aperiodic exponent\n",
    "with warnings.catch_warnings():\n",
    "    warnings.simplefilter(\"ignore\")\n",
    "    print('FOOOF aperiodic vs. Base Model')\n",
    "    print(anova_lm(mod_base, mod_exponent_foo))    "
   ]
  },
  {
   "cell_type": "code",
   "execution_count": 227,
   "metadata": {},
   "outputs": [
    {
     "name": "stdout",
     "output_type": "stream",
     "text": [
      "FOOOF Full vs. Canonical Alpha\n",
      "   df_resid        ssr  df_diff   ss_diff        F    Pr(>F)\n",
      "0      81.0  58.573401      0.0       NaN      NaN       NaN\n",
      "1      80.0  57.377602      1.0  1.195799  1.66727  0.200343\n"
     ]
    }
   ],
   "source": [
    "# Compare the full FOOOF model to the one with canonical alpha\n",
    "with warnings.catch_warnings():\n",
    "    warnings.simplefilter(\"ignore\")\n",
    "    print('FOOOF Full vs. Canonical Alpha')\n",
    "    print(anova_lm(mod_alpha_can, mod_all_foo))"
   ]
  },
  {
   "cell_type": "code",
   "execution_count": 228,
   "metadata": {},
   "outputs": [
    {
     "name": "stdout",
     "output_type": "stream",
     "text": [
      "Model comp: \t  0.6221 \t0.4326\n"
     ]
    }
   ],
   "source": [
    "# Compare FOOOF model with exponent to restricted model with just alpha (from FOOOF)\n",
    "lm_val, p_val, df_diff = mod_all_foo.compare_f_test(mod_alpha_foo)\n",
    "print_stat('Model comp', lm_val, p_val)"
   ]
  },
  {
   "cell_type": "code",
   "execution_count": null,
   "metadata": {},
   "outputs": [],
   "source": []
  },
  {
   "cell_type": "code",
   "execution_count": null,
   "metadata": {},
   "outputs": [],
   "source": []
  },
  {
   "cell_type": "code",
   "execution_count": null,
   "metadata": {},
   "outputs": [],
   "source": []
  },
  {
   "cell_type": "markdown",
   "metadata": {},
   "source": [
    "## Correlations\n",
    "\n",
    "????"
   ]
  },
  {
   "cell_type": "code",
   "execution_count": 273,
   "metadata": {},
   "outputs": [],
   "source": [
    "# Generate the power @ alpha frequency given the aperiodic component, from the FOOOF fits\n",
    "ap_alpha = []\n",
    "for cf, off, exp in zip(all_alphas_cf.flatten(), all_offsets.flatten(), all_exps.flatten()):\n",
    "    ap_alpha.append(gen_aperiodic(np.array([10]), [off, exp])[0])\n",
    "ap_alpha = np.array(ap_alpha)\n",
    "\n",
    "# Calculate the total power at 10 Hz (or about) from the \n",
    "foo_total = ap_alpha + all_alphas.flatten()"
   ]
  },
  {
   "cell_type": "code",
   "execution_count": 255,
   "metadata": {},
   "outputs": [],
   "source": [
    "nan_inds = np.isnan(ap_alpha)"
   ]
  },
  {
   "cell_type": "code",
   "execution_count": null,
   "metadata": {},
   "outputs": [],
   "source": []
  },
  {
   "cell_type": "code",
   "execution_count": 232,
   "metadata": {},
   "outputs": [
    {
     "name": "stdout",
     "output_type": "stream",
     "text": [
      ": \t  0.3310 \t0.0000\n"
     ]
    }
   ],
   "source": [
    "# Calculate correlation between canonical and FOOOF alpha\n",
    "print_stat('', *pearsonr(np.array(canalpha.flatten())[~nan_inds], np.array(all_alphas.flatten())[~nan_inds]))"
   ]
  },
  {
   "cell_type": "code",
   "execution_count": 233,
   "metadata": {},
   "outputs": [
    {
     "name": "stdout",
     "output_type": "stream",
     "text": [
      ": \t  0.0271 \t0.6586\n"
     ]
    }
   ],
   "source": [
    "# Calculate correlation between canonical alpha and aperiodic component @ 10 Hz\n",
    "print_stat('', *pearsonr(np.array(canalpha.flatten())[~nan_inds], np.array(ww)[~nan_inds]))"
   ]
  },
  {
   "cell_type": "code",
   "execution_count": 234,
   "metadata": {},
   "outputs": [
    {
     "name": "stdout",
     "output_type": "stream",
     "text": [
      ": \t  0.2331 \t0.0001\n"
     ]
    }
   ],
   "source": [
    "# Calculate correlation between the canonical alpha and the FOOOF model total @ 10 Hz\n",
    "print_stat('',*pearsonr(np.array(canalpha.flatten())[~nan_inds], np.array(foo_total.flatten())[~nan_inds]))"
   ]
  },
  {
   "cell_type": "code",
   "execution_count": null,
   "metadata": {},
   "outputs": [],
   "source": []
  },
  {
   "cell_type": "code",
   "execution_count": null,
   "metadata": {},
   "outputs": [],
   "source": []
  },
  {
   "cell_type": "code",
   "execution_count": null,
   "metadata": {},
   "outputs": [],
   "source": []
  },
  {
   "cell_type": "code",
   "execution_count": 181,
   "metadata": {},
   "outputs": [
    {
     "name": "stdout",
     "output_type": "stream",
     "text": [
      "Sl-Lo-d': \t   nan \t1.0000\n",
      "Al-Lo-d': \t   nan \t1.0000\n"
     ]
    }
   ],
   "source": [
    "# Check correlation between exponent & d', and alpha & d' - for a specific load and time point\n",
    "\n",
    "# Set which load and time point to use\n",
    "l_ind = 0\n",
    "t_ind = 0\n",
    "\n",
    "print_stat(\"Sl-Lo-d'\", *pearsonr(all_exps[l_ind, :, t_ind],\n",
    "                                 behav_dat[behav_dat.Load == str(l_ind + 1)][\"d'\"]))\n",
    "print_stat(\"Al-Lo-d'\", *pearsonr(all_alphas[l_ind, :, t_ind],\n",
    "                                 behav_dat[behav_dat.Load == str(l_ind + 1)][\"d'\"]))"
   ]
  },
  {
   "cell_type": "code",
   "execution_count": 37,
   "metadata": {},
   "outputs": [
    {
     "name": "stdout",
     "output_type": "stream",
     "text": [
      "Sl-d': \t   nan \t1.0000\n",
      "Al-d': \t   nan \t1.0000\n"
     ]
    }
   ],
   "source": [
    "t_ind = 2\n",
    "\n",
    "print_stat(\"Sl-d'\", *pearsonr(all_exps[:, :, t_ind].flatten(), behav_dat[\"d'\"].values))\n",
    "print_stat(\"Al-d'\", *pearsonr(all_alphas[:, :, t_ind].flatten(), behav_dat[\"d'\"].values))"
   ]
  },
  {
   "cell_type": "code",
   "execution_count": 38,
   "metadata": {},
   "outputs": [
    {
     "name": "stdout",
     "output_type": "stream",
     "text": [
      "XX: \t   nan \t1.0000\n",
      "XX: \t   nan \t1.0000\n"
     ]
    }
   ],
   "source": [
    "# Average d' with average measures\n",
    "t_ind = 2\n",
    "print_stat('XX', *pearsonr(avg_behav[\"d'\"], np.mean(all_exps[:, :, t_ind], 0)))\n",
    "print_stat('XX', *pearsonr(avg_behav[\"d'\"], np.mean(all_alphas[:, :, t_ind], 0)))"
   ]
  },
  {
   "cell_type": "code",
   "execution_count": 39,
   "metadata": {},
   "outputs": [
    {
     "name": "stdout",
     "output_type": "stream",
     "text": [
      "XX: \t   nan \t1.0000\n",
      "XX: \t   nan \t1.0000\n"
     ]
    }
   ],
   "source": [
    "# Average d' with average measures: diff measures\n",
    "t_ind = 2\n",
    "print_stat('XX', *pearsonr(avg_behav[\"d'\"], np.mean(all_exps[:, :, 2] - all_exps[:, :, 0], 0)))\n",
    "print_stat('XX', *pearsonr(avg_behav[\"d'\"], np.mean(all_alphas[:, :, 2] - all_alphas[:, :, 0], 0)))"
   ]
  },
  {
   "cell_type": "code",
   "execution_count": 40,
   "metadata": {},
   "outputs": [
    {
     "name": "stdout",
     "output_type": "stream",
     "text": [
      "Yng-Sl: \t   nan \t1.0000\n",
      "Old-Sl: \t   nan \t1.0000\n",
      "\n",
      "Yng-Al: \t   nan \t1.0000\n",
      "Old-Al: \t   nan \t1.0000\n",
      "\n",
      "Yng-CanAl: \t   nan \t1.0000\n",
      "Old-CanAl: \t   nan \t1.0000\n"
     ]
    }
   ],
   "source": [
    "ind = 2\n",
    "\n",
    "print_stat('Yng-Sl', *pearsonr(exp_st_yng[:, ind], behav_dat[behav_dat.Age == '1'][\"d'\"]))\n",
    "print_stat('Old-Sl', *pearsonr(exp_st_old[:, ind], behav_dat[behav_dat.Age == '2'][\"d'\"]))\n",
    "\n",
    "print('')\n",
    "\n",
    "print_stat('Yng-Al', *pearsonr(al_st_yng[:, ind], behav_dat[behav_dat.Age == '1'][\"d'\"]))\n",
    "print_stat('Old-Al', *pearsonr(al_st_old[:, ind], behav_dat[behav_dat.Age == '2'][\"d'\"]))\n",
    "\n",
    "print('')\n",
    "\n",
    "print_stat('Yng-CanAl', *pearsonr(canal_st_yng[:, ind], behav_dat[behav_dat.Age == '1'][\"d'\"]))\n",
    "print_stat('Old-CanAl', *pearsonr(canal_st_old[:, ind], behav_dat[behav_dat.Age == '2'][\"d'\"]))"
   ]
  },
  {
   "cell_type": "code",
   "execution_count": null,
   "metadata": {},
   "outputs": [],
   "source": []
  },
  {
   "cell_type": "code",
   "execution_count": 41,
   "metadata": {},
   "outputs": [],
   "source": [
    "# Average across loads\n",
    "sl_resps = np.diff(np.mean(all_exps, 0))\n",
    "al_resps = np.diff(np.mean(all_alphas, 0))\n",
    "\n",
    "# # Take specific load\n",
    "# load_ind = 2\n",
    "# sl_resps = all_exps[load_ind, :, :]\n",
    "# al_resps = all_alphas[load_ind, :, :]"
   ]
  },
  {
   "cell_type": "code",
   "execution_count": 42,
   "metadata": {},
   "outputs": [
    {
     "name": "stdout",
     "output_type": "stream",
     "text": [
      "SLR & ALR - 1: \t   nan \t1.0000\n",
      "SLR & ALR - 2: \t   nan \t1.0000\n"
     ]
    }
   ],
   "source": [
    "# Correlations between reactivity measures\n",
    "print_stat('SLR & ALR - 1', *pearsonr(sl_resps[:, 0], al_resps[:, 0]))\n",
    "print_stat('SLR & ALR - 2', *pearsonr(sl_resps[:, 1], al_resps[:, 1]))"
   ]
  },
  {
   "cell_type": "code",
   "execution_count": 43,
   "metadata": {},
   "outputs": [],
   "source": [
    "# ind = 0\n",
    "# edat = sl_resps\n",
    "\n",
    "# print_stat('\\tALL', *pearsonr(avg_behav[\"d'\"], al_resps[:, 0]))\n",
    "# print_stat('\\tYNG', *pearsonr(avg_behav[avg_behav['Age'] == '1'][\"d'\"], edat[YNG_INDS, ind]))\n",
    "# print_stat('\\tOLD', *pearsonr(avg_behav[avg_behav['Age'] == '2'][\"d'\"], edat[OLD_INDS, ind]))"
   ]
  },
  {
   "cell_type": "code",
   "execution_count": 44,
   "metadata": {},
   "outputs": [],
   "source": [
    "# edat = sl_resps\n",
    "\n",
    "# print_stat('\\tALL', *pearsonr(avg_behav[\"d'\"], al_resps[:, 0]))\n",
    "# print_stat('\\tYNG', *pearsonr(avg_behav[avg_behav['Age'] == 1][\"d'\"], np.mean(edat[YNG_INDS], 1)))\n",
    "# print_stat('\\tOLD', *pearsonr(avg_behav[avg_behav['Age'] == 2][\"d'\"], np.mean(edat[OLD_INDS], 1)))"
   ]
  },
  {
   "cell_type": "code",
   "execution_count": 45,
   "metadata": {},
   "outputs": [
    {
     "name": "stdout",
     "output_type": "stream",
     "text": [
      "(nan, 1.0)\n",
      "(nan, 1.0)\n"
     ]
    }
   ],
   "source": [
    "print(pearsonr(avg_behav[\"CDA\"], al_resps[:, 0]))\n",
    "print(pearsonr(avg_behav[\"CDA\"], sl_resps[:, 0]))"
   ]
  },
  {
   "cell_type": "code",
   "execution_count": 46,
   "metadata": {},
   "outputs": [
    {
     "name": "stdout",
     "output_type": "stream",
     "text": [
      "(nan, 1.0)\n",
      "(nan, 1.0)\n"
     ]
    }
   ],
   "source": [
    "print(pearsonr(exp_dif_yng, al_dif_yng))\n",
    "print(pearsonr(exp_dif_old, al_dif_old))"
   ]
  },
  {
   "cell_type": "code",
   "execution_count": null,
   "metadata": {},
   "outputs": [],
   "source": []
  },
  {
   "cell_type": "markdown",
   "metadata": {},
   "source": [
    "## Miscellaneous Crap"
   ]
  },
  {
   "cell_type": "code",
   "execution_count": 47,
   "metadata": {},
   "outputs": [],
   "source": [
    "# # Build the dataframe\n",
    "\n",
    "# t_ind = 2\n",
    "# l_ind = 0 \n",
    "\n",
    "# df = pd.DataFrame()\n",
    "\n",
    "# df['behav'] = behav_dat[behav_dat['Load'] == l_ind+1][\"d'\"].values\n",
    "# df['age'] = behav_dat[behav_dat['Load'] == l_ind+1][\"Age\"].values\n",
    "\n",
    "# df['exp_dif'] = np.concatenate([exp_dif_yng, exp_dif_old])\n",
    "# df['al_dif'] = np.concatenate([al_dif_yng, al_dif_old])\n",
    "\n",
    "# # \n",
    "# outcome, predictors = patsy.dmatrices(\"behav ~ exp_dif + al_dif + age\", df)\n",
    "# #outcome, predictors = patsy.dmatrices(\"behav ~ age * exp_dif\", df)\n",
    "# mod = sm.OLS(outcome, predictors)\n",
    "# res = mod.fit()\n",
    "\n",
    "# # Check out the results\n",
    "# print(res.summary())"
   ]
  },
  {
   "cell_type": "code",
   "execution_count": null,
   "metadata": {},
   "outputs": [],
   "source": []
  },
  {
   "cell_type": "code",
   "execution_count": 48,
   "metadata": {},
   "outputs": [],
   "source": [
    "#\n",
    "al_ = np.mean(all_exps[:, YNG_INDS, :], 0)\n",
    "\n",
    "exp_st_yng = np.vstack([all_exps[0, YNG_INDS, :], all_exps[1, YNG_INDS, :], all_exps[2, YNG_INDS, :]])\n",
    "exp_st_old = np.vstack([all_exps[0, OLD_INDS, :], all_exps[1, OLD_INDS, :], all_exps[2, OLD_INDS, :]])\n",
    "\n",
    "#\n",
    "al_st_yng = np.vstack([all_alphas[0, YNG_INDS, :], all_alphas[1, YNG_INDS, :], all_alphas[2, YNG_INDS, :]])\n",
    "al_st_old = np.vstack([all_alphas[0, OLD_INDS, :], all_alphas[1, OLD_INDS, :], all_alphas[2, OLD_INDS, :]])"
   ]
  },
  {
   "cell_type": "code",
   "execution_count": null,
   "metadata": {},
   "outputs": [],
   "source": []
  },
  {
   "cell_type": "code",
   "execution_count": 49,
   "metadata": {},
   "outputs": [],
   "source": [
    "# Get the change in behavioural scores between highes & lowest loads\n",
    "delta_behavs = []\n",
    "temp_df = behav_dat[behav_dat.Age == 1]\n",
    "for subj_id in set(temp_df.SubjID.values):\n",
    "    temp = behav_dat[behav_dat.SubjID == subj_id]\n",
    "    delta_behavs.append(temp[temp.Load == 3][\"d'\"].values[0] - temp[temp.Load == 1][\"d'\"].values[0])\n",
    "delta_behavs = np.array(delta_behavs)"
   ]
  },
  {
   "cell_type": "code",
   "execution_count": 50,
   "metadata": {},
   "outputs": [],
   "source": [
    "#behav_dat.Age == 2"
   ]
  },
  {
   "cell_type": "code",
   "execution_count": 51,
   "metadata": {},
   "outputs": [],
   "source": [
    "# Get the change in physiological scores between highes & lowest loads\n",
    "temp_dat = all_exps\n",
    "temp = temp_dat[2, :, :] - temp_dat[0, :, :]\n",
    "temp[np.isnan(temp)] = 0\n",
    "delta_phys = temp[:, 2] - temp[:, 0]"
   ]
  },
  {
   "cell_type": "code",
   "execution_count": null,
   "metadata": {},
   "outputs": [],
   "source": []
  },
  {
   "cell_type": "code",
   "execution_count": 52,
   "metadata": {},
   "outputs": [],
   "source": [
    "#print('ALL:', pearsonr(delta_behavs, delta_phys[OLD_INDS]))\n",
    "#plt.scatter(delta_behavs, delta_phys[OLD_INDS])"
   ]
  },
  {
   "cell_type": "code",
   "execution_count": 53,
   "metadata": {},
   "outputs": [],
   "source": [
    "#print('ALL:', pearsonr(delta_behavs, delta_phys[YNG_INDS]))\n",
    "#plt.scatter(delta_behavs, delta_phys[YNG_INDS])"
   ]
  },
  {
   "cell_type": "code",
   "execution_count": 54,
   "metadata": {},
   "outputs": [],
   "source": [
    "# plt.scatter(delta_behavs[OLD_INDS], delta_phys[OLD_INDS], label='OLD')\n",
    "# print('OLD:', pearsonr(delta_behavs[OLD_INDS], delta_phys[OLD_INDS]))\n",
    "# plt.scatter(delta_behavs[YNG_INDS], delta_phys[YNG_INDS], label='YNG')\n",
    "# print('YNG:', pearsonr(delta_behavs[YNG_INDS], delta_phys[YNG_INDS]))\n",
    "# plt.legend()\n",
    "# plt.xlabel('Delta Behav');\n",
    "# plt.ylabel('Delta Physiology');"
   ]
  },
  {
   "cell_type": "code",
   "execution_count": null,
   "metadata": {},
   "outputs": [],
   "source": []
  },
  {
   "cell_type": "code",
   "execution_count": 55,
   "metadata": {},
   "outputs": [],
   "source": [
    "#cur_dat = canalpha\n",
    "#cur_dat = all_exps\n",
    "cur_dat = all_alphas\n",
    "\n",
    "# Get phys-responsiveness, as late minus pre\n",
    "temp = cur_dat[:, :, 2] - cur_dat[:, :, 1]\n",
    "# Or - just take late\n",
    "#temp = cur_dat[:, :, 2]\n",
    "\n",
    "# Replace any nans as zeros\n",
    "temp[np.isnan(temp)] = 0\n",
    "\n",
    "# Get delta physiology as high load minus low load\n",
    "delta_phys = temp[2, :] - temp[0, :]"
   ]
  },
  {
   "cell_type": "code",
   "execution_count": null,
   "metadata": {},
   "outputs": [],
   "source": []
  },
  {
   "cell_type": "code",
   "execution_count": 56,
   "metadata": {},
   "outputs": [],
   "source": [
    "# print('ALL:', pearsonr(delta_behavs, delta_phys))\n",
    "# print('OLD:', pearsonr(delta_behavs[OLD_INDS], delta_phys[OLD_INDS]))\n",
    "# print('YNG:', pearsonr(delta_behavs[YNG_INDS], delta_phys[YNG_INDS]))\n",
    "\n",
    "# plt.scatter(delta_behavs[OLD_INDS], delta_phys[OLD_INDS], label='OLD')\n",
    "# plt.scatter(delta_behavs[YNG_INDS], delta_phys[YNG_INDS], label='YNG')\n",
    "\n",
    "# #plt.ylim([-0.0000005, 0.0000005])\n",
    "\n",
    "# plt.legend()\n",
    "# plt.xlabel('Delta Behav');\n",
    "# plt.ylabel('Delta Physiology');"
   ]
  },
  {
   "cell_type": "code",
   "execution_count": null,
   "metadata": {},
   "outputs": [],
   "source": []
  },
  {
   "cell_type": "code",
   "execution_count": 57,
   "metadata": {
    "scrolled": false
   },
   "outputs": [
    {
     "name": "stdout",
     "output_type": "stream",
     "text": [
      "0 \t 0\n",
      "1 \t 5\n",
      "2 \t 0\n",
      "3 \t 1\n",
      "4 \t 0\n",
      "5 \t 0\n",
      "6 \t 0\n",
      "7 \t 0\n",
      "8 \t 3\n",
      "9 \t 0\n",
      "10 \t 0\n",
      "11 \t 0\n",
      "12 \t 0\n",
      "13 \t 0\n",
      "14 \t 0\n",
      "15 \t 0\n",
      "16 \t 0\n",
      "17 \t 0\n",
      "18 \t 0\n",
      "19 \t 0\n",
      "20 \t 0\n",
      "21 \t 0\n",
      "22 \t 0\n",
      "23 \t 0\n",
      "24 \t 0\n",
      "25 \t 0\n",
      "26 \t 0\n",
      "27 \t 0\n",
      "28 \t 0\n",
      "29 \t 1\n",
      "30 \t 0\n"
     ]
    }
   ],
   "source": [
    "# Check for missing data\n",
    "for si, dd in zip(range(31), sum(np.isnan(all_alphas), 0).sum(1)):\n",
    "    print(si, '\\t', dd)"
   ]
  },
  {
   "cell_type": "markdown",
   "metadata": {},
   "source": [
    "# Predict canonalpha from FOOOF alpha + chi\n",
    "\n",
    "1) Canonical Alpha vs. FOOOF alpha\n",
    "\n",
    "2) Canonical Alpha vs. Chi\n",
    "\n",
    "3) Canonical Alpha cs. FOOOF alpha + chi"
   ]
  },
  {
   "cell_type": "code",
   "execution_count": 58,
   "metadata": {},
   "outputs": [],
   "source": [
    "from sklearn import preprocessing"
   ]
  },
  {
   "cell_type": "code",
   "execution_count": 59,
   "metadata": {},
   "outputs": [],
   "source": [
    "can_scaled = preprocessing.scale(canalpha.flatten())\n",
    "alf_scaled = preprocessing.scale(all_alphas.flatten())\n",
    "exp_scaled = preprocessing.scale(all_exps.flatten())"
   ]
  },
  {
   "cell_type": "code",
   "execution_count": 60,
   "metadata": {},
   "outputs": [
    {
     "data": {
      "text/plain": [
       "<matplotlib.collections.PathCollection at 0x1c20e1e0b8>"
      ]
     },
     "execution_count": 60,
     "metadata": {},
     "output_type": "execute_result"
    },
    {
     "data": {
      "image/png": "[encoded data removed]",
      "text/plain": [
       "<Figure size 432x288 with 1 Axes>"
      ]
     },
     "metadata": {
      "image/png": {
       "height": 250,
       "width": 372
      },
      "needs_background": "light"
     },
     "output_type": "display_data"
    }
   ],
   "source": [
    "plt.scatter(alf_scaled, can_scaled)"
   ]
  },
  {
   "cell_type": "code",
   "execution_count": 61,
   "metadata": {},
   "outputs": [
    {
     "data": {
      "text/plain": [
       "<matplotlib.collections.PathCollection at 0x1c20e689b0>"
      ]
     },
     "execution_count": 61,
     "metadata": {},
     "output_type": "execute_result"
    },
    {
     "data": {
      "image/png": "[encoded data removed]",
      "text/plain": [
       "<Figure size 432x288 with 1 Axes>"
      ]
     },
     "metadata": {
      "image/png": {
       "height": 250,
       "width": 372
      },
      "needs_background": "light"
     },
     "output_type": "display_data"
    }
   ],
   "source": [
    "plt.scatter(exp_scaled, can_scaled)"
   ]
  },
  {
   "cell_type": "code",
   "execution_count": 62,
   "metadata": {},
   "outputs": [
    {
     "data": {
      "text/plain": [
       "<matplotlib.collections.PathCollection at 0x1c208fdb38>"
      ]
     },
     "execution_count": 62,
     "metadata": {},
     "output_type": "execute_result"
    },
    {
     "data": {
      "image/png": "[encoded data removed]",
      "text/plain": [
       "<Figure size 432x288 with 1 Axes>"
      ]
     },
     "metadata": {
      "image/png": {
       "height": 250,
       "width": 372
      },
      "needs_background": "light"
     },
     "output_type": "display_data"
    }
   ],
   "source": [
    "plt.scatter(exp_scaled, alf_scaled)"
   ]
  },
  {
   "cell_type": "code",
   "execution_count": null,
   "metadata": {},
   "outputs": [],
   "source": []
  },
  {
   "cell_type": "code",
   "execution_count": null,
   "metadata": {},
   "outputs": [],
   "source": []
  },
  {
   "cell_type": "code",
   "execution_count": 63,
   "metadata": {},
   "outputs": [
    {
     "data": {
      "text/plain": [
       "<matplotlib.collections.PathCollection at 0x1c214b9ef0>"
      ]
     },
     "execution_count": 63,
     "metadata": {},
     "output_type": "execute_result"
    },
    {
     "data": {
      "image/png": "[encoded data removed]",
      "text/plain": [
       "<Figure size 432x288 with 1 Axes>"
      ]
     },
     "metadata": {
      "image/png": {
       "height": 250,
       "width": 373
      },
      "needs_background": "light"
     },
     "output_type": "display_data"
    }
   ],
   "source": [
    "plt.scatter(canalpha.flatten(), all_alphas.flatten())\n",
    "#plt.xlim([canalpha.flatten().min(), canalpha.flatten().max()]);"
   ]
  },
  {
   "cell_type": "code",
   "execution_count": null,
   "metadata": {},
   "outputs": [],
   "source": []
  },
  {
   "cell_type": "code",
   "execution_count": 64,
   "metadata": {},
   "outputs": [
    {
     "data": {
      "text/plain": [
       "279"
      ]
     },
     "execution_count": 64,
     "metadata": {},
     "output_type": "execute_result"
    }
   ],
   "source": [
    "len(alf_scaled)"
   ]
  },
  {
   "cell_type": "code",
   "execution_count": 65,
   "metadata": {},
   "outputs": [
    {
     "data": {
      "text/plain": [
       "279"
      ]
     },
     "execution_count": 65,
     "metadata": {},
     "output_type": "execute_result"
    }
   ],
   "source": [
    "len(exp_scaled)"
   ]
  },
  {
   "cell_type": "code",
   "execution_count": null,
   "metadata": {},
   "outputs": [],
   "source": []
  },
  {
   "cell_type": "code",
   "execution_count": 66,
   "metadata": {},
   "outputs": [
    {
     "name": "stdout",
     "output_type": "stream",
     "text": [
      "                            OLS Regression Results                            \n",
      "==============================================================================\n",
      "Dep. Variable:                  canal   R-squared:                       0.790\n",
      "Model:                            OLS   Adj. R-squared:                  0.783\n",
      "Method:                 Least Squares   F-statistic:                     104.3\n",
      "Date:                Mon, 25 Feb 2019   Prob (F-statistic):           4.55e-28\n",
      "Time:                        20:58:10   Log-Likelihood:                 1166.3\n",
      "No. Observations:                  87   AIC:                            -2325.\n",
      "Df Residuals:                      83   BIC:                            -2315.\n",
      "Df Model:                           3                                         \n",
      "Covariance Type:            nonrobust                                         \n",
      "==============================================================================\n",
      "                 coef    std err          t      P>|t|      [0.025      0.975]\n",
      "------------------------------------------------------------------------------\n",
      "Intercept  -1.806e-07   4.57e-08     -3.952      0.000   -2.72e-07   -8.97e-08\n",
      "fal         3.693e-06   3.69e-07     10.001      0.000    2.96e-06    4.43e-06\n",
      "exp         3.962e-07   4.41e-07      0.898      0.372   -4.81e-07    1.27e-06\n",
      "fal:exp    -9.403e-06   2.65e-06     -3.552      0.001   -1.47e-05   -4.14e-06\n",
      "==============================================================================\n",
      "Omnibus:                       35.399   Durbin-Watson:                   1.963\n",
      "Prob(Omnibus):                  0.000   Jarque-Bera (JB):               78.075\n",
      "Skew:                           1.486   Prob(JB):                     1.11e-17\n",
      "Kurtosis:                       6.565   Cond. No.                         66.8\n",
      "==============================================================================\n",
      "\n",
      "Warnings:\n",
      "[1] Standard Errors assume that the covariance matrix of the errors is correctly specified.\n"
     ]
    }
   ],
   "source": [
    "# Build the dataframe\n",
    "df = pd.DataFrame()\n",
    "\n",
    "df['exp'] = np.concatenate([exp_dif_yng, exp_dif_old])\n",
    "df['fal'] = np.concatenate([al_dif_yng, al_dif_old])\n",
    "df['canal'] = np.concatenate([canal_dif_yng, canal_dif_old])\n",
    "#df['exp'] = all_exps[:, :, 1].flatten()\n",
    "#df['fal'] = all_alphas[:, :, 1].flatten()\n",
    "#df['canal'] = canalpha[:, :, 1].flatten()\n",
    "\n",
    "outcome, predictors = patsy.dmatrices(\"canal ~ fal * exp\", df)\n",
    "mod = sm.OLS(outcome, predictors)\n",
    "res = mod.fit()\n",
    "\n",
    "# Check out the results\n",
    "print(res.summary())"
   ]
  },
  {
   "cell_type": "code",
   "execution_count": 67,
   "metadata": {},
   "outputs": [
    {
     "data": {
      "text/plain": [
       "array(-1.80554058e-06)"
      ]
     },
     "execution_count": 67,
     "metadata": {},
     "output_type": "execute_result"
    }
   ],
   "source": [
    "outcome.min()"
   ]
  },
  {
   "cell_type": "code",
   "execution_count": 68,
   "metadata": {},
   "outputs": [
    {
     "ename": "NameError",
     "evalue": "name 'qq' is not defined",
     "output_type": "error",
     "traceback": [
      "\u001b[0;31m---------------------------------------------------------------------------\u001b[0m",
      "\u001b[0;31mNameError\u001b[0m                                 Traceback (most recent call last)",
      "\u001b[0;32m<ipython-input-68-cd9cedbf1283>\u001b[0m in \u001b[0;36m<module>\u001b[0;34m\u001b[0m\n\u001b[0;32m----> 1\u001b[0;31m \u001b[0mplt\u001b[0m\u001b[0;34m.\u001b[0m\u001b[0mscatter\u001b[0m\u001b[0;34m(\u001b[0m\u001b[0mqq\u001b[0m\u001b[0;34m,\u001b[0m \u001b[0moutcome\u001b[0m\u001b[0;34m)\u001b[0m\u001b[0;34m\u001b[0m\u001b[0;34m\u001b[0m\u001b[0m\n\u001b[0m\u001b[1;32m      2\u001b[0m \u001b[0mplt\u001b[0m\u001b[0;34m.\u001b[0m\u001b[0mxlim\u001b[0m\u001b[0;34m(\u001b[0m\u001b[0;34m[\u001b[0m\u001b[0moutcome\u001b[0m\u001b[0;34m.\u001b[0m\u001b[0mmin\u001b[0m\u001b[0;34m(\u001b[0m\u001b[0;34m)\u001b[0m\u001b[0;34m,\u001b[0m \u001b[0moutcome\u001b[0m\u001b[0;34m.\u001b[0m\u001b[0mmax\u001b[0m\u001b[0;34m(\u001b[0m\u001b[0;34m)\u001b[0m\u001b[0;34m]\u001b[0m\u001b[0;34m)\u001b[0m\u001b[0;34m\u001b[0m\u001b[0;34m\u001b[0m\u001b[0m\n\u001b[1;32m      3\u001b[0m \u001b[0mplt\u001b[0m\u001b[0;34m.\u001b[0m\u001b[0mylim\u001b[0m\u001b[0;34m(\u001b[0m\u001b[0;34m[\u001b[0m\u001b[0moutcome\u001b[0m\u001b[0;34m.\u001b[0m\u001b[0mmin\u001b[0m\u001b[0;34m(\u001b[0m\u001b[0;34m)\u001b[0m\u001b[0;34m,\u001b[0m \u001b[0moutcome\u001b[0m\u001b[0;34m.\u001b[0m\u001b[0mmax\u001b[0m\u001b[0;34m(\u001b[0m\u001b[0;34m)\u001b[0m\u001b[0;34m]\u001b[0m\u001b[0;34m)\u001b[0m\u001b[0;34m\u001b[0m\u001b[0;34m\u001b[0m\u001b[0m\n",
      "\u001b[0;31mNameError\u001b[0m: name 'qq' is not defined"
     ]
    }
   ],
   "source": [
    "plt.scatter(qq, outcome)\n",
    "plt.xlim([outcome.min(), outcome.max()])\n",
    "plt.ylim([outcome.min(), outcome.max()])"
   ]
  },
  {
   "cell_type": "code",
   "execution_count": null,
   "metadata": {},
   "outputs": [],
   "source": [
    "plt.scatter(qq, outcome)\n",
    "plt.xlim([outcome.min(), outcome.max()])\n",
    "plt.ylim([outcome.min(), outcome.max()])"
   ]
  },
  {
   "cell_type": "code",
   "execution_count": null,
   "metadata": {},
   "outputs": [],
   "source": []
  },
  {
   "cell_type": "code",
   "execution_count": null,
   "metadata": {},
   "outputs": [],
   "source": []
  },
  {
   "cell_type": "code",
   "execution_count": null,
   "metadata": {},
   "outputs": [],
   "source": [
    "qq = res.predict(predictors)"
   ]
  },
  {
   "cell_type": "code",
   "execution_count": null,
   "metadata": {},
   "outputs": [],
   "source": [
    "res.params"
   ]
  },
  {
   "cell_type": "code",
   "execution_count": null,
   "metadata": {},
   "outputs": [],
   "source": [
    "df['fal'].values"
   ]
  },
  {
   "cell_type": "code",
   "execution_count": null,
   "metadata": {},
   "outputs": [],
   "source": [
    "df.corr('spearman')"
   ]
  },
  {
   "cell_type": "code",
   "execution_count": null,
   "metadata": {},
   "outputs": [],
   "source": [
    "pd.plotting.scatter_matrix(df);"
   ]
  },
  {
   "cell_type": "code",
   "execution_count": null,
   "metadata": {},
   "outputs": [],
   "source": [
    "df.corr?"
   ]
  },
  {
   "cell_type": "code",
   "execution_count": null,
   "metadata": {},
   "outputs": [],
   "source": [
    "all_alphas"
   ]
  },
  {
   "cell_type": "code",
   "execution_count": null,
   "metadata": {},
   "outputs": [],
   "source": []
  },
  {
   "cell_type": "code",
   "execution_count": null,
   "metadata": {},
   "outputs": [],
   "source": []
  },
  {
   "cell_type": "code",
   "execution_count": null,
   "metadata": {},
   "outputs": [],
   "source": [
    "gen_aperiodic(np.array([10, 11]), [1, 1])"
   ]
  },
  {
   "cell_type": "code",
   "execution_count": null,
   "metadata": {},
   "outputs": [],
   "source": [
    "gen_aperiodic?"
   ]
  },
  {
   "cell_type": "code",
   "execution_count": null,
   "metadata": {},
   "outputs": [],
   "source": []
  },
  {
   "cell_type": "code",
   "execution_count": 745,
   "metadata": {},
   "outputs": [],
   "source": [
    "from statsmodels.stats.diagnostic import CompareCox, compare_cox, CompareJ, compare_j\n",
    "\n"
   ]
  },
  {
   "cell_type": "code",
   "execution_count": 748,
   "metadata": {},
   "outputs": [],
   "source": [
    "compare_cox.__doc__ = CompareCox.run.__doc__"
   ]
  },
  {
   "cell_type": "code",
   "execution_count": 749,
   "metadata": {},
   "outputs": [],
   "source": [
    "compare_cox?"
   ]
  },
  {
   "cell_type": "code",
   "execution_count": 747,
   "metadata": {},
   "outputs": [
    {
     "name": "stdout",
     "output_type": "stream",
     "text": [
      "run Cox test for non-nested models\n",
      "\n",
      "        Parameters\n",
      "        ----------\n",
      "        results_x : Result instance\n",
      "            result instance of first model\n",
      "        results_z : Result instance\n",
      "            result instance of second model\n",
      "        attach : bool\n",
      "            If true, then the intermediate results are attached to the instance.\n",
      "\n",
      "        Returns\n",
      "        -------\n",
      "        tstat : float\n",
      "            t statistic for the test that including the fitted values of the\n",
      "            first model in the second model has no effect.\n",
      "        pvalue : float\n",
      "            two-sided pvalue for the t statistic\n",
      "\n",
      "        Notes\n",
      "        -----\n",
      "        Tests of non-nested hypothesis might not provide unambiguous answers.\n",
      "        The test should be performed in both directions and it is possible\n",
      "        that both or neither test rejects. see ??? for more information.\n",
      "\n",
      "        References\n",
      "        ----------\n",
      "        ???\n",
      "\n",
      "        \n"
     ]
    }
   ],
   "source": [
    "print(CompareCox.run.__doc__)"
   ]
  },
  {
   "cell_type": "code",
   "execution_count": null,
   "metadata": {},
   "outputs": [],
   "source": []
  }
 ],
 "metadata": {
  "kernelspec": {
   "display_name": "Python 3",
   "language": "python",
   "name": "python3"
  },
  "language_info": {
   "codemirror_mode": {
    "name": "ipython",
    "version": 3
   },
   "file_extension": ".py",
   "mimetype": "text/x-python",
   "name": "python",
   "nbconvert_exporter": "python",
   "pygments_lexer": "ipython3",
   "version": "3.7.1"
  }
 },
 "nbformat": 4,
 "nbformat_minor": 2
}
