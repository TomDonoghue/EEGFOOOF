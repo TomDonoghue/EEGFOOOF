{
 "cells": [
  {
   "cell_type": "markdown",
   "metadata": {},
   "source": [
    "# Group Analysis - FOOOFed EEG Analysis: Task\n",
    "    \n",
    "Applying FOOOF to task based EEG data, and comparing between young and old groups. "
   ]
  },
  {
   "cell_type": "code",
   "execution_count": 1,
   "metadata": {},
   "outputs": [],
   "source": [
    "%matplotlib inline\n",
    "%config InlineBackend.figure_format='retina'\n",
    "\n",
    "%load_ext autoreload"
   ]
  },
  {
   "cell_type": "code",
   "execution_count": 2,
   "metadata": {},
   "outputs": [],
   "source": [
    "from os.path import join as pjoin\n",
    "import warnings\n",
    "\n",
    "import numpy as np\n",
    "import pandas as pd\n",
    "import matplotlib.pyplot as plt\n",
    "\n",
    "from scipy.stats import pearsonr\n",
    "\n",
    "import patsy\n",
    "import statsmodels.api as sm\n",
    "from statsmodels.stats.anova import anova_lm"
   ]
  },
  {
   "cell_type": "code",
   "execution_count": 3,
   "metadata": {},
   "outputs": [],
   "source": [
    "# Import custom code for this analysis\n",
    "%autoreload 2\n",
    "from fio import *\n",
    "from plts import *\n",
    "from utils import *"
   ]
  },
  {
   "cell_type": "markdown",
   "metadata": {},
   "source": [
    "# Settings"
   ]
  },
  {
   "cell_type": "code",
   "execution_count": 4,
   "metadata": {},
   "outputs": [
    {
     "name": "stdout",
     "output_type": "stream",
     "text": [
      "Number of young subjects:   17\n",
      "Number of  old  subjects:   14\n"
     ]
    }
   ],
   "source": [
    "# Set path to load results from\n",
    "res_path = '/Users/tom/Documents/Research/1-Projects/fooof/2-Data/Results/'\n",
    "\n",
    "# Set indices to separate groups\n",
    "from settings import YNG_INDS, OLD_INDS\n",
    "\n",
    "# Set average function to use\n",
    "avg_func = np.nanmean\n",
    "#avg_func = np.nanmedian\n",
    "\n",
    "# Wether to save out plots or not\n",
    "save_fig = False\n",
    "\n",
    "print('Number of young subjects:  ', len(YNG_INDS))\n",
    "print('Number of  old  subjects:  ', len(OLD_INDS))"
   ]
  },
  {
   "cell_type": "code",
   "execution_count": 5,
   "metadata": {},
   "outputs": [],
   "source": [
    "# Data settings\n",
    "srate = 512\n",
    "tmin, tmax = -0.85, 1.1\n",
    "times = np.arange(tmin, tmax, 1/srate)\n",
    "seg_times = [(-0.85, -0.35), (0.1, 0.6), (0.5, 1.0)]\n",
    "n_subjs = 31"
   ]
  },
  {
   "cell_type": "markdown",
   "metadata": {
    "collapsed": true
   },
   "source": [
    "### Check dropped trials"
   ]
  },
  {
   "cell_type": "code",
   "execution_count": 6,
   "metadata": {},
   "outputs": [
    {
     "name": "stdout",
     "output_type": "stream",
     "text": [
      "SubNum \t\t # Dropped Trials \t # Dropped Components\n",
      "0 \t\t 7 \t\t\t 4\n",
      "1 \t\t 21 \t\t\t 5\n",
      "2 \t\t 1 \t\t\t 0\n",
      "3 \t\t 12 \t\t\t 2\n",
      "4 \t\t 18 \t\t\t 3\n",
      "5 \t\t 0 \t\t\t 8\n",
      "6 \t\t 24 \t\t\t 6\n",
      "7 \t\t 7 \t\t\t 0\n",
      "8 \t\t 3 \t\t\t 5\n",
      "9 \t\t 4 \t\t\t 4\n",
      "10 \t\t 5 \t\t\t 4\n",
      "11 \t\t 7 \t\t\t 5\n",
      "12 \t\t 13 \t\t\t 7\n",
      "13 \t\t 0 \t\t\t 3\n",
      "14 \t\t 2 \t\t\t 4\n",
      "15 \t\t 1 \t\t\t 5\n",
      "16 \t\t 7 \t\t\t 4\n",
      "17 \t\t 8 \t\t\t 0\n",
      "18 \t\t 1 \t\t\t 3\n",
      "19 \t\t 137 \t\t\t 3\n",
      "20 \t\t 31 \t\t\t 6\n",
      "21 \t\t 15 \t\t\t 5\n",
      "22 \t\t 0 \t\t\t 3\n",
      "23 \t\t 0 \t\t\t 4\n",
      "24 \t\t 2 \t\t\t 4\n",
      "25 \t\t 22 \t\t\t 0\n",
      "26 \t\t 4 \t\t\t 4\n",
      "27 \t\t 24 \t\t\t 5\n",
      "28 \t\t 43 \t\t\t 4\n",
      "29 \t\t 48 \t\t\t 5\n",
      "30 \t\t 0 \t\t\t 4\n"
     ]
    }
   ],
   "source": [
    "# Load dropped trials & components\n",
    "dropped_trials = np.load(pjoin(res_path, 'Group', 'dropped_trials.npy'))\n",
    "dropped_components = np.load(pjoin(res_path, 'Group', 'dropped_components.npy'))\n",
    "\n",
    "# Check dropped trials for each subject\n",
    "print('SubNum \\t\\t # Dropped Trials \\t # Dropped Components')\n",
    "for ind, trials, components in zip(range(n_subjs), dropped_trials, dropped_components):\n",
    "    temp_trials = trials[trials < 999.]\n",
    "    temp_comps = components[components < 999.]\n",
    "    print(ind, '\\t\\t', len(temp_trials), '\\t\\t\\t', len(temp_comps))"
   ]
  },
  {
   "cell_type": "markdown",
   "metadata": {},
   "source": [
    "## Group FOOOFing - Trial Averaged Data\n",
    "\n",
    "Notes:\n",
    "- `all_alphas` & `all_exps` have the shape [n_loads, n_subjs, n_times]"
   ]
  },
  {
   "cell_type": "markdown",
   "metadata": {},
   "source": [
    "### Load Data"
   ]
  },
  {
   "cell_type": "code",
   "execution_count": 7,
   "metadata": {},
   "outputs": [],
   "source": [
    "# Load behavioural data,\n",
    "behav_dat = pd.read_csv(pjoin(res_path, 'Behav', 'neural_aging_data_behaviour.csv'))"
   ]
  },
  {
   "cell_type": "code",
   "execution_count": 8,
   "metadata": {},
   "outputs": [],
   "source": [
    "# Convert data types\n",
    "behav_dat['Age'] = behav_dat['Age'].astype('str')\n",
    "behav_dat['Load'] = behav_dat['Load'].astype('str')"
   ]
  },
  {
   "cell_type": "code",
   "execution_count": 9,
   "metadata": {},
   "outputs": [],
   "source": [
    "# Calculate average behaviour across loads\n",
    "avg_behav = behav_dat.groupby('SubjID').mean()"
   ]
  },
  {
   "cell_type": "code",
   "execution_count": 10,
   "metadata": {},
   "outputs": [],
   "source": [
    "# CHEATING\n",
    "#for ind in [28, 59, 90]:\n",
    "#    behav_dat.loc[ind, \"d'\"] = 2"
   ]
  },
  {
   "cell_type": "code",
   "execution_count": 11,
   "metadata": {},
   "outputs": [],
   "source": [
    "# Load and extract FOOOF data\n",
    "all_exps, all_alphas = load_fooof_task(res_path, 'Contra')"
   ]
  },
  {
   "cell_type": "code",
   "execution_count": 12,
   "metadata": {},
   "outputs": [],
   "source": [
    "# Replace NaN with row mean\n",
    "# import numpy.ma as ma\n",
    "# out = []\n",
    "# for mat in all_alphas:\n",
    "#     mat = mat.T\n",
    "#     out.append(np.where(np.isnan(mat), ma.array(mat, mask=np.isnan(mat)).mean(axis=0), mat).T)\n",
    "# all_alphas = np.stack(out)\n",
    "\n",
    "# Replace nan with global mean\n",
    "#all_alphas[np.isnan(all_alphas)] = np.nanmean(all_alphas)"
   ]
  },
  {
   "cell_type": "code",
   "execution_count": 13,
   "metadata": {},
   "outputs": [],
   "source": [
    "# Load canonical alpha analysis\n",
    "canonical_group = np.load(pjoin(res_path, 'Group', 'canonical_group.npy'))"
   ]
  },
  {
   "cell_type": "code",
   "execution_count": 14,
   "metadata": {},
   "outputs": [],
   "source": [
    "# Average across analytic alpha measures to get canonical alpha measure\n",
    "seg_masks = []\n",
    "for seg in seg_times:\n",
    "    seg_masks.append(np.logical_and(times >= seg[0], times <= seg[1]))\n",
    "\n",
    "canalpha = np.zeros_like(all_alphas)\n",
    "for subi, subj_dat in enumerate(canonical_group):\n",
    "    for lodi in range(3):\n",
    "        for segi, mask in enumerate(seg_masks):\n",
    "            canalpha[lodi, subi, segi] = np.mean(subj_dat[lodi, mask])"
   ]
  },
  {
   "cell_type": "code",
   "execution_count": 15,
   "metadata": {},
   "outputs": [
    {
     "data": {
      "text/plain": [
       "10"
      ]
     },
     "execution_count": 15,
     "metadata": {},
     "output_type": "execute_result"
    }
   ],
   "source": [
    "# Number of missing FOOOFed alphas\n",
    "sum(sum(sum(np.isnan(all_alphas))))"
   ]
  },
  {
   "cell_type": "code",
   "execution_count": 16,
   "metadata": {},
   "outputs": [],
   "source": [
    "# # TESTS\n",
    "#all_alphas[:, 1, :] = np.nan\n",
    "#canalpha [:, 1, :] = np.nan\n",
    "# all_alphas[:, 8, :] = np.nan\n",
    "# canalpha [:, 8, :] = np.nan"
   ]
  },
  {
   "cell_type": "code",
   "execution_count": 17,
   "metadata": {},
   "outputs": [],
   "source": [
    "# CHEATING: DROP OUT SUBJECTS\n",
    "#behav_dat[behav_dat['SubjID'] == 8] = np.nan\n",
    "#behav_dat[behav_dat['SubjID'] == 1] = np.nan"
   ]
  },
  {
   "cell_type": "markdown",
   "metadata": {},
   "source": [
    "## Check Behaviour & Trial EPhys Corrs - Baseline Measures"
   ]
  },
  {
   "cell_type": "code",
   "execution_count": 18,
   "metadata": {},
   "outputs": [],
   "source": [
    "# Predict behaviour from 'absolute' FOOOF trial output measures\n",
    "#   Note: as defined this model has three measures per subject, one for each load\n",
    "\n",
    "# Settings\n",
    "t_ind = 0\n",
    "\n",
    "# Build the dataframe\n",
    "df = pd.DataFrame()\n",
    "df['exponent'] = all_exps[:, :, t_ind].flatten()\n",
    "\n",
    "#df['alpha'] = all_alphas[:, :, t_ind].flatten()\n",
    "df['alpha'] = canalpha[:, :, t_ind].flatten()\n",
    "\n",
    "df['behav'] = behav_dat[\"d'\"].values\n",
    "df['age'] = behav_dat['Age'].values\n",
    "\n",
    "# Specify the model\n",
    "#outcome, predictors = patsy.dmatrices(\"behav ~ exponent + alpha + age\", df)\n",
    "#outcome, predictors = patsy.dmatrices(\"behav ~ exponent * alpha * age\", df)\n",
    "outcome, predictors = patsy.dmatrices(\"behav ~ age + alpha + exponent + alpha:age + exponent:age\", df)\n",
    "mod = sm.OLS(outcome, predictors)\n",
    "res = mod.fit()\n",
    "\n",
    "# Check out the results\n",
    "#print(res.summary())"
   ]
  },
  {
   "cell_type": "code",
   "execution_count": 19,
   "metadata": {},
   "outputs": [],
   "source": [
    "# # Predict behaviour from 'absolute' FOOOF trial output measures, separately for each load\n",
    "\n",
    "# # Settings\n",
    "# t_ind = 2\n",
    "# l_ind = 2\n",
    "\n",
    "# # Build the dataframe\n",
    "# df = pd.DataFrame()\n",
    "# df['exponent'] = all_exps[l_ind, :, t_ind].flatten()\n",
    "# df['alpha'] = all_alphas[l_ind, :, t_ind].flatten()\n",
    "\n",
    "# df['behav'] = behav_dat[behav_dat['Load'] == l_ind+1][\"d'\"].values\n",
    "# df['age'] = behav_dat[behav_dat['Load'] == l_ind+1][\"Age\"].values\n",
    "\n",
    "# # Specift the model\n",
    "# #outcome, predictors = patsy.dmatrices(\"behav ~ exponent + age\", df)\n",
    "# outcome, predictors = patsy.dmatrices(\"behav ~ exponent + alpha + age\", df)\n",
    "# #outcome, predictors = patsy.dmatrices(\"behav ~ exponent * alpha * age\", df)\n",
    "# #outcome, predictors = patsy.dmatrices(\"behav ~ age + alpha + exponent + alpha:age + exponent:age\", df)\n",
    "# mod = sm.OLS(outcome, predictors)\n",
    "# res = mod.fit()\n",
    "\n",
    "# # Check out the results\n",
    "# #print(res.summary())"
   ]
  },
  {
   "cell_type": "code",
   "execution_count": 20,
   "metadata": {},
   "outputs": [],
   "source": [
    "# # Predict from absolute FOOOF results, split up by group\n",
    "\n",
    "# # Settings\n",
    "# #group = 'young' # 'young', 'old'\n",
    "# group = 'old' \n",
    "# t_ind = 2\n",
    "\n",
    "# inds = YNG_INDS if group == 'young' else OLD_INDS\n",
    "# age_gr = 1 if group == 'young' else 2\n",
    "\n",
    "# # Build the dataframe\n",
    "# df = pd.DataFrame()\n",
    "# df['exponent'] = all_exps[:, inds, t_ind].flatten()\n",
    "\n",
    "# df['alpha'] = all_alphas[:, inds, t_ind].flatten()\n",
    "# #df['alpha'] = canalpha[:, inds, t_ind].flatten()\n",
    "\n",
    "# df['behav'] = behav_dat[behav_dat.Age == age_gr][\"d'\"].values\n",
    "\n",
    "# # \n",
    "# outcome, predictors = patsy.dmatrices(\"behav ~ exponent * alpha\", df)\n",
    "# mod = sm.OLS(outcome, predictors)\n",
    "# res = mod.fit()\n",
    "\n",
    "# # Check out the results\n",
    "# print(res.summary())"
   ]
  },
  {
   "cell_type": "code",
   "execution_count": 21,
   "metadata": {},
   "outputs": [],
   "source": [
    "# # Check relation between exponent and alpha\n",
    "# print(pearsonr(df.exponent, df.alpha))\n",
    "# #plt.plot(df.exponent, df.alpha, '.')\n",
    "\n",
    "# print(pearsonr(df.behav, df.alpha))\n",
    "# #plt.plot(df.behav, df.alpha, '.')\n",
    "\n",
    "# print(pearsonr(df.behav, df.exponent))\n",
    "# plt.plot(df.behav, df.exponent, '.')"
   ]
  },
  {
   "cell_type": "markdown",
   "metadata": {},
   "source": [
    "## Difference Measures\n",
    "\n",
    "Predict behaviour output from evoked responses of alpha and aperiodic. "
   ]
  },
  {
   "cell_type": "code",
   "execution_count": 22,
   "metadata": {},
   "outputs": [],
   "source": [
    "#\n",
    "sl_st_yng = np.vstack([all_exps[0, YNG_INDS, :], all_exps[1, YNG_INDS, :], all_exps[2, YNG_INDS, :]])\n",
    "sl_st_old = np.vstack([all_exps[0, OLD_INDS, :], all_exps[1, OLD_INDS, :], all_exps[2, OLD_INDS, :]])\n",
    "\n",
    "#\n",
    "al_st_yng = np.vstack([all_alphas[0, YNG_INDS, :], all_alphas[1, YNG_INDS, :], all_alphas[2, YNG_INDS, :]])\n",
    "al_st_old = np.vstack([all_alphas[0, OLD_INDS, :], all_alphas[1, OLD_INDS, :], all_alphas[2, OLD_INDS, :]])\n",
    "\n",
    "#\n",
    "canal_st_yng = np.vstack([canalpha[0, YNG_INDS, :], canalpha[1, YNG_INDS, :], canalpha[2, YNG_INDS, :]])\n",
    "canal_st_old = np.vstack([canalpha[0, OLD_INDS, :], canalpha[1, OLD_INDS, :], canalpha[2, OLD_INDS, :]])"
   ]
  },
  {
   "cell_type": "code",
   "execution_count": 23,
   "metadata": {},
   "outputs": [],
   "source": [
    "# Calculate difference measures\n",
    "i1, i2 = 2, 0\n",
    "\n",
    "sl_dif_yng = calc_diff(sl_st_yng, i1, i2)\n",
    "sl_dif_old = calc_diff(sl_st_old, i1, i2)\n",
    "\n",
    "al_dif_yng = calc_diff(al_st_yng, i1, i2)\n",
    "al_dif_old = calc_diff(al_st_old, i1, i2)\n",
    "\n",
    "canal_dif_yng = calc_diff(canal_st_yng, i1, i2)\n",
    "canal_dif_old = calc_diff(canal_st_old, i1, i2)"
   ]
  },
  {
   "cell_type": "code",
   "execution_count": 24,
   "metadata": {},
   "outputs": [
    {
     "name": "stdout",
     "output_type": "stream",
     "text": [
      "Sl-Yng: \t  0.3171 \t0.0234\n",
      "Sl-Old: \t -0.1065 \t0.5021\n",
      "\n",
      "Al-Yng: \t   nan \t1.0000\n",
      "Al-Old: \t   nan \t1.0000\n",
      "\n",
      "Al-Yng: \t -0.1788 \t0.2092\n",
      "Al-Old: \t  0.2539 \t0.1046\n"
     ]
    }
   ],
   "source": [
    "# Check correlations of difference measures with behaviour\n",
    "print_stat('Sl-Yng', *pearsonr(sl_dif_yng, behav_dat[behav_dat.Age == '1'][\"d'\"]))\n",
    "print_stat('Sl-Old', *pearsonr(sl_dif_old, behav_dat[behav_dat.Age == '2'][\"d'\"]))\n",
    "print('')\n",
    "print_stat('Al-Yng', *pearsonr(al_dif_yng, behav_dat[behav_dat.Age == '1'][\"d'\"]))\n",
    "print_stat('Al-Old', *pearsonr(al_dif_old, behav_dat[behav_dat.Age == '2'][\"d'\"]))\n",
    "print('')\n",
    "print_stat('Al-Yng', *pearsonr(canal_dif_yng, behav_dat[behav_dat.Age == '1'][\"d'\"]))\n",
    "print_stat('Al-Old', *pearsonr(canal_dif_old, behav_dat[behav_dat.Age == '2'][\"d'\"]))"
   ]
  },
  {
   "cell_type": "markdown",
   "metadata": {},
   "source": [
    "## Base Model: Age & Load"
   ]
  },
  {
   "cell_type": "code",
   "execution_count": 25,
   "metadata": {},
   "outputs": [
    {
     "name": "stdout",
     "output_type": "stream",
     "text": [
      "                            OLS Regression Results                            \n",
      "==============================================================================\n",
      "Dep. Variable:                  behav   R-squared:                       0.228\n",
      "Model:                            OLS   Adj. R-squared:                  0.202\n",
      "Method:                 Least Squares   F-statistic:                     8.761\n",
      "Date:                Wed, 20 Feb 2019   Prob (F-statistic):           3.75e-05\n",
      "Time:                        15:24:39   Log-Likelihood:                -118.31\n",
      "No. Observations:                  93   AIC:                             244.6\n",
      "Df Residuals:                      89   BIC:                             254.7\n",
      "Df Model:                           3                                         \n",
      "Covariance Type:            nonrobust                                         \n",
      "==============================================================================\n",
      "                 coef    std err          t      P>|t|      [0.025      0.975]\n",
      "------------------------------------------------------------------------------\n",
      "Intercept      4.0845      0.179     22.822      0.000       3.729       4.440\n",
      "load[T.2]     -0.2406      0.224     -1.073      0.286      -0.686       0.205\n",
      "load[T.3]     -0.8431      0.224     -3.761      0.000      -1.289      -0.398\n",
      "age[T.2]      -0.6175      0.184     -3.358      0.001      -0.983      -0.252\n",
      "==============================================================================\n",
      "Omnibus:                        1.470   Durbin-Watson:                   1.957\n",
      "Prob(Omnibus):                  0.480   Jarque-Bera (JB):                1.363\n",
      "Skew:                          -0.168   Prob(JB):                        0.506\n",
      "Kurtosis:                       2.511   Cond. No.                         4.13\n",
      "==============================================================================\n",
      "\n",
      "Warnings:\n",
      "[1] Standard Errors assume that the covariance matrix of the errors is correctly specified.\n"
     ]
    }
   ],
   "source": [
    "df = pd.DataFrame()\n",
    "\n",
    "df['behav'] = behav_dat[\"d'\"].values\n",
    "df['age'] = behav_dat['Age'].values\n",
    "df['load'] = behav_dat['Load'].values\n",
    " \n",
    "outcome, predictors = patsy.dmatrices(\"behav ~ load + age\", df)\n",
    "mod_base = sm.OLS(outcome, predictors).fit()\n",
    "\n",
    "print(mod_base.summary())"
   ]
  },
  {
   "cell_type": "markdown",
   "metadata": {},
   "source": [
    "### CDA Model"
   ]
  },
  {
   "cell_type": "code",
   "execution_count": 26,
   "metadata": {},
   "outputs": [
    {
     "name": "stdout",
     "output_type": "stream",
     "text": [
      "                            OLS Regression Results                            \n",
      "==============================================================================\n",
      "Dep. Variable:                  behav   R-squared:                       0.230\n",
      "Model:                            OLS   Adj. R-squared:                  0.195\n",
      "Method:                 Least Squares   F-statistic:                     6.556\n",
      "Date:                Wed, 20 Feb 2019   Prob (F-statistic):           0.000115\n",
      "Time:                        15:24:39   Log-Likelihood:                -118.21\n",
      "No. Observations:                  93   AIC:                             246.4\n",
      "Df Residuals:                      88   BIC:                             259.1\n",
      "Df Model:                           4                                         \n",
      "Covariance Type:            nonrobust                                         \n",
      "==============================================================================\n",
      "                 coef    std err          t      P>|t|      [0.025      0.975]\n",
      "------------------------------------------------------------------------------\n",
      "Intercept      4.1246      0.203     20.327      0.000       3.721       4.528\n",
      "load[T.2]     -0.2219      0.229     -0.967      0.336      -0.678       0.234\n",
      "load[T.3]     -0.8142      0.235     -3.462      0.001      -1.282      -0.347\n",
      "age[T.2]      -0.6290      0.187     -3.369      0.001      -1.000      -0.258\n",
      "cda            0.0401      0.094      0.427      0.671      -0.147       0.227\n",
      "==============================================================================\n",
      "Omnibus:                        1.417   Durbin-Watson:                   1.940\n",
      "Prob(Omnibus):                  0.492   Jarque-Bera (JB):                1.357\n",
      "Skew:                          -0.180   Prob(JB):                        0.507\n",
      "Kurtosis:                       2.530   Cond. No.                         6.55\n",
      "==============================================================================\n",
      "\n",
      "Warnings:\n",
      "[1] Standard Errors assume that the covariance matrix of the errors is correctly specified.\n"
     ]
    }
   ],
   "source": [
    "df = pd.DataFrame()\n",
    "\n",
    "df['behav'] = behav_dat[\"d'\"].values\n",
    "df['age'] = behav_dat['Age'].values\n",
    "df['load'] = behav_dat['Load'].values\n",
    "df['cda'] = behav_dat['CDA'].values\n",
    " \n",
    "outcome, predictors = patsy.dmatrices(\"behav ~ load + cda + age\", df)\n",
    "mod_base = sm.OLS(outcome, predictors).fit()\n",
    "\n",
    "print(mod_base.summary())"
   ]
  },
  {
   "cell_type": "markdown",
   "metadata": {},
   "source": [
    "### Predicting from Canonical Alpha"
   ]
  },
  {
   "cell_type": "code",
   "execution_count": 27,
   "metadata": {},
   "outputs": [
    {
     "name": "stdout",
     "output_type": "stream",
     "text": [
      "                            OLS Regression Results                            \n",
      "==============================================================================\n",
      "Dep. Variable:                  behav   R-squared:                       0.295\n",
      "Model:                            OLS   Adj. R-squared:                  0.254\n",
      "Method:                 Least Squares   F-statistic:                     7.268\n",
      "Date:                Wed, 20 Feb 2019   Prob (F-statistic):           9.93e-06\n",
      "Time:                        15:24:39   Log-Likelihood:                -114.11\n",
      "No. Observations:                  93   AIC:                             240.2\n",
      "Df Residuals:                      87   BIC:                             255.4\n",
      "Df Model:                           5                                         \n",
      "Covariance Type:            nonrobust                                         \n",
      "===================================================================================\n",
      "                      coef    std err          t      P>|t|      [0.025      0.975]\n",
      "-----------------------------------------------------------------------------------\n",
      "Intercept           4.0041      0.176     22.721      0.000       3.654       4.354\n",
      "load[T.2]          -0.0966      0.223     -0.433      0.666      -0.540       0.346\n",
      "load[T.3]          -0.7305      0.223     -3.280      0.001      -1.173      -0.288\n",
      "age[T.2]           -0.6145      0.178     -3.455      0.001      -0.968      -0.261\n",
      "al_dif          -2.212e+05    1.5e+05     -1.478      0.143   -5.19e+05    7.62e+04\n",
      "al_dif:age[T.2]  6.784e+05   2.39e+05      2.839      0.006    2.03e+05    1.15e+06\n",
      "==============================================================================\n",
      "Omnibus:                        1.761   Durbin-Watson:                   2.016\n",
      "Prob(Omnibus):                  0.415   Jarque-Bera (JB):                1.605\n",
      "Skew:                          -0.204   Prob(JB):                        0.448\n",
      "Kurtosis:                       2.503   Cond. No.                     3.60e+06\n",
      "==============================================================================\n",
      "\n",
      "Warnings:\n",
      "[1] Standard Errors assume that the covariance matrix of the errors is correctly specified.\n",
      "[2] The smallest eigenvalue is 1.07e-11. This might indicate that there are\n",
      "strong multicollinearity problems or that the design matrix is singular.\n"
     ]
    }
   ],
   "source": [
    "df = pd.DataFrame()\n",
    "\n",
    "df['behav'] = behav_dat[\"d'\"].values\n",
    "df['age'] = behav_dat['Age'].values\n",
    "df['load'] = behav_dat['Load'].values\n",
    "\n",
    "df['al_dif'] = np.concatenate([canal_dif_yng, canal_dif_old])\n",
    " \n",
    "outcome, predictors = patsy.dmatrices(\"behav ~ load + al_dif * age\", df)\n",
    "mod_alpha_can = sm.OLS(outcome, predictors).fit()\n",
    "\n",
    "print(mod_alpha_can.summary())"
   ]
  },
  {
   "cell_type": "markdown",
   "metadata": {},
   "source": [
    "## Predicting from FOOOF: Alpha"
   ]
  },
  {
   "cell_type": "code",
   "execution_count": 28,
   "metadata": {},
   "outputs": [
    {
     "name": "stdout",
     "output_type": "stream",
     "text": [
      "                            OLS Regression Results                            \n",
      "==============================================================================\n",
      "Dep. Variable:                  behav   R-squared:                       0.330\n",
      "Model:                            OLS   Adj. R-squared:                  0.289\n",
      "Method:                 Least Squares   F-statistic:                     7.993\n",
      "Date:                Wed, 20 Feb 2019   Prob (F-statistic):           3.66e-06\n",
      "Time:                        15:24:39   Log-Likelihood:                -105.68\n",
      "No. Observations:                  87   AIC:                             223.4\n",
      "Df Residuals:                      81   BIC:                             238.2\n",
      "Df Model:                           5                                         \n",
      "Covariance Type:            nonrobust                                         \n",
      "===================================================================================\n",
      "                      coef    std err          t      P>|t|      [0.025      0.975]\n",
      "-----------------------------------------------------------------------------------\n",
      "Intercept           4.0393      0.183     22.030      0.000       3.674       4.404\n",
      "load[T.2]          -0.0804      0.230     -0.349      0.728      -0.538       0.377\n",
      "load[T.3]          -0.7721      0.234     -3.305      0.001      -1.237      -0.307\n",
      "age[T.2]           -0.7826      0.190     -4.110      0.000      -1.161      -0.404\n",
      "al_dif             -1.3057      0.831     -1.571      0.120      -2.960       0.348\n",
      "al_dif:age[T.2]     3.8092      1.272      2.995      0.004       1.279       6.340\n",
      "==============================================================================\n",
      "Omnibus:                        1.045   Durbin-Watson:                   2.075\n",
      "Prob(Omnibus):                  0.593   Jarque-Bera (JB):                1.090\n",
      "Skew:                          -0.167   Prob(JB):                        0.580\n",
      "Kurtosis:                       2.565   Cond. No.                         18.8\n",
      "==============================================================================\n",
      "\n",
      "Warnings:\n",
      "[1] Standard Errors assume that the covariance matrix of the errors is correctly specified.\n"
     ]
    }
   ],
   "source": [
    "df = pd.DataFrame()\n",
    "\n",
    "df['behav'] = behav_dat[\"d'\"].values\n",
    "df['age'] = behav_dat['Age'].values\n",
    "df['load'] = behav_dat['Load'].values\n",
    "\n",
    "df['al_dif'] = np.concatenate([al_dif_yng, al_dif_old])\n",
    " \n",
    "outcome, predictors = patsy.dmatrices(\"behav ~ load + al_dif * age\", df)\n",
    "mod_alpha_foo = sm.OLS(outcome, predictors).fit()\n",
    "\n",
    "print(mod_alpha_foo.summary())"
   ]
  },
  {
   "cell_type": "markdown",
   "metadata": {},
   "source": [
    "## Predicting from FOOOF: Aperiodic"
   ]
  },
  {
   "cell_type": "code",
   "execution_count": 29,
   "metadata": {},
   "outputs": [
    {
     "name": "stdout",
     "output_type": "stream",
     "text": [
      "                            OLS Regression Results                            \n",
      "==============================================================================\n",
      "Dep. Variable:                  behav   R-squared:                       0.257\n",
      "Model:                            OLS   Adj. R-squared:                  0.214\n",
      "Method:                 Least Squares   F-statistic:                     6.007\n",
      "Date:                Wed, 20 Feb 2019   Prob (F-statistic):           8.04e-05\n",
      "Time:                        15:24:39   Log-Likelihood:                -116.55\n",
      "No. Observations:                  93   AIC:                             245.1\n",
      "Df Residuals:                      87   BIC:                             260.3\n",
      "Df Model:                           5                                         \n",
      "Covariance Type:            nonrobust                                         \n",
      "===================================================================================\n",
      "                      coef    std err          t      P>|t|      [0.025      0.975]\n",
      "-----------------------------------------------------------------------------------\n",
      "Intercept           4.1944      0.188     22.363      0.000       3.822       4.567\n",
      "load[T.2]          -0.2277      0.223     -1.022      0.310      -0.670       0.215\n",
      "load[T.3]          -0.8631      0.223     -3.866      0.000      -1.307      -0.419\n",
      "age[T.2]           -0.7294      0.198     -3.690      0.000      -1.122      -0.337\n",
      "sl_dif              2.0427      1.117      1.829      0.071      -0.177       4.263\n",
      "age[T.2]:sl_dif    -2.1604      1.694     -1.275      0.206      -5.528       1.207\n",
      "==============================================================================\n",
      "Omnibus:                        1.084   Durbin-Watson:                   1.947\n",
      "Prob(Omnibus):                  0.582   Jarque-Bera (JB):                1.065\n",
      "Skew:                          -0.120   Prob(JB):                        0.587\n",
      "Kurtosis:                       2.534   Cond. No.                         25.3\n",
      "==============================================================================\n",
      "\n",
      "Warnings:\n",
      "[1] Standard Errors assume that the covariance matrix of the errors is correctly specified.\n"
     ]
    }
   ],
   "source": [
    "df = pd.DataFrame()\n",
    "\n",
    "df['behav'] = behav_dat[\"d'\"].values\n",
    "df['age'] = behav_dat['Age'].values\n",
    "df['load'] = behav_dat['Load'].values\n",
    "\n",
    "df['sl_dif'] = np.concatenate([sl_dif_yng, sl_dif_old])\n",
    "\n",
    "outcome, predictors = patsy.dmatrices(\"behav ~ load + age * sl_dif\", df)\n",
    "mod_exponent_foo = sm.OLS(outcome, predictors).fit()\n",
    "\n",
    "print(mod_exponent_foo.summary())"
   ]
  },
  {
   "cell_type": "markdown",
   "metadata": {
    "collapsed": true
   },
   "source": [
    "### Predicting from FOOOF model with Alpha & Aperiodic"
   ]
  },
  {
   "cell_type": "code",
   "execution_count": 30,
   "metadata": {},
   "outputs": [
    {
     "name": "stdout",
     "output_type": "stream",
     "text": [
      "                            OLS Regression Results                            \n",
      "==============================================================================\n",
      "Dep. Variable:                  behav   R-squared:                       0.336\n",
      "Model:                            OLS   Adj. R-squared:                  0.286\n",
      "Method:                 Least Squares   F-statistic:                     6.733\n",
      "Date:                Wed, 20 Feb 2019   Prob (F-statistic):           8.45e-06\n",
      "Time:                        15:24:39   Log-Likelihood:                -105.34\n",
      "No. Observations:                  87   AIC:                             224.7\n",
      "Df Residuals:                      80   BIC:                             241.9\n",
      "Df Model:                           6                                         \n",
      "Covariance Type:            nonrobust                                         \n",
      "===================================================================================\n",
      "                      coef    std err          t      P>|t|      [0.025      0.975]\n",
      "-----------------------------------------------------------------------------------\n",
      "Intercept           4.0609      0.186     21.855      0.000       3.691       4.431\n",
      "load[T.2]          -0.0649      0.231     -0.280      0.780      -0.525       0.396\n",
      "load[T.3]          -0.7460      0.236     -3.154      0.002      -1.217      -0.275\n",
      "age[T.2]           -0.7898      0.191     -4.133      0.000      -1.170      -0.410\n",
      "al_dif             -1.1476      0.857     -1.339      0.184      -2.853       0.558\n",
      "age[T.2]:al_dif     3.7638      1.276      2.949      0.004       1.224       6.303\n",
      "sl_dif              0.7230      0.917      0.789      0.433      -1.101       2.547\n",
      "==============================================================================\n",
      "Omnibus:                        1.021   Durbin-Watson:                   2.106\n",
      "Prob(Omnibus):                  0.600   Jarque-Bera (JB):                1.082\n",
      "Skew:                          -0.174   Prob(JB):                        0.582\n",
      "Kurtosis:                       2.578   Cond. No.                         19.0\n",
      "==============================================================================\n",
      "\n",
      "Warnings:\n",
      "[1] Standard Errors assume that the covariance matrix of the errors is correctly specified.\n"
     ]
    }
   ],
   "source": [
    "df = pd.DataFrame()\n",
    "\n",
    "df['behav'] = behav_dat[\"d'\"].values\n",
    "df['age'] = behav_dat['Age'].values\n",
    "df['load'] = behav_dat['Load'].values\n",
    "\n",
    "df['sl_dif'] = np.concatenate([sl_dif_yng, sl_dif_old])\n",
    "df['al_dif'] = np.concatenate([al_dif_yng, al_dif_old])\n",
    "\n",
    "outcome, predictors = patsy.dmatrices(\"behav ~ load + age * al_dif + sl_dif\", df)\n",
    "mod_all_foo = sm.OLS(outcome, predictors).fit()\n",
    "\n",
    "print(mod_all_foo.summary())"
   ]
  },
  {
   "cell_type": "markdown",
   "metadata": {},
   "source": [
    "## Model Comparisons"
   ]
  },
  {
   "cell_type": "code",
   "execution_count": 31,
   "metadata": {},
   "outputs": [
    {
     "name": "stdout",
     "output_type": "stream",
     "text": [
      "Canonical alpha vs. Base Model\n",
      "   df_resid        ssr  df_diff   ss_diff         F    Pr(>F)\n",
      "0      88.0  69.194025      0.0       NaN       NaN       NaN\n",
      "1      87.0  63.351513      1.0  5.842512  8.023463  0.005737\n",
      "\n",
      "\n",
      "FOOOFed alpha vs. Base Model\n",
      "   df_resid        ssr  df_diff   ss_diff        F    Pr(>F)\n",
      "0      88.0  69.194025      0.0       NaN      NaN       NaN\n",
      "1      81.0  57.823785      7.0  11.37024  2.27536  0.036273\n",
      "\n",
      "\n",
      "Canonical alpha vs. FOOOFed Alpha\n",
      "   df_resid        ssr  df_diff   ss_diff         F    Pr(>F)\n",
      "0      87.0  63.351513      0.0       NaN       NaN       NaN\n",
      "1      81.0  57.823785      6.0  5.527728  1.290547  0.270927\n"
     ]
    }
   ],
   "source": [
    "# Compare model with FOOOF alpha vs. model with canonical alpha\n",
    "with warnings.catch_warnings():\n",
    "    warnings.simplefilter(\"ignore\")\n",
    "    print('Canonical alpha vs. Base Model')\n",
    "    print(anova_lm(mod_base, mod_alpha_can))\n",
    "    print('\\n')\n",
    "    print('FOOOFed alpha vs. Base Model')\n",
    "    print(anova_lm(mod_base, mod_alpha_foo))\n",
    "    print('\\n')\n",
    "    print('Canonical alpha vs. FOOOFed Alpha')\n",
    "    print(anova_lm(mod_alpha_can, mod_alpha_foo))"
   ]
  },
  {
   "cell_type": "code",
   "execution_count": 32,
   "metadata": {},
   "outputs": [
    {
     "name": "stdout",
     "output_type": "stream",
     "text": [
      "FOOOF aperiodic vs. Base Model\n",
      "   df_resid        ssr  df_diff   ss_diff         F    Pr(>F)\n",
      "0      88.0  69.194025      0.0       NaN       NaN       NaN\n",
      "1      87.0  66.764532      1.0  2.429493  3.165841  0.078686\n"
     ]
    }
   ],
   "source": [
    "with warnings.catch_warnings():\n",
    "    warnings.simplefilter(\"ignore\")\n",
    "    print('FOOOF aperiodic vs. Base Model')\n",
    "    print(anova_lm(mod_base, mod_exponent_foo))    "
   ]
  },
  {
   "cell_type": "code",
   "execution_count": 33,
   "metadata": {},
   "outputs": [
    {
     "name": "stdout",
     "output_type": "stream",
     "text": [
      "FOOOF Full vs. Canonical Alpha\n",
      "   df_resid        ssr  df_diff   ss_diff         F    Pr(>F)\n",
      "0      87.0  63.351513      0.0       NaN       NaN       NaN\n",
      "1      80.0  57.377602      7.0  5.973911  1.189894  0.318107\n"
     ]
    }
   ],
   "source": [
    "with warnings.catch_warnings():\n",
    "    warnings.simplefilter(\"ignore\")\n",
    "    print('FOOOF Full vs. Canonical Alpha')\n",
    "    print(anova_lm(mod_alpha_can, mod_all_foo))"
   ]
  },
  {
   "cell_type": "code",
   "execution_count": 34,
   "metadata": {},
   "outputs": [
    {
     "name": "stdout",
     "output_type": "stream",
     "text": [
      "Model comp: \t  0.6713 \t0.4126\n"
     ]
    }
   ],
   "source": [
    "# Compare FOOOF model with exponent to restricted model with just alpha (from FOOOF)\n",
    "lm_val, p_val, df_diff = mod_all_foo.compare_lm_test(mod_alpha_foo)\n",
    "print_stat('Model comp', lm_val, p_val)"
   ]
  },
  {
   "cell_type": "code",
   "execution_count": null,
   "metadata": {},
   "outputs": [],
   "source": []
  },
  {
   "cell_type": "code",
   "execution_count": null,
   "metadata": {},
   "outputs": [],
   "source": []
  },
  {
   "cell_type": "code",
   "execution_count": null,
   "metadata": {},
   "outputs": [],
   "source": []
  },
  {
   "cell_type": "code",
   "execution_count": null,
   "metadata": {},
   "outputs": [],
   "source": []
  },
  {
   "cell_type": "code",
   "execution_count": null,
   "metadata": {},
   "outputs": [],
   "source": []
  },
  {
   "cell_type": "code",
   "execution_count": null,
   "metadata": {},
   "outputs": [],
   "source": []
  },
  {
   "cell_type": "code",
   "execution_count": null,
   "metadata": {},
   "outputs": [],
   "source": []
  },
  {
   "cell_type": "code",
   "execution_count": null,
   "metadata": {},
   "outputs": [],
   "source": []
  },
  {
   "cell_type": "code",
   "execution_count": null,
   "metadata": {},
   "outputs": [],
   "source": []
  },
  {
   "cell_type": "code",
   "execution_count": null,
   "metadata": {},
   "outputs": [],
   "source": []
  },
  {
   "cell_type": "markdown",
   "metadata": {},
   "source": [
    "## Correlations\n",
    "\n",
    "????"
   ]
  },
  {
   "cell_type": "code",
   "execution_count": 36,
   "metadata": {},
   "outputs": [
    {
     "ename": "ValueError",
     "evalue": "operands could not be broadcast together with shapes (31,) (0,) ",
     "output_type": "error",
     "traceback": [
      "\u001b[0;31m---------------------------------------------------------------------------\u001b[0m",
      "\u001b[0;31mValueError\u001b[0m                                Traceback (most recent call last)",
      "\u001b[0;32m<ipython-input-36-90166992ec3a>\u001b[0m in \u001b[0;36m<module>\u001b[0;34m\u001b[0m\n\u001b[1;32m      6\u001b[0m \u001b[0;34m\u001b[0m\u001b[0m\n\u001b[1;32m      7\u001b[0m print_stat(\"Sl-Lo-d'\", *pearsonr(all_exps[l_ind, :, t_ind],\n\u001b[0;32m----> 8\u001b[0;31m                                  behav_dat[behav_dat.Load == l_ind + 1][\"d'\"]))\n\u001b[0m\u001b[1;32m      9\u001b[0m print_stat(\"Al-Lo-d'\", *pearsonr(all_alphas[l_ind, :, t_ind],\n\u001b[1;32m     10\u001b[0m                                  behav_dat[behav_dat.Load == l_ind + 1][\"d'\"]))\n",
      "\u001b[0;32m/anaconda3/lib/python3.7/site-packages/scipy/stats/stats.py\u001b[0m in \u001b[0;36mpearsonr\u001b[0;34m(x, y)\u001b[0m\n\u001b[1;32m   3006\u001b[0m     \u001b[0mmy\u001b[0m \u001b[0;34m=\u001b[0m \u001b[0my\u001b[0m\u001b[0;34m.\u001b[0m\u001b[0mmean\u001b[0m\u001b[0;34m(\u001b[0m\u001b[0;34m)\u001b[0m\u001b[0;34m\u001b[0m\u001b[0;34m\u001b[0m\u001b[0m\n\u001b[1;32m   3007\u001b[0m     \u001b[0mxm\u001b[0m\u001b[0;34m,\u001b[0m \u001b[0mym\u001b[0m \u001b[0;34m=\u001b[0m \u001b[0mx\u001b[0m \u001b[0;34m-\u001b[0m \u001b[0mmx\u001b[0m\u001b[0;34m,\u001b[0m \u001b[0my\u001b[0m \u001b[0;34m-\u001b[0m \u001b[0mmy\u001b[0m\u001b[0;34m\u001b[0m\u001b[0;34m\u001b[0m\u001b[0m\n\u001b[0;32m-> 3008\u001b[0;31m     \u001b[0mr_num\u001b[0m \u001b[0;34m=\u001b[0m \u001b[0mnp\u001b[0m\u001b[0;34m.\u001b[0m\u001b[0madd\u001b[0m\u001b[0;34m.\u001b[0m\u001b[0mreduce\u001b[0m\u001b[0;34m(\u001b[0m\u001b[0mxm\u001b[0m \u001b[0;34m*\u001b[0m \u001b[0mym\u001b[0m\u001b[0;34m)\u001b[0m\u001b[0;34m\u001b[0m\u001b[0;34m\u001b[0m\u001b[0m\n\u001b[0m\u001b[1;32m   3009\u001b[0m     \u001b[0mr_den\u001b[0m \u001b[0;34m=\u001b[0m \u001b[0mnp\u001b[0m\u001b[0;34m.\u001b[0m\u001b[0msqrt\u001b[0m\u001b[0;34m(\u001b[0m\u001b[0m_sum_of_squares\u001b[0m\u001b[0;34m(\u001b[0m\u001b[0mxm\u001b[0m\u001b[0;34m)\u001b[0m \u001b[0;34m*\u001b[0m \u001b[0m_sum_of_squares\u001b[0m\u001b[0;34m(\u001b[0m\u001b[0mym\u001b[0m\u001b[0;34m)\u001b[0m\u001b[0;34m)\u001b[0m\u001b[0;34m\u001b[0m\u001b[0;34m\u001b[0m\u001b[0m\n\u001b[1;32m   3010\u001b[0m     \u001b[0mr\u001b[0m \u001b[0;34m=\u001b[0m \u001b[0mr_num\u001b[0m \u001b[0;34m/\u001b[0m \u001b[0mr_den\u001b[0m\u001b[0;34m\u001b[0m\u001b[0;34m\u001b[0m\u001b[0m\n",
      "\u001b[0;31mValueError\u001b[0m: operands could not be broadcast together with shapes (31,) (0,) "
     ]
    }
   ],
   "source": [
    "# Check correlation between exponent & d', and alpha & d' - for a specific load and time point\n",
    "\n",
    "# Set which load and time point to use\n",
    "l_ind = 0\n",
    "t_ind = 0\n",
    "\n",
    "print_stat(\"Sl-Lo-d'\", *pearsonr(all_exps[l_ind, :, t_ind],\n",
    "                                 behav_dat[behav_dat.Load == l_ind + 1][\"d'\"]))\n",
    "print_stat(\"Al-Lo-d'\", *pearsonr(all_alphas[l_ind, :, t_ind],\n",
    "                                 behav_dat[behav_dat.Load == l_ind + 1][\"d'\"]))"
   ]
  },
  {
   "cell_type": "code",
   "execution_count": 37,
   "metadata": {},
   "outputs": [
    {
     "name": "stdout",
     "output_type": "stream",
     "text": [
      "Sl-d': \t -0.2382 \t0.0215\n",
      "Al-d': \t   nan \t1.0000\n"
     ]
    }
   ],
   "source": [
    "t_ind = 2\n",
    "\n",
    "print_stat(\"Sl-d'\", *pearsonr(all_exps[:, :, t_ind].flatten(), behav_dat[\"d'\"].values))\n",
    "print_stat(\"Al-d'\", *pearsonr(all_alphas[:, :, t_ind].flatten(), behav_dat[\"d'\"].values))"
   ]
  },
  {
   "cell_type": "code",
   "execution_count": 38,
   "metadata": {},
   "outputs": [
    {
     "name": "stdout",
     "output_type": "stream",
     "text": [
      "XX: \t -0.2947 \t0.1075\n",
      "XX: \t   nan \t1.0000\n"
     ]
    }
   ],
   "source": [
    "# Average d' with average measures\n",
    "\n",
    "t_ind = 2\n",
    "\n",
    "print_stat('XX', *pearsonr(avg_behav[\"d'\"], np.mean(all_exps[:, :, t_ind], 0)))\n",
    "print_stat('XX', *pearsonr(avg_behav[\"d'\"], np.mean(all_alphas[:, :, t_ind], 0)))"
   ]
  },
  {
   "cell_type": "code",
   "execution_count": 39,
   "metadata": {},
   "outputs": [
    {
     "name": "stdout",
     "output_type": "stream",
     "text": [
      "XX: \t -0.1450 \t0.4365\n",
      "XX: \t   nan \t1.0000\n"
     ]
    }
   ],
   "source": [
    "# Average d' with average measures\n",
    "\n",
    "t_ind = 2\n",
    "\n",
    "print_stat('XX', *pearsonr(avg_behav[\"d'\"], np.mean(all_exps[:, :, 2] - all_exps[:, :, 0], 0)))\n",
    "print_stat('XX', *pearsonr(avg_behav[\"d'\"], np.mean(all_alphas[:, :, 2] - all_alphas[:, :, 0], 0)))"
   ]
  },
  {
   "cell_type": "code",
   "execution_count": 40,
   "metadata": {},
   "outputs": [],
   "source": [
    "# ind = 2\n",
    "\n",
    "# print_stat('Yng-Sl', *pearsonr(sl_st_yng[:, ind], behav_dat[behav_dat.Age == 1][\"d'\"]))\n",
    "# print_stat('Old-Sl', *pearsonr(sl_st_old[:, ind], behav_dat[behav_dat.Age == 2][\"d'\"]))\n",
    "\n",
    "# print('')\n",
    "\n",
    "# print_stat('Yng-Al', *pearsonr(al_st_yng[:, ind], behav_dat[behav_dat.Age == 1][\"d'\"]))\n",
    "# print_stat('Old-Al', *pearsonr(al_st_old[:, ind], behav_dat[behav_dat.Age == 2][\"d'\"]))\n",
    "\n",
    "# print('')\n",
    "\n",
    "# print_stat('Yng-CanAl', *pearsonr(canal_st_yng[:, ind], behav_dat[behav_dat.Age == 1][\"d'\"]))\n",
    "# print_stat('Old-CanAl', *pearsonr(canal_st_old[:, ind], behav_dat[behav_dat.Age == 2][\"d'\"]))"
   ]
  },
  {
   "cell_type": "code",
   "execution_count": null,
   "metadata": {},
   "outputs": [],
   "source": []
  },
  {
   "cell_type": "code",
   "execution_count": 41,
   "metadata": {},
   "outputs": [],
   "source": [
    "# Average across loads\n",
    "sl_resps = np.diff(np.mean(all_exps, 0))\n",
    "al_resps = np.diff(np.mean(all_alphas, 0))\n",
    "\n",
    "# # Take specific load\n",
    "# load_ind = 2\n",
    "# sl_resps = all_exps[load_ind, :, :]\n",
    "# al_resps = all_alphas[load_ind, :, :]"
   ]
  },
  {
   "cell_type": "code",
   "execution_count": 42,
   "metadata": {},
   "outputs": [
    {
     "name": "stdout",
     "output_type": "stream",
     "text": [
      "SLR & ALR - 1: \t   nan \t1.0000\n",
      "SLR & ALR - 2: \t   nan \t1.0000\n"
     ]
    }
   ],
   "source": [
    "# Correlations between reactivity measures\n",
    "print_stat('SLR & ALR - 1', *pearsonr(sl_resps[:, 0], al_resps[:, 0]))\n",
    "print_stat('SLR & ALR - 2', *pearsonr(sl_resps[:, 1], al_resps[:, 1]))"
   ]
  },
  {
   "cell_type": "code",
   "execution_count": 43,
   "metadata": {},
   "outputs": [
    {
     "name": "stdout",
     "output_type": "stream",
     "text": [
      "\tALL: \t   nan \t1.0000\n"
     ]
    },
    {
     "ename": "KeyError",
     "evalue": "'Age'",
     "output_type": "error",
     "traceback": [
      "\u001b[0;31m---------------------------------------------------------------------------\u001b[0m",
      "\u001b[0;31mKeyError\u001b[0m                                  Traceback (most recent call last)",
      "\u001b[0;32m/anaconda3/lib/python3.7/site-packages/pandas/core/indexes/base.py\u001b[0m in \u001b[0;36mget_loc\u001b[0;34m(self, key, method, tolerance)\u001b[0m\n\u001b[1;32m   3077\u001b[0m             \u001b[0;32mtry\u001b[0m\u001b[0;34m:\u001b[0m\u001b[0;34m\u001b[0m\u001b[0;34m\u001b[0m\u001b[0m\n\u001b[0;32m-> 3078\u001b[0;31m                 \u001b[0;32mreturn\u001b[0m \u001b[0mself\u001b[0m\u001b[0;34m.\u001b[0m\u001b[0m_engine\u001b[0m\u001b[0;34m.\u001b[0m\u001b[0mget_loc\u001b[0m\u001b[0;34m(\u001b[0m\u001b[0mkey\u001b[0m\u001b[0;34m)\u001b[0m\u001b[0;34m\u001b[0m\u001b[0;34m\u001b[0m\u001b[0m\n\u001b[0m\u001b[1;32m   3079\u001b[0m             \u001b[0;32mexcept\u001b[0m \u001b[0mKeyError\u001b[0m\u001b[0;34m:\u001b[0m\u001b[0;34m\u001b[0m\u001b[0;34m\u001b[0m\u001b[0m\n",
      "\u001b[0;32mpandas/_libs/index.pyx\u001b[0m in \u001b[0;36mpandas._libs.index.IndexEngine.get_loc\u001b[0;34m()\u001b[0m\n",
      "\u001b[0;32mpandas/_libs/index.pyx\u001b[0m in \u001b[0;36mpandas._libs.index.IndexEngine.get_loc\u001b[0;34m()\u001b[0m\n",
      "\u001b[0;32mpandas/_libs/hashtable_class_helper.pxi\u001b[0m in \u001b[0;36mpandas._libs.hashtable.PyObjectHashTable.get_item\u001b[0;34m()\u001b[0m\n",
      "\u001b[0;32mpandas/_libs/hashtable_class_helper.pxi\u001b[0m in \u001b[0;36mpandas._libs.hashtable.PyObjectHashTable.get_item\u001b[0;34m()\u001b[0m\n",
      "\u001b[0;31mKeyError\u001b[0m: 'Age'",
      "\nDuring handling of the above exception, another exception occurred:\n",
      "\u001b[0;31mKeyError\u001b[0m                                  Traceback (most recent call last)",
      "\u001b[0;32m<ipython-input-43-b1783af1164f>\u001b[0m in \u001b[0;36m<module>\u001b[0;34m\u001b[0m\n\u001b[1;32m      2\u001b[0m \u001b[0;34m\u001b[0m\u001b[0m\n\u001b[1;32m      3\u001b[0m \u001b[0mprint_stat\u001b[0m\u001b[0;34m(\u001b[0m\u001b[0;34m'\\tALL'\u001b[0m\u001b[0;34m,\u001b[0m \u001b[0;34m*\u001b[0m\u001b[0mpearsonr\u001b[0m\u001b[0;34m(\u001b[0m\u001b[0mavg_behav\u001b[0m\u001b[0;34m[\u001b[0m\u001b[0;34m\"d'\"\u001b[0m\u001b[0;34m]\u001b[0m\u001b[0;34m,\u001b[0m \u001b[0mal_resps\u001b[0m\u001b[0;34m[\u001b[0m\u001b[0;34m:\u001b[0m\u001b[0;34m,\u001b[0m \u001b[0;36m0\u001b[0m\u001b[0;34m]\u001b[0m\u001b[0;34m)\u001b[0m\u001b[0;34m)\u001b[0m\u001b[0;34m\u001b[0m\u001b[0;34m\u001b[0m\u001b[0m\n\u001b[0;32m----> 4\u001b[0;31m \u001b[0mprint_stat\u001b[0m\u001b[0;34m(\u001b[0m\u001b[0;34m'\\tYNG'\u001b[0m\u001b[0;34m,\u001b[0m \u001b[0;34m*\u001b[0m\u001b[0mpearsonr\u001b[0m\u001b[0;34m(\u001b[0m\u001b[0mavg_behav\u001b[0m\u001b[0;34m[\u001b[0m\u001b[0mavg_behav\u001b[0m\u001b[0;34m[\u001b[0m\u001b[0;34m'Age'\u001b[0m\u001b[0;34m]\u001b[0m \u001b[0;34m==\u001b[0m \u001b[0;36m1\u001b[0m\u001b[0;34m]\u001b[0m\u001b[0;34m[\u001b[0m\u001b[0;34m\"d'\"\u001b[0m\u001b[0;34m]\u001b[0m\u001b[0;34m,\u001b[0m \u001b[0medat\u001b[0m\u001b[0;34m[\u001b[0m\u001b[0mYNG_INDS\u001b[0m\u001b[0;34m,\u001b[0m \u001b[0mind\u001b[0m\u001b[0;34m]\u001b[0m\u001b[0;34m)\u001b[0m\u001b[0;34m)\u001b[0m\u001b[0;34m\u001b[0m\u001b[0;34m\u001b[0m\u001b[0m\n\u001b[0m\u001b[1;32m      5\u001b[0m \u001b[0mprint_stat\u001b[0m\u001b[0;34m(\u001b[0m\u001b[0;34m'\\tOLD'\u001b[0m\u001b[0;34m,\u001b[0m \u001b[0;34m*\u001b[0m\u001b[0mpearsonr\u001b[0m\u001b[0;34m(\u001b[0m\u001b[0mavg_behav\u001b[0m\u001b[0;34m[\u001b[0m\u001b[0mavg_behav\u001b[0m\u001b[0;34m[\u001b[0m\u001b[0;34m'Age'\u001b[0m\u001b[0;34m]\u001b[0m \u001b[0;34m==\u001b[0m \u001b[0;36m2\u001b[0m\u001b[0;34m]\u001b[0m\u001b[0;34m[\u001b[0m\u001b[0;34m\"d'\"\u001b[0m\u001b[0;34m]\u001b[0m\u001b[0;34m,\u001b[0m \u001b[0medat\u001b[0m\u001b[0;34m[\u001b[0m\u001b[0mOLD_INDS\u001b[0m\u001b[0;34m,\u001b[0m \u001b[0mind\u001b[0m\u001b[0;34m]\u001b[0m\u001b[0;34m)\u001b[0m\u001b[0;34m)\u001b[0m\u001b[0;34m\u001b[0m\u001b[0;34m\u001b[0m\u001b[0m\n",
      "\u001b[0;32m/anaconda3/lib/python3.7/site-packages/pandas/core/frame.py\u001b[0m in \u001b[0;36m__getitem__\u001b[0;34m(self, key)\u001b[0m\n\u001b[1;32m   2686\u001b[0m             \u001b[0;32mreturn\u001b[0m \u001b[0mself\u001b[0m\u001b[0;34m.\u001b[0m\u001b[0m_getitem_multilevel\u001b[0m\u001b[0;34m(\u001b[0m\u001b[0mkey\u001b[0m\u001b[0;34m)\u001b[0m\u001b[0;34m\u001b[0m\u001b[0;34m\u001b[0m\u001b[0m\n\u001b[1;32m   2687\u001b[0m         \u001b[0;32melse\u001b[0m\u001b[0;34m:\u001b[0m\u001b[0;34m\u001b[0m\u001b[0;34m\u001b[0m\u001b[0m\n\u001b[0;32m-> 2688\u001b[0;31m             \u001b[0;32mreturn\u001b[0m \u001b[0mself\u001b[0m\u001b[0;34m.\u001b[0m\u001b[0m_getitem_column\u001b[0m\u001b[0;34m(\u001b[0m\u001b[0mkey\u001b[0m\u001b[0;34m)\u001b[0m\u001b[0;34m\u001b[0m\u001b[0;34m\u001b[0m\u001b[0m\n\u001b[0m\u001b[1;32m   2689\u001b[0m \u001b[0;34m\u001b[0m\u001b[0m\n\u001b[1;32m   2690\u001b[0m     \u001b[0;32mdef\u001b[0m \u001b[0m_getitem_column\u001b[0m\u001b[0;34m(\u001b[0m\u001b[0mself\u001b[0m\u001b[0;34m,\u001b[0m \u001b[0mkey\u001b[0m\u001b[0;34m)\u001b[0m\u001b[0;34m:\u001b[0m\u001b[0;34m\u001b[0m\u001b[0;34m\u001b[0m\u001b[0m\n",
      "\u001b[0;32m/anaconda3/lib/python3.7/site-packages/pandas/core/frame.py\u001b[0m in \u001b[0;36m_getitem_column\u001b[0;34m(self, key)\u001b[0m\n\u001b[1;32m   2693\u001b[0m         \u001b[0;31m# get column\u001b[0m\u001b[0;34m\u001b[0m\u001b[0;34m\u001b[0m\u001b[0;34m\u001b[0m\u001b[0m\n\u001b[1;32m   2694\u001b[0m         \u001b[0;32mif\u001b[0m \u001b[0mself\u001b[0m\u001b[0;34m.\u001b[0m\u001b[0mcolumns\u001b[0m\u001b[0;34m.\u001b[0m\u001b[0mis_unique\u001b[0m\u001b[0;34m:\u001b[0m\u001b[0;34m\u001b[0m\u001b[0;34m\u001b[0m\u001b[0m\n\u001b[0;32m-> 2695\u001b[0;31m             \u001b[0;32mreturn\u001b[0m \u001b[0mself\u001b[0m\u001b[0;34m.\u001b[0m\u001b[0m_get_item_cache\u001b[0m\u001b[0;34m(\u001b[0m\u001b[0mkey\u001b[0m\u001b[0;34m)\u001b[0m\u001b[0;34m\u001b[0m\u001b[0;34m\u001b[0m\u001b[0m\n\u001b[0m\u001b[1;32m   2696\u001b[0m \u001b[0;34m\u001b[0m\u001b[0m\n\u001b[1;32m   2697\u001b[0m         \u001b[0;31m# duplicate columns & possible reduce dimensionality\u001b[0m\u001b[0;34m\u001b[0m\u001b[0;34m\u001b[0m\u001b[0;34m\u001b[0m\u001b[0m\n",
      "\u001b[0;32m/anaconda3/lib/python3.7/site-packages/pandas/core/generic.py\u001b[0m in \u001b[0;36m_get_item_cache\u001b[0;34m(self, item)\u001b[0m\n\u001b[1;32m   2487\u001b[0m         \u001b[0mres\u001b[0m \u001b[0;34m=\u001b[0m \u001b[0mcache\u001b[0m\u001b[0;34m.\u001b[0m\u001b[0mget\u001b[0m\u001b[0;34m(\u001b[0m\u001b[0mitem\u001b[0m\u001b[0;34m)\u001b[0m\u001b[0;34m\u001b[0m\u001b[0;34m\u001b[0m\u001b[0m\n\u001b[1;32m   2488\u001b[0m         \u001b[0;32mif\u001b[0m \u001b[0mres\u001b[0m \u001b[0;32mis\u001b[0m \u001b[0;32mNone\u001b[0m\u001b[0;34m:\u001b[0m\u001b[0;34m\u001b[0m\u001b[0;34m\u001b[0m\u001b[0m\n\u001b[0;32m-> 2489\u001b[0;31m             \u001b[0mvalues\u001b[0m \u001b[0;34m=\u001b[0m \u001b[0mself\u001b[0m\u001b[0;34m.\u001b[0m\u001b[0m_data\u001b[0m\u001b[0;34m.\u001b[0m\u001b[0mget\u001b[0m\u001b[0;34m(\u001b[0m\u001b[0mitem\u001b[0m\u001b[0;34m)\u001b[0m\u001b[0;34m\u001b[0m\u001b[0;34m\u001b[0m\u001b[0m\n\u001b[0m\u001b[1;32m   2490\u001b[0m             \u001b[0mres\u001b[0m \u001b[0;34m=\u001b[0m \u001b[0mself\u001b[0m\u001b[0;34m.\u001b[0m\u001b[0m_box_item_values\u001b[0m\u001b[0;34m(\u001b[0m\u001b[0mitem\u001b[0m\u001b[0;34m,\u001b[0m \u001b[0mvalues\u001b[0m\u001b[0;34m)\u001b[0m\u001b[0;34m\u001b[0m\u001b[0;34m\u001b[0m\u001b[0m\n\u001b[1;32m   2491\u001b[0m             \u001b[0mcache\u001b[0m\u001b[0;34m[\u001b[0m\u001b[0mitem\u001b[0m\u001b[0;34m]\u001b[0m \u001b[0;34m=\u001b[0m \u001b[0mres\u001b[0m\u001b[0;34m\u001b[0m\u001b[0;34m\u001b[0m\u001b[0m\n",
      "\u001b[0;32m/anaconda3/lib/python3.7/site-packages/pandas/core/internals.py\u001b[0m in \u001b[0;36mget\u001b[0;34m(self, item, fastpath)\u001b[0m\n\u001b[1;32m   4113\u001b[0m \u001b[0;34m\u001b[0m\u001b[0m\n\u001b[1;32m   4114\u001b[0m             \u001b[0;32mif\u001b[0m \u001b[0;32mnot\u001b[0m \u001b[0misna\u001b[0m\u001b[0;34m(\u001b[0m\u001b[0mitem\u001b[0m\u001b[0;34m)\u001b[0m\u001b[0;34m:\u001b[0m\u001b[0;34m\u001b[0m\u001b[0;34m\u001b[0m\u001b[0m\n\u001b[0;32m-> 4115\u001b[0;31m                 \u001b[0mloc\u001b[0m \u001b[0;34m=\u001b[0m \u001b[0mself\u001b[0m\u001b[0;34m.\u001b[0m\u001b[0mitems\u001b[0m\u001b[0;34m.\u001b[0m\u001b[0mget_loc\u001b[0m\u001b[0;34m(\u001b[0m\u001b[0mitem\u001b[0m\u001b[0;34m)\u001b[0m\u001b[0;34m\u001b[0m\u001b[0;34m\u001b[0m\u001b[0m\n\u001b[0m\u001b[1;32m   4116\u001b[0m             \u001b[0;32melse\u001b[0m\u001b[0;34m:\u001b[0m\u001b[0;34m\u001b[0m\u001b[0;34m\u001b[0m\u001b[0m\n\u001b[1;32m   4117\u001b[0m                 \u001b[0mindexer\u001b[0m \u001b[0;34m=\u001b[0m \u001b[0mnp\u001b[0m\u001b[0;34m.\u001b[0m\u001b[0marange\u001b[0m\u001b[0;34m(\u001b[0m\u001b[0mlen\u001b[0m\u001b[0;34m(\u001b[0m\u001b[0mself\u001b[0m\u001b[0;34m.\u001b[0m\u001b[0mitems\u001b[0m\u001b[0;34m)\u001b[0m\u001b[0;34m)\u001b[0m\u001b[0;34m[\u001b[0m\u001b[0misna\u001b[0m\u001b[0;34m(\u001b[0m\u001b[0mself\u001b[0m\u001b[0;34m.\u001b[0m\u001b[0mitems\u001b[0m\u001b[0;34m)\u001b[0m\u001b[0;34m]\u001b[0m\u001b[0;34m\u001b[0m\u001b[0;34m\u001b[0m\u001b[0m\n",
      "\u001b[0;32m/anaconda3/lib/python3.7/site-packages/pandas/core/indexes/base.py\u001b[0m in \u001b[0;36mget_loc\u001b[0;34m(self, key, method, tolerance)\u001b[0m\n\u001b[1;32m   3078\u001b[0m                 \u001b[0;32mreturn\u001b[0m \u001b[0mself\u001b[0m\u001b[0;34m.\u001b[0m\u001b[0m_engine\u001b[0m\u001b[0;34m.\u001b[0m\u001b[0mget_loc\u001b[0m\u001b[0;34m(\u001b[0m\u001b[0mkey\u001b[0m\u001b[0;34m)\u001b[0m\u001b[0;34m\u001b[0m\u001b[0;34m\u001b[0m\u001b[0m\n\u001b[1;32m   3079\u001b[0m             \u001b[0;32mexcept\u001b[0m \u001b[0mKeyError\u001b[0m\u001b[0;34m:\u001b[0m\u001b[0;34m\u001b[0m\u001b[0;34m\u001b[0m\u001b[0m\n\u001b[0;32m-> 3080\u001b[0;31m                 \u001b[0;32mreturn\u001b[0m \u001b[0mself\u001b[0m\u001b[0;34m.\u001b[0m\u001b[0m_engine\u001b[0m\u001b[0;34m.\u001b[0m\u001b[0mget_loc\u001b[0m\u001b[0;34m(\u001b[0m\u001b[0mself\u001b[0m\u001b[0;34m.\u001b[0m\u001b[0m_maybe_cast_indexer\u001b[0m\u001b[0;34m(\u001b[0m\u001b[0mkey\u001b[0m\u001b[0;34m)\u001b[0m\u001b[0;34m)\u001b[0m\u001b[0;34m\u001b[0m\u001b[0;34m\u001b[0m\u001b[0m\n\u001b[0m\u001b[1;32m   3081\u001b[0m \u001b[0;34m\u001b[0m\u001b[0m\n\u001b[1;32m   3082\u001b[0m         \u001b[0mindexer\u001b[0m \u001b[0;34m=\u001b[0m \u001b[0mself\u001b[0m\u001b[0;34m.\u001b[0m\u001b[0mget_indexer\u001b[0m\u001b[0;34m(\u001b[0m\u001b[0;34m[\u001b[0m\u001b[0mkey\u001b[0m\u001b[0;34m]\u001b[0m\u001b[0;34m,\u001b[0m \u001b[0mmethod\u001b[0m\u001b[0;34m=\u001b[0m\u001b[0mmethod\u001b[0m\u001b[0;34m,\u001b[0m \u001b[0mtolerance\u001b[0m\u001b[0;34m=\u001b[0m\u001b[0mtolerance\u001b[0m\u001b[0;34m)\u001b[0m\u001b[0;34m\u001b[0m\u001b[0;34m\u001b[0m\u001b[0m\n",
      "\u001b[0;32mpandas/_libs/index.pyx\u001b[0m in \u001b[0;36mpandas._libs.index.IndexEngine.get_loc\u001b[0;34m()\u001b[0m\n",
      "\u001b[0;32mpandas/_libs/index.pyx\u001b[0m in \u001b[0;36mpandas._libs.index.IndexEngine.get_loc\u001b[0;34m()\u001b[0m\n",
      "\u001b[0;32mpandas/_libs/hashtable_class_helper.pxi\u001b[0m in \u001b[0;36mpandas._libs.hashtable.PyObjectHashTable.get_item\u001b[0;34m()\u001b[0m\n",
      "\u001b[0;32mpandas/_libs/hashtable_class_helper.pxi\u001b[0m in \u001b[0;36mpandas._libs.hashtable.PyObjectHashTable.get_item\u001b[0;34m()\u001b[0m\n",
      "\u001b[0;31mKeyError\u001b[0m: 'Age'"
     ]
    }
   ],
   "source": [
    "edat = sl_resps; ind = 0;\n",
    "\n",
    "print_stat('\\tALL', *pearsonr(avg_behav[\"d'\"], al_resps[:, 0]))\n",
    "print_stat('\\tYNG', *pearsonr(avg_behav[avg_behav['Age'] == 1][\"d'\"], edat[YNG_INDS, ind]))\n",
    "print_stat('\\tOLD', *pearsonr(avg_behav[avg_behav['Age'] == 2][\"d'\"], edat[OLD_INDS, ind]))"
   ]
  },
  {
   "cell_type": "code",
   "execution_count": 44,
   "metadata": {},
   "outputs": [
    {
     "name": "stdout",
     "output_type": "stream",
     "text": [
      "\tALL: \t   nan \t1.0000\n"
     ]
    },
    {
     "ename": "KeyError",
     "evalue": "'Age'",
     "output_type": "error",
     "traceback": [
      "\u001b[0;31m---------------------------------------------------------------------------\u001b[0m",
      "\u001b[0;31mKeyError\u001b[0m                                  Traceback (most recent call last)",
      "\u001b[0;32m/anaconda3/lib/python3.7/site-packages/pandas/core/indexes/base.py\u001b[0m in \u001b[0;36mget_loc\u001b[0;34m(self, key, method, tolerance)\u001b[0m\n\u001b[1;32m   3077\u001b[0m             \u001b[0;32mtry\u001b[0m\u001b[0;34m:\u001b[0m\u001b[0;34m\u001b[0m\u001b[0;34m\u001b[0m\u001b[0m\n\u001b[0;32m-> 3078\u001b[0;31m                 \u001b[0;32mreturn\u001b[0m \u001b[0mself\u001b[0m\u001b[0;34m.\u001b[0m\u001b[0m_engine\u001b[0m\u001b[0;34m.\u001b[0m\u001b[0mget_loc\u001b[0m\u001b[0;34m(\u001b[0m\u001b[0mkey\u001b[0m\u001b[0;34m)\u001b[0m\u001b[0;34m\u001b[0m\u001b[0;34m\u001b[0m\u001b[0m\n\u001b[0m\u001b[1;32m   3079\u001b[0m             \u001b[0;32mexcept\u001b[0m \u001b[0mKeyError\u001b[0m\u001b[0;34m:\u001b[0m\u001b[0;34m\u001b[0m\u001b[0;34m\u001b[0m\u001b[0m\n",
      "\u001b[0;32mpandas/_libs/index.pyx\u001b[0m in \u001b[0;36mpandas._libs.index.IndexEngine.get_loc\u001b[0;34m()\u001b[0m\n",
      "\u001b[0;32mpandas/_libs/index.pyx\u001b[0m in \u001b[0;36mpandas._libs.index.IndexEngine.get_loc\u001b[0;34m()\u001b[0m\n",
      "\u001b[0;32mpandas/_libs/hashtable_class_helper.pxi\u001b[0m in \u001b[0;36mpandas._libs.hashtable.PyObjectHashTable.get_item\u001b[0;34m()\u001b[0m\n",
      "\u001b[0;32mpandas/_libs/hashtable_class_helper.pxi\u001b[0m in \u001b[0;36mpandas._libs.hashtable.PyObjectHashTable.get_item\u001b[0;34m()\u001b[0m\n",
      "\u001b[0;31mKeyError\u001b[0m: 'Age'",
      "\nDuring handling of the above exception, another exception occurred:\n",
      "\u001b[0;31mKeyError\u001b[0m                                  Traceback (most recent call last)",
      "\u001b[0;32m<ipython-input-44-ec3a0c3d8978>\u001b[0m in \u001b[0;36m<module>\u001b[0;34m\u001b[0m\n\u001b[1;32m      2\u001b[0m \u001b[0;34m\u001b[0m\u001b[0m\n\u001b[1;32m      3\u001b[0m \u001b[0mprint_stat\u001b[0m\u001b[0;34m(\u001b[0m\u001b[0;34m'\\tALL'\u001b[0m\u001b[0;34m,\u001b[0m \u001b[0;34m*\u001b[0m\u001b[0mpearsonr\u001b[0m\u001b[0;34m(\u001b[0m\u001b[0mavg_behav\u001b[0m\u001b[0;34m[\u001b[0m\u001b[0;34m\"d'\"\u001b[0m\u001b[0;34m]\u001b[0m\u001b[0;34m,\u001b[0m \u001b[0mal_resps\u001b[0m\u001b[0;34m[\u001b[0m\u001b[0;34m:\u001b[0m\u001b[0;34m,\u001b[0m \u001b[0;36m0\u001b[0m\u001b[0;34m]\u001b[0m\u001b[0;34m)\u001b[0m\u001b[0;34m)\u001b[0m\u001b[0;34m\u001b[0m\u001b[0;34m\u001b[0m\u001b[0m\n\u001b[0;32m----> 4\u001b[0;31m \u001b[0mprint_stat\u001b[0m\u001b[0;34m(\u001b[0m\u001b[0;34m'\\tYNG'\u001b[0m\u001b[0;34m,\u001b[0m \u001b[0;34m*\u001b[0m\u001b[0mpearsonr\u001b[0m\u001b[0;34m(\u001b[0m\u001b[0mavg_behav\u001b[0m\u001b[0;34m[\u001b[0m\u001b[0mavg_behav\u001b[0m\u001b[0;34m[\u001b[0m\u001b[0;34m'Age'\u001b[0m\u001b[0;34m]\u001b[0m \u001b[0;34m==\u001b[0m \u001b[0;36m1\u001b[0m\u001b[0;34m]\u001b[0m\u001b[0;34m[\u001b[0m\u001b[0;34m\"d'\"\u001b[0m\u001b[0;34m]\u001b[0m\u001b[0;34m,\u001b[0m \u001b[0mnp\u001b[0m\u001b[0;34m.\u001b[0m\u001b[0mmean\u001b[0m\u001b[0;34m(\u001b[0m\u001b[0medat\u001b[0m\u001b[0;34m[\u001b[0m\u001b[0mYNG_INDS\u001b[0m\u001b[0;34m]\u001b[0m\u001b[0;34m,\u001b[0m \u001b[0;36m1\u001b[0m\u001b[0;34m)\u001b[0m\u001b[0;34m)\u001b[0m\u001b[0;34m)\u001b[0m\u001b[0;34m\u001b[0m\u001b[0;34m\u001b[0m\u001b[0m\n\u001b[0m\u001b[1;32m      5\u001b[0m \u001b[0mprint_stat\u001b[0m\u001b[0;34m(\u001b[0m\u001b[0;34m'\\tOLD'\u001b[0m\u001b[0;34m,\u001b[0m \u001b[0;34m*\u001b[0m\u001b[0mpearsonr\u001b[0m\u001b[0;34m(\u001b[0m\u001b[0mavg_behav\u001b[0m\u001b[0;34m[\u001b[0m\u001b[0mavg_behav\u001b[0m\u001b[0;34m[\u001b[0m\u001b[0;34m'Age'\u001b[0m\u001b[0;34m]\u001b[0m \u001b[0;34m==\u001b[0m \u001b[0;36m2\u001b[0m\u001b[0;34m]\u001b[0m\u001b[0;34m[\u001b[0m\u001b[0;34m\"d'\"\u001b[0m\u001b[0;34m]\u001b[0m\u001b[0;34m,\u001b[0m \u001b[0mnp\u001b[0m\u001b[0;34m.\u001b[0m\u001b[0mmean\u001b[0m\u001b[0;34m(\u001b[0m\u001b[0medat\u001b[0m\u001b[0;34m[\u001b[0m\u001b[0mOLD_INDS\u001b[0m\u001b[0;34m]\u001b[0m\u001b[0;34m,\u001b[0m \u001b[0;36m1\u001b[0m\u001b[0;34m)\u001b[0m\u001b[0;34m)\u001b[0m\u001b[0;34m)\u001b[0m\u001b[0;34m\u001b[0m\u001b[0;34m\u001b[0m\u001b[0m\n",
      "\u001b[0;32m/anaconda3/lib/python3.7/site-packages/pandas/core/frame.py\u001b[0m in \u001b[0;36m__getitem__\u001b[0;34m(self, key)\u001b[0m\n\u001b[1;32m   2686\u001b[0m             \u001b[0;32mreturn\u001b[0m \u001b[0mself\u001b[0m\u001b[0;34m.\u001b[0m\u001b[0m_getitem_multilevel\u001b[0m\u001b[0;34m(\u001b[0m\u001b[0mkey\u001b[0m\u001b[0;34m)\u001b[0m\u001b[0;34m\u001b[0m\u001b[0;34m\u001b[0m\u001b[0m\n\u001b[1;32m   2687\u001b[0m         \u001b[0;32melse\u001b[0m\u001b[0;34m:\u001b[0m\u001b[0;34m\u001b[0m\u001b[0;34m\u001b[0m\u001b[0m\n\u001b[0;32m-> 2688\u001b[0;31m             \u001b[0;32mreturn\u001b[0m \u001b[0mself\u001b[0m\u001b[0;34m.\u001b[0m\u001b[0m_getitem_column\u001b[0m\u001b[0;34m(\u001b[0m\u001b[0mkey\u001b[0m\u001b[0;34m)\u001b[0m\u001b[0;34m\u001b[0m\u001b[0;34m\u001b[0m\u001b[0m\n\u001b[0m\u001b[1;32m   2689\u001b[0m \u001b[0;34m\u001b[0m\u001b[0m\n\u001b[1;32m   2690\u001b[0m     \u001b[0;32mdef\u001b[0m \u001b[0m_getitem_column\u001b[0m\u001b[0;34m(\u001b[0m\u001b[0mself\u001b[0m\u001b[0;34m,\u001b[0m \u001b[0mkey\u001b[0m\u001b[0;34m)\u001b[0m\u001b[0;34m:\u001b[0m\u001b[0;34m\u001b[0m\u001b[0;34m\u001b[0m\u001b[0m\n",
      "\u001b[0;32m/anaconda3/lib/python3.7/site-packages/pandas/core/frame.py\u001b[0m in \u001b[0;36m_getitem_column\u001b[0;34m(self, key)\u001b[0m\n\u001b[1;32m   2693\u001b[0m         \u001b[0;31m# get column\u001b[0m\u001b[0;34m\u001b[0m\u001b[0;34m\u001b[0m\u001b[0;34m\u001b[0m\u001b[0m\n\u001b[1;32m   2694\u001b[0m         \u001b[0;32mif\u001b[0m \u001b[0mself\u001b[0m\u001b[0;34m.\u001b[0m\u001b[0mcolumns\u001b[0m\u001b[0;34m.\u001b[0m\u001b[0mis_unique\u001b[0m\u001b[0;34m:\u001b[0m\u001b[0;34m\u001b[0m\u001b[0;34m\u001b[0m\u001b[0m\n\u001b[0;32m-> 2695\u001b[0;31m             \u001b[0;32mreturn\u001b[0m \u001b[0mself\u001b[0m\u001b[0;34m.\u001b[0m\u001b[0m_get_item_cache\u001b[0m\u001b[0;34m(\u001b[0m\u001b[0mkey\u001b[0m\u001b[0;34m)\u001b[0m\u001b[0;34m\u001b[0m\u001b[0;34m\u001b[0m\u001b[0m\n\u001b[0m\u001b[1;32m   2696\u001b[0m \u001b[0;34m\u001b[0m\u001b[0m\n\u001b[1;32m   2697\u001b[0m         \u001b[0;31m# duplicate columns & possible reduce dimensionality\u001b[0m\u001b[0;34m\u001b[0m\u001b[0;34m\u001b[0m\u001b[0;34m\u001b[0m\u001b[0m\n",
      "\u001b[0;32m/anaconda3/lib/python3.7/site-packages/pandas/core/generic.py\u001b[0m in \u001b[0;36m_get_item_cache\u001b[0;34m(self, item)\u001b[0m\n\u001b[1;32m   2487\u001b[0m         \u001b[0mres\u001b[0m \u001b[0;34m=\u001b[0m \u001b[0mcache\u001b[0m\u001b[0;34m.\u001b[0m\u001b[0mget\u001b[0m\u001b[0;34m(\u001b[0m\u001b[0mitem\u001b[0m\u001b[0;34m)\u001b[0m\u001b[0;34m\u001b[0m\u001b[0;34m\u001b[0m\u001b[0m\n\u001b[1;32m   2488\u001b[0m         \u001b[0;32mif\u001b[0m \u001b[0mres\u001b[0m \u001b[0;32mis\u001b[0m \u001b[0;32mNone\u001b[0m\u001b[0;34m:\u001b[0m\u001b[0;34m\u001b[0m\u001b[0;34m\u001b[0m\u001b[0m\n\u001b[0;32m-> 2489\u001b[0;31m             \u001b[0mvalues\u001b[0m \u001b[0;34m=\u001b[0m \u001b[0mself\u001b[0m\u001b[0;34m.\u001b[0m\u001b[0m_data\u001b[0m\u001b[0;34m.\u001b[0m\u001b[0mget\u001b[0m\u001b[0;34m(\u001b[0m\u001b[0mitem\u001b[0m\u001b[0;34m)\u001b[0m\u001b[0;34m\u001b[0m\u001b[0;34m\u001b[0m\u001b[0m\n\u001b[0m\u001b[1;32m   2490\u001b[0m             \u001b[0mres\u001b[0m \u001b[0;34m=\u001b[0m \u001b[0mself\u001b[0m\u001b[0;34m.\u001b[0m\u001b[0m_box_item_values\u001b[0m\u001b[0;34m(\u001b[0m\u001b[0mitem\u001b[0m\u001b[0;34m,\u001b[0m \u001b[0mvalues\u001b[0m\u001b[0;34m)\u001b[0m\u001b[0;34m\u001b[0m\u001b[0;34m\u001b[0m\u001b[0m\n\u001b[1;32m   2491\u001b[0m             \u001b[0mcache\u001b[0m\u001b[0;34m[\u001b[0m\u001b[0mitem\u001b[0m\u001b[0;34m]\u001b[0m \u001b[0;34m=\u001b[0m \u001b[0mres\u001b[0m\u001b[0;34m\u001b[0m\u001b[0;34m\u001b[0m\u001b[0m\n",
      "\u001b[0;32m/anaconda3/lib/python3.7/site-packages/pandas/core/internals.py\u001b[0m in \u001b[0;36mget\u001b[0;34m(self, item, fastpath)\u001b[0m\n\u001b[1;32m   4113\u001b[0m \u001b[0;34m\u001b[0m\u001b[0m\n\u001b[1;32m   4114\u001b[0m             \u001b[0;32mif\u001b[0m \u001b[0;32mnot\u001b[0m \u001b[0misna\u001b[0m\u001b[0;34m(\u001b[0m\u001b[0mitem\u001b[0m\u001b[0;34m)\u001b[0m\u001b[0;34m:\u001b[0m\u001b[0;34m\u001b[0m\u001b[0;34m\u001b[0m\u001b[0m\n\u001b[0;32m-> 4115\u001b[0;31m                 \u001b[0mloc\u001b[0m \u001b[0;34m=\u001b[0m \u001b[0mself\u001b[0m\u001b[0;34m.\u001b[0m\u001b[0mitems\u001b[0m\u001b[0;34m.\u001b[0m\u001b[0mget_loc\u001b[0m\u001b[0;34m(\u001b[0m\u001b[0mitem\u001b[0m\u001b[0;34m)\u001b[0m\u001b[0;34m\u001b[0m\u001b[0;34m\u001b[0m\u001b[0m\n\u001b[0m\u001b[1;32m   4116\u001b[0m             \u001b[0;32melse\u001b[0m\u001b[0;34m:\u001b[0m\u001b[0;34m\u001b[0m\u001b[0;34m\u001b[0m\u001b[0m\n\u001b[1;32m   4117\u001b[0m                 \u001b[0mindexer\u001b[0m \u001b[0;34m=\u001b[0m \u001b[0mnp\u001b[0m\u001b[0;34m.\u001b[0m\u001b[0marange\u001b[0m\u001b[0;34m(\u001b[0m\u001b[0mlen\u001b[0m\u001b[0;34m(\u001b[0m\u001b[0mself\u001b[0m\u001b[0;34m.\u001b[0m\u001b[0mitems\u001b[0m\u001b[0;34m)\u001b[0m\u001b[0;34m)\u001b[0m\u001b[0;34m[\u001b[0m\u001b[0misna\u001b[0m\u001b[0;34m(\u001b[0m\u001b[0mself\u001b[0m\u001b[0;34m.\u001b[0m\u001b[0mitems\u001b[0m\u001b[0;34m)\u001b[0m\u001b[0;34m]\u001b[0m\u001b[0;34m\u001b[0m\u001b[0;34m\u001b[0m\u001b[0m\n",
      "\u001b[0;32m/anaconda3/lib/python3.7/site-packages/pandas/core/indexes/base.py\u001b[0m in \u001b[0;36mget_loc\u001b[0;34m(self, key, method, tolerance)\u001b[0m\n\u001b[1;32m   3078\u001b[0m                 \u001b[0;32mreturn\u001b[0m \u001b[0mself\u001b[0m\u001b[0;34m.\u001b[0m\u001b[0m_engine\u001b[0m\u001b[0;34m.\u001b[0m\u001b[0mget_loc\u001b[0m\u001b[0;34m(\u001b[0m\u001b[0mkey\u001b[0m\u001b[0;34m)\u001b[0m\u001b[0;34m\u001b[0m\u001b[0;34m\u001b[0m\u001b[0m\n\u001b[1;32m   3079\u001b[0m             \u001b[0;32mexcept\u001b[0m \u001b[0mKeyError\u001b[0m\u001b[0;34m:\u001b[0m\u001b[0;34m\u001b[0m\u001b[0;34m\u001b[0m\u001b[0m\n\u001b[0;32m-> 3080\u001b[0;31m                 \u001b[0;32mreturn\u001b[0m \u001b[0mself\u001b[0m\u001b[0;34m.\u001b[0m\u001b[0m_engine\u001b[0m\u001b[0;34m.\u001b[0m\u001b[0mget_loc\u001b[0m\u001b[0;34m(\u001b[0m\u001b[0mself\u001b[0m\u001b[0;34m.\u001b[0m\u001b[0m_maybe_cast_indexer\u001b[0m\u001b[0;34m(\u001b[0m\u001b[0mkey\u001b[0m\u001b[0;34m)\u001b[0m\u001b[0;34m)\u001b[0m\u001b[0;34m\u001b[0m\u001b[0;34m\u001b[0m\u001b[0m\n\u001b[0m\u001b[1;32m   3081\u001b[0m \u001b[0;34m\u001b[0m\u001b[0m\n\u001b[1;32m   3082\u001b[0m         \u001b[0mindexer\u001b[0m \u001b[0;34m=\u001b[0m \u001b[0mself\u001b[0m\u001b[0;34m.\u001b[0m\u001b[0mget_indexer\u001b[0m\u001b[0;34m(\u001b[0m\u001b[0;34m[\u001b[0m\u001b[0mkey\u001b[0m\u001b[0;34m]\u001b[0m\u001b[0;34m,\u001b[0m \u001b[0mmethod\u001b[0m\u001b[0;34m=\u001b[0m\u001b[0mmethod\u001b[0m\u001b[0;34m,\u001b[0m \u001b[0mtolerance\u001b[0m\u001b[0;34m=\u001b[0m\u001b[0mtolerance\u001b[0m\u001b[0;34m)\u001b[0m\u001b[0;34m\u001b[0m\u001b[0;34m\u001b[0m\u001b[0m\n",
      "\u001b[0;32mpandas/_libs/index.pyx\u001b[0m in \u001b[0;36mpandas._libs.index.IndexEngine.get_loc\u001b[0;34m()\u001b[0m\n",
      "\u001b[0;32mpandas/_libs/index.pyx\u001b[0m in \u001b[0;36mpandas._libs.index.IndexEngine.get_loc\u001b[0;34m()\u001b[0m\n",
      "\u001b[0;32mpandas/_libs/hashtable_class_helper.pxi\u001b[0m in \u001b[0;36mpandas._libs.hashtable.PyObjectHashTable.get_item\u001b[0;34m()\u001b[0m\n",
      "\u001b[0;32mpandas/_libs/hashtable_class_helper.pxi\u001b[0m in \u001b[0;36mpandas._libs.hashtable.PyObjectHashTable.get_item\u001b[0;34m()\u001b[0m\n",
      "\u001b[0;31mKeyError\u001b[0m: 'Age'"
     ]
    }
   ],
   "source": [
    "edat = sl_resps\n",
    "\n",
    "print_stat('\\tALL', *pearsonr(avg_behav[\"d'\"], al_resps[:, 0]))\n",
    "print_stat('\\tYNG', *pearsonr(avg_behav[avg_behav['Age'] == 1][\"d'\"], np.mean(edat[YNG_INDS], 1)))\n",
    "print_stat('\\tOLD', *pearsonr(avg_behav[avg_behav['Age'] == 2][\"d'\"], np.mean(edat[OLD_INDS], 1)))"
   ]
  },
  {
   "cell_type": "code",
   "execution_count": 45,
   "metadata": {},
   "outputs": [
    {
     "name": "stdout",
     "output_type": "stream",
     "text": [
      "(nan, 1.0)\n",
      "(-0.3622129765020239, 0.04523951010175264)\n"
     ]
    }
   ],
   "source": [
    "print(pearsonr(avg_behav[\"CDA\"], al_resps[:, 0]))\n",
    "print(pearsonr(avg_behav[\"CDA\"], sl_resps[:, 0]))"
   ]
  },
  {
   "cell_type": "code",
   "execution_count": 46,
   "metadata": {},
   "outputs": [
    {
     "name": "stdout",
     "output_type": "stream",
     "text": [
      "(nan, 1.0)\n",
      "(nan, 1.0)\n"
     ]
    }
   ],
   "source": [
    "print(pearsonr(sl_dif_yng, al_dif_yng))\n",
    "print(pearsonr(sl_dif_old, al_dif_old))"
   ]
  },
  {
   "cell_type": "code",
   "execution_count": null,
   "metadata": {},
   "outputs": [],
   "source": []
  },
  {
   "cell_type": "code",
   "execution_count": null,
   "metadata": {},
   "outputs": [],
   "source": []
  },
  {
   "cell_type": "code",
   "execution_count": null,
   "metadata": {},
   "outputs": [],
   "source": []
  },
  {
   "cell_type": "code",
   "execution_count": null,
   "metadata": {},
   "outputs": [],
   "source": []
  },
  {
   "cell_type": "markdown",
   "metadata": {},
   "source": [
    "## Miscellaneous Crap"
   ]
  },
  {
   "cell_type": "code",
   "execution_count": 47,
   "metadata": {},
   "outputs": [],
   "source": [
    "# # Build the dataframe\n",
    "\n",
    "# t_ind = 2\n",
    "# l_ind = 0 \n",
    "\n",
    "# df = pd.DataFrame()\n",
    "\n",
    "# df['behav'] = behav_dat[behav_dat['Load'] == l_ind+1][\"d'\"].values\n",
    "# df['age'] = behav_dat[behav_dat['Load'] == l_ind+1][\"Age\"].values\n",
    "\n",
    "# df['sl_dif'] = np.concatenate([sl_dif_yng, sl_dif_old])\n",
    "# df['al_dif'] = np.concatenate([al_dif_yng, al_dif_old])\n",
    "\n",
    "# # \n",
    "# outcome, predictors = patsy.dmatrices(\"behav ~ sl_dif + al_dif + age\", df)\n",
    "# #outcome, predictors = patsy.dmatrices(\"behav ~ age * sl_dif\", df)\n",
    "# mod = sm.OLS(outcome, predictors)\n",
    "# res = mod.fit()\n",
    "\n",
    "# # Check out the results\n",
    "# print(res.summary())"
   ]
  },
  {
   "cell_type": "code",
   "execution_count": null,
   "metadata": {},
   "outputs": [],
   "source": []
  },
  {
   "cell_type": "code",
   "execution_count": 48,
   "metadata": {},
   "outputs": [],
   "source": [
    "#\n",
    "al_ = np.mean(all_exps[:, YNG_INDS, :], 0)\n",
    "\n",
    "sl_st_yng = np.vstack([all_exps[0, YNG_INDS, :], all_exps[1, YNG_INDS, :], all_exps[2, YNG_INDS, :]])\n",
    "sl_st_old = np.vstack([all_exps[0, OLD_INDS, :], all_exps[1, OLD_INDS, :], all_exps[2, OLD_INDS, :]])\n",
    "\n",
    "#\n",
    "al_st_yng = np.vstack([all_alphas[0, YNG_INDS, :], all_alphas[1, YNG_INDS, :], all_alphas[2, YNG_INDS, :]])\n",
    "al_st_old = np.vstack([all_alphas[0, OLD_INDS, :], all_alphas[1, OLD_INDS, :], all_alphas[2, OLD_INDS, :]])"
   ]
  },
  {
   "cell_type": "code",
   "execution_count": null,
   "metadata": {},
   "outputs": [],
   "source": []
  },
  {
   "cell_type": "code",
   "execution_count": 49,
   "metadata": {},
   "outputs": [],
   "source": [
    "# Get the change in behavioural scores between highes & lowest loads\n",
    "delta_behavs = []\n",
    "temp_df = behav_dat[behav_dat.Age == 1]\n",
    "for subj_id in set(temp_df.SubjID.values):\n",
    "    temp = behav_dat[behav_dat.SubjID == subj_id]\n",
    "    delta_behavs.append(temp[temp.Load == 3][\"d'\"].values[0] - temp[temp.Load == 1][\"d'\"].values[0])\n",
    "delta_behavs = np.array(delta_behavs)"
   ]
  },
  {
   "cell_type": "code",
   "execution_count": 50,
   "metadata": {},
   "outputs": [],
   "source": [
    "#behav_dat.Age == 2"
   ]
  },
  {
   "cell_type": "code",
   "execution_count": 51,
   "metadata": {},
   "outputs": [],
   "source": [
    "# Get the change in physiological scores between highes & lowest loads\n",
    "temp_dat = all_exps\n",
    "temp = temp_dat[2, :, :] - temp_dat[0, :, :]\n",
    "temp[np.isnan(temp)] = 0\n",
    "delta_phys = temp[:, 2] - temp[:, 0]"
   ]
  },
  {
   "cell_type": "code",
   "execution_count": null,
   "metadata": {},
   "outputs": [],
   "source": []
  },
  {
   "cell_type": "code",
   "execution_count": 52,
   "metadata": {},
   "outputs": [
    {
     "name": "stderr",
     "output_type": "stream",
     "text": [
      "/anaconda3/lib/python3.7/site-packages/scipy/stats/stats.py:3005: RuntimeWarning: Mean of empty slice.\n",
      "  mx = x.mean()\n"
     ]
    },
    {
     "ename": "ValueError",
     "evalue": "operands could not be broadcast together with shapes (0,) (14,) ",
     "output_type": "error",
     "traceback": [
      "\u001b[0;31m---------------------------------------------------------------------------\u001b[0m",
      "\u001b[0;31mValueError\u001b[0m                                Traceback (most recent call last)",
      "\u001b[0;32m<ipython-input-52-64e3d7342bcb>\u001b[0m in \u001b[0;36m<module>\u001b[0;34m\u001b[0m\n\u001b[0;32m----> 1\u001b[0;31m \u001b[0mprint\u001b[0m\u001b[0;34m(\u001b[0m\u001b[0;34m'ALL:'\u001b[0m\u001b[0;34m,\u001b[0m \u001b[0mpearsonr\u001b[0m\u001b[0;34m(\u001b[0m\u001b[0mdelta_behavs\u001b[0m\u001b[0;34m,\u001b[0m \u001b[0mdelta_phys\u001b[0m\u001b[0;34m[\u001b[0m\u001b[0mOLD_INDS\u001b[0m\u001b[0;34m]\u001b[0m\u001b[0;34m)\u001b[0m\u001b[0;34m)\u001b[0m\u001b[0;34m\u001b[0m\u001b[0;34m\u001b[0m\u001b[0m\n\u001b[0m\u001b[1;32m      2\u001b[0m \u001b[0mplt\u001b[0m\u001b[0;34m.\u001b[0m\u001b[0mscatter\u001b[0m\u001b[0;34m(\u001b[0m\u001b[0mdelta_behavs\u001b[0m\u001b[0;34m,\u001b[0m \u001b[0mdelta_phys\u001b[0m\u001b[0;34m[\u001b[0m\u001b[0mOLD_INDS\u001b[0m\u001b[0;34m]\u001b[0m\u001b[0;34m)\u001b[0m\u001b[0;34m\u001b[0m\u001b[0;34m\u001b[0m\u001b[0m\n",
      "\u001b[0;32m/anaconda3/lib/python3.7/site-packages/scipy/stats/stats.py\u001b[0m in \u001b[0;36mpearsonr\u001b[0;34m(x, y)\u001b[0m\n\u001b[1;32m   3006\u001b[0m     \u001b[0mmy\u001b[0m \u001b[0;34m=\u001b[0m \u001b[0my\u001b[0m\u001b[0;34m.\u001b[0m\u001b[0mmean\u001b[0m\u001b[0;34m(\u001b[0m\u001b[0;34m)\u001b[0m\u001b[0;34m\u001b[0m\u001b[0;34m\u001b[0m\u001b[0m\n\u001b[1;32m   3007\u001b[0m     \u001b[0mxm\u001b[0m\u001b[0;34m,\u001b[0m \u001b[0mym\u001b[0m \u001b[0;34m=\u001b[0m \u001b[0mx\u001b[0m \u001b[0;34m-\u001b[0m \u001b[0mmx\u001b[0m\u001b[0;34m,\u001b[0m \u001b[0my\u001b[0m \u001b[0;34m-\u001b[0m \u001b[0mmy\u001b[0m\u001b[0;34m\u001b[0m\u001b[0;34m\u001b[0m\u001b[0m\n\u001b[0;32m-> 3008\u001b[0;31m     \u001b[0mr_num\u001b[0m \u001b[0;34m=\u001b[0m \u001b[0mnp\u001b[0m\u001b[0;34m.\u001b[0m\u001b[0madd\u001b[0m\u001b[0;34m.\u001b[0m\u001b[0mreduce\u001b[0m\u001b[0;34m(\u001b[0m\u001b[0mxm\u001b[0m \u001b[0;34m*\u001b[0m \u001b[0mym\u001b[0m\u001b[0;34m)\u001b[0m\u001b[0;34m\u001b[0m\u001b[0;34m\u001b[0m\u001b[0m\n\u001b[0m\u001b[1;32m   3009\u001b[0m     \u001b[0mr_den\u001b[0m \u001b[0;34m=\u001b[0m \u001b[0mnp\u001b[0m\u001b[0;34m.\u001b[0m\u001b[0msqrt\u001b[0m\u001b[0;34m(\u001b[0m\u001b[0m_sum_of_squares\u001b[0m\u001b[0;34m(\u001b[0m\u001b[0mxm\u001b[0m\u001b[0;34m)\u001b[0m \u001b[0;34m*\u001b[0m \u001b[0m_sum_of_squares\u001b[0m\u001b[0;34m(\u001b[0m\u001b[0mym\u001b[0m\u001b[0;34m)\u001b[0m\u001b[0;34m)\u001b[0m\u001b[0;34m\u001b[0m\u001b[0;34m\u001b[0m\u001b[0m\n\u001b[1;32m   3010\u001b[0m     \u001b[0mr\u001b[0m \u001b[0;34m=\u001b[0m \u001b[0mr_num\u001b[0m \u001b[0;34m/\u001b[0m \u001b[0mr_den\u001b[0m\u001b[0;34m\u001b[0m\u001b[0;34m\u001b[0m\u001b[0m\n",
      "\u001b[0;31mValueError\u001b[0m: operands could not be broadcast together with shapes (0,) (14,) "
     ]
    }
   ],
   "source": [
    "print('ALL:', pearsonr(delta_behavs, delta_phys[OLD_INDS]))\n",
    "plt.scatter(delta_behavs, delta_phys[OLD_INDS])"
   ]
  },
  {
   "cell_type": "code",
   "execution_count": 53,
   "metadata": {},
   "outputs": [
    {
     "ename": "ValueError",
     "evalue": "operands could not be broadcast together with shapes (0,) (17,) ",
     "output_type": "error",
     "traceback": [
      "\u001b[0;31m---------------------------------------------------------------------------\u001b[0m",
      "\u001b[0;31mValueError\u001b[0m                                Traceback (most recent call last)",
      "\u001b[0;32m<ipython-input-53-bb18b80e049c>\u001b[0m in \u001b[0;36m<module>\u001b[0;34m\u001b[0m\n\u001b[0;32m----> 1\u001b[0;31m \u001b[0mprint\u001b[0m\u001b[0;34m(\u001b[0m\u001b[0;34m'ALL:'\u001b[0m\u001b[0;34m,\u001b[0m \u001b[0mpearsonr\u001b[0m\u001b[0;34m(\u001b[0m\u001b[0mdelta_behavs\u001b[0m\u001b[0;34m,\u001b[0m \u001b[0mdelta_phys\u001b[0m\u001b[0;34m[\u001b[0m\u001b[0mYNG_INDS\u001b[0m\u001b[0;34m]\u001b[0m\u001b[0;34m)\u001b[0m\u001b[0;34m)\u001b[0m\u001b[0;34m\u001b[0m\u001b[0;34m\u001b[0m\u001b[0m\n\u001b[0m\u001b[1;32m      2\u001b[0m \u001b[0mplt\u001b[0m\u001b[0;34m.\u001b[0m\u001b[0mscatter\u001b[0m\u001b[0;34m(\u001b[0m\u001b[0mdelta_behavs\u001b[0m\u001b[0;34m,\u001b[0m \u001b[0mdelta_phys\u001b[0m\u001b[0;34m[\u001b[0m\u001b[0mYNG_INDS\u001b[0m\u001b[0;34m]\u001b[0m\u001b[0;34m)\u001b[0m\u001b[0;34m\u001b[0m\u001b[0;34m\u001b[0m\u001b[0m\n",
      "\u001b[0;32m/anaconda3/lib/python3.7/site-packages/scipy/stats/stats.py\u001b[0m in \u001b[0;36mpearsonr\u001b[0;34m(x, y)\u001b[0m\n\u001b[1;32m   3006\u001b[0m     \u001b[0mmy\u001b[0m \u001b[0;34m=\u001b[0m \u001b[0my\u001b[0m\u001b[0;34m.\u001b[0m\u001b[0mmean\u001b[0m\u001b[0;34m(\u001b[0m\u001b[0;34m)\u001b[0m\u001b[0;34m\u001b[0m\u001b[0;34m\u001b[0m\u001b[0m\n\u001b[1;32m   3007\u001b[0m     \u001b[0mxm\u001b[0m\u001b[0;34m,\u001b[0m \u001b[0mym\u001b[0m \u001b[0;34m=\u001b[0m \u001b[0mx\u001b[0m \u001b[0;34m-\u001b[0m \u001b[0mmx\u001b[0m\u001b[0;34m,\u001b[0m \u001b[0my\u001b[0m \u001b[0;34m-\u001b[0m \u001b[0mmy\u001b[0m\u001b[0;34m\u001b[0m\u001b[0;34m\u001b[0m\u001b[0m\n\u001b[0;32m-> 3008\u001b[0;31m     \u001b[0mr_num\u001b[0m \u001b[0;34m=\u001b[0m \u001b[0mnp\u001b[0m\u001b[0;34m.\u001b[0m\u001b[0madd\u001b[0m\u001b[0;34m.\u001b[0m\u001b[0mreduce\u001b[0m\u001b[0;34m(\u001b[0m\u001b[0mxm\u001b[0m \u001b[0;34m*\u001b[0m \u001b[0mym\u001b[0m\u001b[0;34m)\u001b[0m\u001b[0;34m\u001b[0m\u001b[0;34m\u001b[0m\u001b[0m\n\u001b[0m\u001b[1;32m   3009\u001b[0m     \u001b[0mr_den\u001b[0m \u001b[0;34m=\u001b[0m \u001b[0mnp\u001b[0m\u001b[0;34m.\u001b[0m\u001b[0msqrt\u001b[0m\u001b[0;34m(\u001b[0m\u001b[0m_sum_of_squares\u001b[0m\u001b[0;34m(\u001b[0m\u001b[0mxm\u001b[0m\u001b[0;34m)\u001b[0m \u001b[0;34m*\u001b[0m \u001b[0m_sum_of_squares\u001b[0m\u001b[0;34m(\u001b[0m\u001b[0mym\u001b[0m\u001b[0;34m)\u001b[0m\u001b[0;34m)\u001b[0m\u001b[0;34m\u001b[0m\u001b[0;34m\u001b[0m\u001b[0m\n\u001b[1;32m   3010\u001b[0m     \u001b[0mr\u001b[0m \u001b[0;34m=\u001b[0m \u001b[0mr_num\u001b[0m \u001b[0;34m/\u001b[0m \u001b[0mr_den\u001b[0m\u001b[0;34m\u001b[0m\u001b[0;34m\u001b[0m\u001b[0m\n",
      "\u001b[0;31mValueError\u001b[0m: operands could not be broadcast together with shapes (0,) (17,) "
     ]
    }
   ],
   "source": [
    "print('ALL:', pearsonr(delta_behavs, delta_phys[YNG_INDS]))\n",
    "plt.scatter(delta_behavs, delta_phys[YNG_INDS])"
   ]
  },
  {
   "cell_type": "code",
   "execution_count": 54,
   "metadata": {},
   "outputs": [
    {
     "ename": "IndexError",
     "evalue": "index 0 is out of bounds for axis 1 with size 0",
     "output_type": "error",
     "traceback": [
      "\u001b[0;31m---------------------------------------------------------------------------\u001b[0m",
      "\u001b[0;31mIndexError\u001b[0m                                Traceback (most recent call last)",
      "\u001b[0;32m<ipython-input-54-094cfd44c438>\u001b[0m in \u001b[0;36m<module>\u001b[0;34m\u001b[0m\n\u001b[0;32m----> 1\u001b[0;31m \u001b[0mplt\u001b[0m\u001b[0;34m.\u001b[0m\u001b[0mscatter\u001b[0m\u001b[0;34m(\u001b[0m\u001b[0mdelta_behavs\u001b[0m\u001b[0;34m[\u001b[0m\u001b[0mOLD_INDS\u001b[0m\u001b[0;34m]\u001b[0m\u001b[0;34m,\u001b[0m \u001b[0mdelta_phys\u001b[0m\u001b[0;34m[\u001b[0m\u001b[0mOLD_INDS\u001b[0m\u001b[0;34m]\u001b[0m\u001b[0;34m,\u001b[0m \u001b[0mlabel\u001b[0m\u001b[0;34m=\u001b[0m\u001b[0;34m'OLD'\u001b[0m\u001b[0;34m)\u001b[0m\u001b[0;34m\u001b[0m\u001b[0;34m\u001b[0m\u001b[0m\n\u001b[0m\u001b[1;32m      2\u001b[0m \u001b[0mprint\u001b[0m\u001b[0;34m(\u001b[0m\u001b[0;34m'OLD:'\u001b[0m\u001b[0;34m,\u001b[0m \u001b[0mpearsonr\u001b[0m\u001b[0;34m(\u001b[0m\u001b[0mdelta_behavs\u001b[0m\u001b[0;34m[\u001b[0m\u001b[0mOLD_INDS\u001b[0m\u001b[0;34m]\u001b[0m\u001b[0;34m,\u001b[0m \u001b[0mdelta_phys\u001b[0m\u001b[0;34m[\u001b[0m\u001b[0mOLD_INDS\u001b[0m\u001b[0;34m]\u001b[0m\u001b[0;34m)\u001b[0m\u001b[0;34m)\u001b[0m\u001b[0;34m\u001b[0m\u001b[0;34m\u001b[0m\u001b[0m\n\u001b[1;32m      3\u001b[0m \u001b[0mplt\u001b[0m\u001b[0;34m.\u001b[0m\u001b[0mscatter\u001b[0m\u001b[0;34m(\u001b[0m\u001b[0mdelta_behavs\u001b[0m\u001b[0;34m[\u001b[0m\u001b[0mYNG_INDS\u001b[0m\u001b[0;34m]\u001b[0m\u001b[0;34m,\u001b[0m \u001b[0mdelta_phys\u001b[0m\u001b[0;34m[\u001b[0m\u001b[0mYNG_INDS\u001b[0m\u001b[0;34m]\u001b[0m\u001b[0;34m,\u001b[0m \u001b[0mlabel\u001b[0m\u001b[0;34m=\u001b[0m\u001b[0;34m'YNG'\u001b[0m\u001b[0;34m)\u001b[0m\u001b[0;34m\u001b[0m\u001b[0;34m\u001b[0m\u001b[0m\n\u001b[1;32m      4\u001b[0m \u001b[0mprint\u001b[0m\u001b[0;34m(\u001b[0m\u001b[0;34m'YNG:'\u001b[0m\u001b[0;34m,\u001b[0m \u001b[0mpearsonr\u001b[0m\u001b[0;34m(\u001b[0m\u001b[0mdelta_behavs\u001b[0m\u001b[0;34m[\u001b[0m\u001b[0mYNG_INDS\u001b[0m\u001b[0;34m]\u001b[0m\u001b[0;34m,\u001b[0m \u001b[0mdelta_phys\u001b[0m\u001b[0;34m[\u001b[0m\u001b[0mYNG_INDS\u001b[0m\u001b[0;34m]\u001b[0m\u001b[0;34m)\u001b[0m\u001b[0;34m)\u001b[0m\u001b[0;34m\u001b[0m\u001b[0;34m\u001b[0m\u001b[0m\n\u001b[1;32m      5\u001b[0m \u001b[0mplt\u001b[0m\u001b[0;34m.\u001b[0m\u001b[0mlegend\u001b[0m\u001b[0;34m(\u001b[0m\u001b[0;34m)\u001b[0m\u001b[0;34m\u001b[0m\u001b[0;34m\u001b[0m\u001b[0m\n",
      "\u001b[0;31mIndexError\u001b[0m: index 0 is out of bounds for axis 1 with size 0"
     ]
    }
   ],
   "source": [
    "plt.scatter(delta_behavs[OLD_INDS], delta_phys[OLD_INDS], label='OLD')\n",
    "print('OLD:', pearsonr(delta_behavs[OLD_INDS], delta_phys[OLD_INDS]))\n",
    "plt.scatter(delta_behavs[YNG_INDS], delta_phys[YNG_INDS], label='YNG')\n",
    "print('YNG:', pearsonr(delta_behavs[YNG_INDS], delta_phys[YNG_INDS]))\n",
    "plt.legend()\n",
    "plt.xlabel('Delta Behav');\n",
    "plt.ylabel('Delta Physiology');"
   ]
  },
  {
   "cell_type": "code",
   "execution_count": null,
   "metadata": {},
   "outputs": [],
   "source": []
  },
  {
   "cell_type": "code",
   "execution_count": 55,
   "metadata": {},
   "outputs": [],
   "source": [
    "#cur_dat = canalpha\n",
    "#cur_dat = all_exps\n",
    "cur_dat = all_alphas\n",
    "\n",
    "# Get phys-responsiveness, as late minus pre\n",
    "temp = cur_dat[:, :, 2] - cur_dat[:, :, 1]\n",
    "# Or - just take late\n",
    "#temp = cur_dat[:, :, 2]\n",
    "\n",
    "# Replace any nans as zeros\n",
    "temp[np.isnan(temp)] = 0\n",
    "\n",
    "# Get delta physiology as high load minus low load\n",
    "delta_phys = temp[2, :] - temp[0, :]"
   ]
  },
  {
   "cell_type": "code",
   "execution_count": null,
   "metadata": {},
   "outputs": [],
   "source": []
  },
  {
   "cell_type": "code",
   "execution_count": 56,
   "metadata": {},
   "outputs": [
    {
     "ename": "ValueError",
     "evalue": "operands could not be broadcast together with shapes (0,) (31,) ",
     "output_type": "error",
     "traceback": [
      "\u001b[0;31m---------------------------------------------------------------------------\u001b[0m",
      "\u001b[0;31mValueError\u001b[0m                                Traceback (most recent call last)",
      "\u001b[0;32m<ipython-input-56-4a7ac769e5ce>\u001b[0m in \u001b[0;36m<module>\u001b[0;34m\u001b[0m\n\u001b[0;32m----> 1\u001b[0;31m \u001b[0mprint\u001b[0m\u001b[0;34m(\u001b[0m\u001b[0;34m'ALL:'\u001b[0m\u001b[0;34m,\u001b[0m \u001b[0mpearsonr\u001b[0m\u001b[0;34m(\u001b[0m\u001b[0mdelta_behavs\u001b[0m\u001b[0;34m,\u001b[0m \u001b[0mdelta_phys\u001b[0m\u001b[0;34m)\u001b[0m\u001b[0;34m)\u001b[0m\u001b[0;34m\u001b[0m\u001b[0;34m\u001b[0m\u001b[0m\n\u001b[0m\u001b[1;32m      2\u001b[0m \u001b[0mprint\u001b[0m\u001b[0;34m(\u001b[0m\u001b[0;34m'OLD:'\u001b[0m\u001b[0;34m,\u001b[0m \u001b[0mpearsonr\u001b[0m\u001b[0;34m(\u001b[0m\u001b[0mdelta_behavs\u001b[0m\u001b[0;34m[\u001b[0m\u001b[0mOLD_INDS\u001b[0m\u001b[0;34m]\u001b[0m\u001b[0;34m,\u001b[0m \u001b[0mdelta_phys\u001b[0m\u001b[0;34m[\u001b[0m\u001b[0mOLD_INDS\u001b[0m\u001b[0;34m]\u001b[0m\u001b[0;34m)\u001b[0m\u001b[0;34m)\u001b[0m\u001b[0;34m\u001b[0m\u001b[0;34m\u001b[0m\u001b[0m\n\u001b[1;32m      3\u001b[0m \u001b[0mprint\u001b[0m\u001b[0;34m(\u001b[0m\u001b[0;34m'YNG:'\u001b[0m\u001b[0;34m,\u001b[0m \u001b[0mpearsonr\u001b[0m\u001b[0;34m(\u001b[0m\u001b[0mdelta_behavs\u001b[0m\u001b[0;34m[\u001b[0m\u001b[0mYNG_INDS\u001b[0m\u001b[0;34m]\u001b[0m\u001b[0;34m,\u001b[0m \u001b[0mdelta_phys\u001b[0m\u001b[0;34m[\u001b[0m\u001b[0mYNG_INDS\u001b[0m\u001b[0;34m]\u001b[0m\u001b[0;34m)\u001b[0m\u001b[0;34m)\u001b[0m\u001b[0;34m\u001b[0m\u001b[0;34m\u001b[0m\u001b[0m\n\u001b[1;32m      4\u001b[0m \u001b[0;34m\u001b[0m\u001b[0m\n\u001b[1;32m      5\u001b[0m \u001b[0mplt\u001b[0m\u001b[0;34m.\u001b[0m\u001b[0mscatter\u001b[0m\u001b[0;34m(\u001b[0m\u001b[0mdelta_behavs\u001b[0m\u001b[0;34m[\u001b[0m\u001b[0mOLD_INDS\u001b[0m\u001b[0;34m]\u001b[0m\u001b[0;34m,\u001b[0m \u001b[0mdelta_phys\u001b[0m\u001b[0;34m[\u001b[0m\u001b[0mOLD_INDS\u001b[0m\u001b[0;34m]\u001b[0m\u001b[0;34m,\u001b[0m \u001b[0mlabel\u001b[0m\u001b[0;34m=\u001b[0m\u001b[0;34m'OLD'\u001b[0m\u001b[0;34m)\u001b[0m\u001b[0;34m\u001b[0m\u001b[0;34m\u001b[0m\u001b[0m\n",
      "\u001b[0;32m/anaconda3/lib/python3.7/site-packages/scipy/stats/stats.py\u001b[0m in \u001b[0;36mpearsonr\u001b[0;34m(x, y)\u001b[0m\n\u001b[1;32m   3006\u001b[0m     \u001b[0mmy\u001b[0m \u001b[0;34m=\u001b[0m \u001b[0my\u001b[0m\u001b[0;34m.\u001b[0m\u001b[0mmean\u001b[0m\u001b[0;34m(\u001b[0m\u001b[0;34m)\u001b[0m\u001b[0;34m\u001b[0m\u001b[0;34m\u001b[0m\u001b[0m\n\u001b[1;32m   3007\u001b[0m     \u001b[0mxm\u001b[0m\u001b[0;34m,\u001b[0m \u001b[0mym\u001b[0m \u001b[0;34m=\u001b[0m \u001b[0mx\u001b[0m \u001b[0;34m-\u001b[0m \u001b[0mmx\u001b[0m\u001b[0;34m,\u001b[0m \u001b[0my\u001b[0m \u001b[0;34m-\u001b[0m \u001b[0mmy\u001b[0m\u001b[0;34m\u001b[0m\u001b[0;34m\u001b[0m\u001b[0m\n\u001b[0;32m-> 3008\u001b[0;31m     \u001b[0mr_num\u001b[0m \u001b[0;34m=\u001b[0m \u001b[0mnp\u001b[0m\u001b[0;34m.\u001b[0m\u001b[0madd\u001b[0m\u001b[0;34m.\u001b[0m\u001b[0mreduce\u001b[0m\u001b[0;34m(\u001b[0m\u001b[0mxm\u001b[0m \u001b[0;34m*\u001b[0m \u001b[0mym\u001b[0m\u001b[0;34m)\u001b[0m\u001b[0;34m\u001b[0m\u001b[0;34m\u001b[0m\u001b[0m\n\u001b[0m\u001b[1;32m   3009\u001b[0m     \u001b[0mr_den\u001b[0m \u001b[0;34m=\u001b[0m \u001b[0mnp\u001b[0m\u001b[0;34m.\u001b[0m\u001b[0msqrt\u001b[0m\u001b[0;34m(\u001b[0m\u001b[0m_sum_of_squares\u001b[0m\u001b[0;34m(\u001b[0m\u001b[0mxm\u001b[0m\u001b[0;34m)\u001b[0m \u001b[0;34m*\u001b[0m \u001b[0m_sum_of_squares\u001b[0m\u001b[0;34m(\u001b[0m\u001b[0mym\u001b[0m\u001b[0;34m)\u001b[0m\u001b[0;34m)\u001b[0m\u001b[0;34m\u001b[0m\u001b[0;34m\u001b[0m\u001b[0m\n\u001b[1;32m   3010\u001b[0m     \u001b[0mr\u001b[0m \u001b[0;34m=\u001b[0m \u001b[0mr_num\u001b[0m \u001b[0;34m/\u001b[0m \u001b[0mr_den\u001b[0m\u001b[0;34m\u001b[0m\u001b[0;34m\u001b[0m\u001b[0m\n",
      "\u001b[0;31mValueError\u001b[0m: operands could not be broadcast together with shapes (0,) (31,) "
     ]
    }
   ],
   "source": [
    "print('ALL:', pearsonr(delta_behavs, delta_phys))\n",
    "print('OLD:', pearsonr(delta_behavs[OLD_INDS], delta_phys[OLD_INDS]))\n",
    "print('YNG:', pearsonr(delta_behavs[YNG_INDS], delta_phys[YNG_INDS]))\n",
    "\n",
    "plt.scatter(delta_behavs[OLD_INDS], delta_phys[OLD_INDS], label='OLD')\n",
    "plt.scatter(delta_behavs[YNG_INDS], delta_phys[YNG_INDS], label='YNG')\n",
    "\n",
    "#plt.ylim([-0.0000005, 0.0000005])\n",
    "\n",
    "plt.legend()\n",
    "plt.xlabel('Delta Behav');\n",
    "plt.ylabel('Delta Physiology');"
   ]
  },
  {
   "cell_type": "code",
   "execution_count": null,
   "metadata": {},
   "outputs": [],
   "source": []
  },
  {
   "cell_type": "code",
   "execution_count": 57,
   "metadata": {},
   "outputs": [],
   "source": [
    "#\n",
    "sl_st_yng = np.vstack([all_exps[0, YNG_INDS, :], all_exps[1, YNG_INDS, :], all_exps[2, YNG_INDS, :]])\n",
    "sl_st_old = np.vstack([all_exps[0, OLD_INDS, :], all_exps[1, OLD_INDS, :], all_exps[2, OLD_INDS, :]])\n",
    "\n",
    "#\n",
    "al_st_yng = np.vstack([all_alphas[0, YNG_INDS, :], all_alphas[1, YNG_INDS, :], all_alphas[2, YNG_INDS, :]])\n",
    "al_st_old = np.vstack([all_alphas[0, OLD_INDS, :], all_alphas[1, OLD_INDS, :], all_alphas[2, OLD_INDS, :]])\n",
    "\n",
    "#\n",
    "canal_st_yng = np.vstack([canalpha[0, YNG_INDS, :], canalpha[1, YNG_INDS, :], canalpha[2, YNG_INDS, :]])\n",
    "canal_st_old = np.vstack([canalpha[0, OLD_INDS, :], canalpha[1, OLD_INDS, :], canalpha[2, OLD_INDS, :]])"
   ]
  },
  {
   "cell_type": "code",
   "execution_count": null,
   "metadata": {},
   "outputs": [],
   "source": []
  },
  {
   "cell_type": "code",
   "execution_count": 58,
   "metadata": {},
   "outputs": [
    {
     "name": "stdout",
     "output_type": "stream",
     "text": [
      "0 \t 0\n",
      "1 \t 5\n",
      "2 \t 0\n",
      "3 \t 1\n",
      "4 \t 0\n",
      "5 \t 0\n",
      "6 \t 0\n",
      "7 \t 0\n",
      "8 \t 3\n",
      "9 \t 0\n",
      "10 \t 0\n",
      "11 \t 0\n",
      "12 \t 0\n",
      "13 \t 0\n",
      "14 \t 0\n",
      "15 \t 0\n",
      "16 \t 0\n",
      "17 \t 0\n",
      "18 \t 0\n",
      "19 \t 0\n",
      "20 \t 0\n",
      "21 \t 0\n",
      "22 \t 0\n",
      "23 \t 0\n",
      "24 \t 0\n",
      "25 \t 0\n",
      "26 \t 0\n",
      "27 \t 0\n",
      "28 \t 0\n",
      "29 \t 1\n",
      "30 \t 0\n"
     ]
    }
   ],
   "source": [
    "for si, dd in zip(range(31), sum(np.isnan(all_alphas), 0).sum(1)):\n",
    "    print(si, '\\t', dd)"
   ]
  },
  {
   "cell_type": "code",
   "execution_count": null,
   "metadata": {},
   "outputs": [],
   "source": []
  }
 ],
 "metadata": {
  "kernelspec": {
   "display_name": "Python 3",
   "language": "python",
   "name": "python3"
  },
  "language_info": {
   "codemirror_mode": {
    "name": "ipython",
    "version": 3
   },
   "file_extension": ".py",
   "mimetype": "text/x-python",
   "name": "python",
   "nbconvert_exporter": "python",
   "pygments_lexer": "ipython3",
   "version": "3.7.1"
  }
 },
 "nbformat": 4,
 "nbformat_minor": 2
}
