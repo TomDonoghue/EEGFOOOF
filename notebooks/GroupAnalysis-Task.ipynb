{
 "cells": [
  {
   "cell_type": "markdown",
   "metadata": {},
   "source": [
    "# Group Analysis - FOOOFed EEG Analysis: Task\n",
    "    \n",
    "Applying FOOOF to task based EEG data, and comparing between YNG and OLD groups."
   ]
  },
  {
   "cell_type": "markdown",
   "metadata": {},
   "source": [
    "Notes:\n",
    "- average power spectra vs. average FOOOFs\n",
    "    - there are 10 segments that don't return a value in the single channel version\n",
    "        - segments, with all-channel or canonical, have systematically different (lower) alpha power\n",
    "\n",
    "From the 'ALL' group: \n",
    "- best performance (for both canonical & FOOOF) is from dropping those segments\n",
    "- when doing single channel FOOOF, there is a benefit of other alpha features (CF & BW) \n",
    "\n",
    "Status:\n",
    "- FOOOF fits can help select data to analyze\n",
    "- Gives more features to use to predict behaviour, and can outperform canonical when these features are combined"
   ]
  },
  {
   "cell_type": "code",
   "execution_count": 1,
   "metadata": {},
   "outputs": [],
   "source": [
    "%matplotlib inline\n",
    "%config InlineBackend.figure_format='retina'"
   ]
  },
  {
   "cell_type": "code",
   "execution_count": 2,
   "metadata": {},
   "outputs": [],
   "source": [
    "import warnings\n",
    "from copy import deepcopy\n",
    "from os.path import join as pjoin\n",
    "\n",
    "import numpy as np\n",
    "import pandas as pd\n",
    "import matplotlib.pyplot as plt\n",
    "from scipy.stats import pearsonr, spearmanr, ttest_1samp, normaltest\n",
    "\n",
    "import patsy\n",
    "import statsmodels.api as sm\n",
    "from statsmodels.stats.anova import anova_lm\n",
    "from statsmodels.stats.diagnostic import compare_cox, compare_j\n",
    "\n",
    "from fooof.sim.gen import gen_aperiodic, gen_power_spectrum\n",
    "from fooof.plts import plot_spectra"
   ]
  },
  {
   "cell_type": "code",
   "execution_count": 3,
   "metadata": {},
   "outputs": [],
   "source": [
    "# Import custom code for this analysis\n",
    "import sys\n",
    "sys.path.append('../code')\n",
    "\n",
    "from plts import *\n",
    "from utils import *\n",
    "from data_mgmt import *\n",
    "from analysis import *"
   ]
  },
  {
   "cell_type": "markdown",
   "metadata": {},
   "source": [
    "# Settings"
   ]
  },
  {
   "cell_type": "code",
   "execution_count": 4,
   "metadata": {},
   "outputs": [],
   "source": [
    "# Import general settings\n",
    "from settings import YNG_INDS, OLD_INDS\n",
    "from settings import RESULTS_PATH"
   ]
  },
  {
   "cell_type": "code",
   "execution_count": 5,
   "metadata": {},
   "outputs": [
    {
     "name": "stdout",
     "output_type": "stream",
     "text": [
      "Number of YNG subjects:  17\n",
      "Number of OLD subjects:  14\n"
     ]
    }
   ],
   "source": [
    "# Set which group of FOOOF results to load\n",
    "#folder = 'FOOOF-SinCh'        # FOOOF fit on an average across power spectra \n",
    "#folder = 'FOOOF-AllCh'         # Average across FOOOF fits, from each channel\n",
    "folder = 'FOOOF'\n",
    "\n",
    "# Model settings - which group to run\n",
    "group = 'ALL' # 'ALL', 'YNG', 'OLD'\n",
    "\n",
    "print('Number of YNG subjects: ', len(YNG_INDS))\n",
    "print('Number of OLD subjects: ', len(OLD_INDS))"
   ]
  },
  {
   "cell_type": "code",
   "execution_count": 6,
   "metadata": {},
   "outputs": [],
   "source": [
    "# Data settings\n",
    "srate = 512\n",
    "tmin, tmax = -0.85, 1.1\n",
    "times = np.arange(tmin, tmax, 1/srate)\n",
    "seg_times = [(-0.85, -0.35), (0.1, 0.6), (0.5, 1.0)]\n",
    "n_subjs = 31\n",
    "dict_structure = {'YNG' : {}, 'OLD' : {}, 'ALL' : {}}\n",
    "\n",
    "# Set the time segments indices to compute the difference measures with\n",
    "i1, i2 = 2, 0"
   ]
  },
  {
   "cell_type": "code",
   "execution_count": 7,
   "metadata": {},
   "outputs": [],
   "source": [
    "# Wether to save out plots or not\n",
    "SAVE_FIG = False"
   ]
  },
  {
   "cell_type": "markdown",
   "metadata": {
    "collapsed": true
   },
   "source": [
    "### Check dropped trials"
   ]
  },
  {
   "cell_type": "code",
   "execution_count": 8,
   "metadata": {
    "scrolled": true
   },
   "outputs": [
    {
     "name": "stdout",
     "output_type": "stream",
     "text": [
      "SubNum \t\t # Dropped Trials \t # Dropped Components\n"
     ]
    }
   ],
   "source": [
    "# Load dropped trials & components\n",
    "dropped_trials = np.load(pjoin(RESULTS_PATH, 'Group', 'dropped_trials.npy'))\n",
    "dropped_components = np.load(pjoin(RESULTS_PATH, 'Group', 'dropped_components.npy'))\n",
    "\n",
    "# Check dropped trials for each subject\n",
    "print('SubNum \\t\\t # Dropped Trials \\t # Dropped Components')\n",
    "for ind, trials, components in zip(range(n_subjs), dropped_trials, dropped_components):\n",
    "    temp_trials = trials[trials < 999.]\n",
    "    temp_comps = components[components < 999.]\n",
    "#    print(ind, '\\t\\t', len(temp_trials), '\\t\\t\\t', len(temp_comps))"
   ]
  },
  {
   "cell_type": "markdown",
   "metadata": {},
   "source": [
    "## Group FOOOFing - Trial Averaged Data\n",
    "\n",
    "Notes:\n",
    "- 3D data objects have the shape `[n_loads, n_subjs, n_times]`"
   ]
  },
  {
   "cell_type": "markdown",
   "metadata": {},
   "source": [
    "### Load Data"
   ]
  },
  {
   "cell_type": "code",
   "execution_count": 9,
   "metadata": {},
   "outputs": [],
   "source": [
    "# Load behavioural data\n",
    "behav_dat = pd.read_csv(pjoin(RESULTS_PATH, 'Behav', 'neural_aging_data_behaviour.csv'))"
   ]
  },
  {
   "cell_type": "code",
   "execution_count": 10,
   "metadata": {},
   "outputs": [],
   "source": [
    "# Convert data types\n",
    "behav_dat['Age'] = behav_dat['Age'].astype('str')\n",
    "behav_dat['Load'] = behav_dat['Load'].astype('str')"
   ]
  },
  {
   "cell_type": "code",
   "execution_count": 11,
   "metadata": {},
   "outputs": [],
   "source": [
    "# Calculate average behaviour across loads\n",
    "avg_behav = behav_dat.groupby('SubjID').mean()"
   ]
  },
  {
   "cell_type": "code",
   "execution_count": 12,
   "metadata": {},
   "outputs": [],
   "source": [
    "# Load and extract FOOOF data\n",
    "load_side = 'Contra'\n",
    "all_offsets, all_exps = load_fooof_task_ap(RESULTS_PATH, load_side, folder)\n",
    "all_alphas_cf = load_fooof_task_pe(RESULTS_PATH, load_side, 0, folder)\n",
    "all_alphas_pw = load_fooof_task_pe(RESULTS_PATH, load_side, 1, folder)\n",
    "all_alphas_bw = load_fooof_task_pe(RESULTS_PATH, load_side, 2, folder)\n",
    "all_r2s, all_errs = load_fooof_task_md(RESULTS_PATH, load_side, folder)"
   ]
  },
  {
   "cell_type": "code",
   "execution_count": 13,
   "metadata": {},
   "outputs": [],
   "source": [
    "# Load canonical alpha analysis\n",
    "canalph_group = np.load(pjoin(RESULTS_PATH, 'Group', 'canonical_group.npy'))\n",
    "\n",
    "# Load individualized frequency canonical alpha analysis\n",
    "canalph_icf_group = np.load(pjoin(RESULTS_PATH, 'Group', 'canonical_icf_group.npy'))"
   ]
  },
  {
   "cell_type": "code",
   "execution_count": 14,
   "metadata": {},
   "outputs": [],
   "source": [
    "# Average across analytic alpha measures to get canonical alpha measure\n",
    "seg_masks = []\n",
    "for seg in seg_times:\n",
    "    seg_masks.append(np.logical_and(times >= seg[0], times <= seg[1]))\n",
    "\n",
    "canalpha = np.zeros_like(all_alphas_pw)\n",
    "canal_icf = np.zeros_like(all_alphas_pw)\n",
    "for subi, (canalph_dat, canalph_icf_dat) in enumerate(zip(canalph_group, canalph_icf_group)):\n",
    "    for lodi in range(3):\n",
    "        for segi, mask in enumerate(seg_masks):\n",
    "            canalpha[lodi, subi, segi] = np.mean(canalph_dat[lodi, mask])\n",
    "            canal_icf[lodi, subi, segi] = np.mean(canalph_icf_dat[lodi, mask])"
   ]
  },
  {
   "cell_type": "markdown",
   "metadata": {},
   "source": [
    "#### Data Checks"
   ]
  },
  {
   "cell_type": "code",
   "execution_count": 15,
   "metadata": {},
   "outputs": [
    {
     "name": "stdout",
     "output_type": "stream",
     "text": [
      "Number of missing FOOOFed alphas: \t 0\n"
     ]
    }
   ],
   "source": [
    "# Check number of missing FOOOFed alphas\n",
    "print('Number of missing FOOOFed alphas: \\t', np.sum(np.isnan(all_alphas_pw)))"
   ]
  },
  {
   "cell_type": "code",
   "execution_count": 16,
   "metadata": {},
   "outputs": [
    {
     "name": "stdout",
     "output_type": "stream",
     "text": [
      "Total number of NaN values:\t\t 0\n"
     ]
    }
   ],
   "source": [
    "# Check if there are any NaN values\n",
    "nans = np.isnan(all_alphas_pw)\n",
    "print('Total number of NaN values:\\t\\t', np.sum(nans))"
   ]
  },
  {
   "cell_type": "markdown",
   "metadata": {},
   "source": [
    "## Data Management"
   ]
  },
  {
   "cell_type": "code",
   "execution_count": 17,
   "metadata": {},
   "outputs": [],
   "source": [
    "# Make a data dictionary - each with shape [n_conds, n_times]\n",
    "data_dict = deepcopy(dict_structure)\n",
    "diff_data_dict = deepcopy(dict_structure)\n",
    "behav_dict = deepcopy(dict_structure)"
   ]
  },
  {
   "cell_type": "code",
   "execution_count": 18,
   "metadata": {},
   "outputs": [],
   "source": [
    "# Collect the data and labels into lists for checking through\n",
    "labels = ['offset', 'exponent', 'alpha_cf', 'alpha_pw', 'alpha_bw', 'canalpha', 'canal_icf']\n",
    "datas = [all_offsets, all_exps, all_alphas_cf, all_alphas_pw, all_alphas_bw, canalpha, canal_icf]"
   ]
  },
  {
   "cell_type": "code",
   "execution_count": 19,
   "metadata": {},
   "outputs": [],
   "source": [
    "# Set up data & diff_data dicts\n",
    "for label, data in zip(labels, datas):\n",
    "    data_dict['YNG'][label], data_dict['OLD'][label] = reshape_dat(data)\n",
    "    data_dict['ALL'][label] = np.concatenate([data_dict['YNG'][label],\n",
    "                                              data_dict['OLD'][label]])\n",
    "    \n",
    "    diff_data_dict['YNG'][label] = calc_diff(data_dict['YNG'][label], i1, i2)\n",
    "    diff_data_dict['OLD'][label] = calc_diff(data_dict['OLD'][label], i1, i2)\n",
    "    diff_data_dict['ALL'][label] = np.concatenate([diff_data_dict['YNG'][label],\n",
    "                                                   diff_data_dict['OLD'][label]])"
   ]
  },
  {
   "cell_type": "code",
   "execution_count": 20,
   "metadata": {},
   "outputs": [],
   "source": [
    "# Set up the behavioural data dict\n",
    "for label in [\"d'\", \"Load\", 'CDA']:\n",
    "    behav_dict['ALL'][label] = behav_dat[label].values\n",
    "    behav_dict['YNG'][label] = behav_dat[behav_dat['Age'] == '1'][label].values\n",
    "    behav_dict['OLD'][label] = behav_dat[behav_dat['Age'] == '2'][label].values"
   ]
  },
  {
   "cell_type": "markdown",
   "metadata": {},
   "source": [
    "## Data Checking\n",
    "\n",
    "Check the FOOOF fit measures, checking whether there is a systematic difference between the groups that could explain the differences. "
   ]
  },
  {
   "cell_type": "code",
   "execution_count": 21,
   "metadata": {},
   "outputs": [
    {
     "name": "stdout",
     "output_type": "stream",
     "text": [
      "Error\n",
      "\tMeans: \t\t  0.0360 \t 0.0316 \t diff: 0.0043\n",
      "\tt-test: \t  3.0959 \t 0.0022\n",
      "R^2\n",
      "\tMeans: \t\t  0.9733 \t 0.9599 \t diff: 0.0134\n",
      "\tt-test: \t  4.5782 \t 0.0000\n"
     ]
    }
   ],
   "source": [
    "# Check if the fit metrics vary by group\n",
    "for label, data in zip(['Error', 'R^2'], [all_errs, all_r2s]):\n",
    "    print(label)\n",
    "    m1, m2 = np.nanmean(data[:, YNG_INDS, :]), np.nanmean(data[:, OLD_INDS, :])\n",
    "    print('\\tMeans: \\t\\t  {:1.4f} \\t {:1.4f} \\t diff: {:1.4f}'.format(m1, m2, np.abs(m1-m2)))\n",
    "    print_stat('\\tt-test', *ttest_ind(data[:, YNG_INDS, :].flatten(),\n",
    "                                      data[:, OLD_INDS, :].flatten()))"
   ]
  },
  {
   "cell_type": "code",
   "execution_count": 22,
   "metadata": {},
   "outputs": [
    {
     "name": "stdout",
     "output_type": "stream",
     "text": [
      "Err-R^2 Corr: \t -0.3316 \t 0.0000\n"
     ]
    }
   ],
   "source": [
    "# Check the correlation between FOOOF fit error & R^2\n",
    "print_stat('Err-R^2 Corr', *spearmanr(all_errs.flatten(), all_r2s.flatten()))"
   ]
  },
  {
   "cell_type": "code",
   "execution_count": 23,
   "metadata": {},
   "outputs": [
    {
     "name": "stdout",
     "output_type": "stream",
     "text": [
      "\t\t  Error \t   R^2\n",
      "offset: \t  0.0828 \t 0.6035\n",
      "exponent: \t -0.1176 \t 0.6869\n",
      "alpha_cf: \t  0.1621 \t-0.0953\n",
      "alpha_pw: \t  0.7591 \t 0.1712\n",
      "alpha_bw: \t  0.2681 \t 0.2580\n",
      "canalpha: \t  0.2465 \t-0.0506\n",
      "canal_icf: \t  0.2475 \t-0.0955\n"
     ]
    }
   ],
   "source": [
    "# Check if the fit metrics correlate with measured FOOOF parameters\n",
    "print('\\t\\t  Error \\t   R^2')\n",
    "for label, data in zip(labels, datas):\n",
    "    print_stat(label,\n",
    "               spearmanr(all_errs.flatten(), data.flatten())[0],\n",
    "               spearmanr(all_r2s.flatten(), data.flatten())[0])"
   ]
  },
  {
   "cell_type": "markdown",
   "metadata": {},
   "source": [
    "## Descriptive Data Checks"
   ]
  },
  {
   "cell_type": "code",
   "execution_count": 24,
   "metadata": {},
   "outputs": [
    {
     "name": "stdout",
     "output_type": "stream",
     "text": [
      "Average Values per measure, per group: \n",
      "\n",
      "\t\t   YNG \t\t  OLD\n",
      "offset: \t -0.0571 \t-0.0508\n",
      "exponent: \t -0.0346 \t-0.0074\n",
      "alpha_cf: \t  0.0288 \t 0.3000\n",
      "alpha_pw: \t  0.0992 \t-0.0022\n",
      "alpha_bw: \t -0.0814 \t 0.0818\n",
      "canalpha: \t  0.0000 \t-0.0000\n",
      "canal_icf: \t  0.0000 \t-0.0000\n"
     ]
    }
   ],
   "source": [
    "# Print out mean values, per group\n",
    "print('Average Values per measure, per group: \\n')\n",
    "print('\\t\\t   YNG \\t\\t  OLD')\n",
    "for label in labels:\n",
    "    print_stat(label,\n",
    "               np.nanmean(diff_data_dict['YNG'][label]),\n",
    "               np.nanmean(diff_data_dict['OLD'][label]))"
   ]
  },
  {
   "cell_type": "code",
   "execution_count": 25,
   "metadata": {},
   "outputs": [
    {
     "name": "stdout",
     "output_type": "stream",
     "text": [
      "Standard deviation per measure, per group: \n",
      "\n",
      "\t\t   YNG \t\t  OLD\n",
      "offset: \t  0.1060 \t 0.1129\n",
      "exponent: \t  0.0972 \t 0.1240\n",
      "alpha_cf: \t  0.4646 \t 0.8481\n",
      "alpha_pw: \t  0.1310 \t 0.1132\n",
      "alpha_bw: \t  0.3475 \t 0.6170\n",
      "canalpha: \t  0.0000 \t 0.0000\n",
      "canal_icf: \t  0.0000 \t 0.0000\n"
     ]
    }
   ],
   "source": [
    "# Print out standard deviations, per group\n",
    "print('Standard deviation per measure, per group: \\n')\n",
    "print('\\t\\t   YNG \\t\\t  OLD')\n",
    "for label in labels:\n",
    "    print_stat(label,\n",
    "               np.nanstd(diff_data_dict['YNG'][label]),\n",
    "               np.nanstd(diff_data_dict['OLD'][label]))"
   ]
  },
  {
   "cell_type": "code",
   "execution_count": 26,
   "metadata": {},
   "outputs": [
    {
     "name": "stdout",
     "output_type": "stream",
     "text": [
      "Normal test per measure, per group: \n",
      "\n",
      "YNG\t\t   stat \t  p-val\n",
      "offset: \t  2.0162 \t 0.3649\n",
      "exponent: \t  0.6064 \t 0.7384\n",
      "alpha_cf: \t  0.7763 \t 0.6783\n",
      "alpha_pw: \t  30.5849 \t 0.0000\n",
      "alpha_bw: \t  1.2986 \t 0.5224\n",
      "canalpha: \t  30.7984 \t 0.0000\n",
      "canal_icf: \t  30.5457 \t 0.0000\n",
      "\n",
      "OLD\t\t   stat \t  p-val\n",
      "offset: \t  3.1296 \t 0.2091\n",
      "exponent: \t  3.1600 \t 0.2060\n",
      "alpha_cf: \t  7.5928 \t 0.0225\n",
      "alpha_pw: \t  2.2324 \t 0.3275\n",
      "alpha_bw: \t  14.4422 \t 0.0007\n",
      "canalpha: \t  5.7566 \t 0.0562\n",
      "canal_icf: \t  12.4550 \t 0.0020\n"
     ]
    }
   ],
   "source": [
    "# Check for normality, per measure, per group\n",
    "print('Normal test per measure, per group: \\n')\n",
    "print('YNG\\t\\t   stat \\t  p-val')\n",
    "for label in labels:\n",
    "    print_stat(label, *normaltest(diff_data_dict['YNG'][label]))\n",
    "print('\\nOLD\\t\\t   stat \\t  p-val')\n",
    "for label in labels:\n",
    "    print_stat(label, *normaltest(diff_data_dict['OLD'][label]))"
   ]
  },
  {
   "cell_type": "code",
   "execution_count": 27,
   "metadata": {},
   "outputs": [
    {
     "name": "stdout",
     "output_type": "stream",
     "text": [
      "T-Tests for Differences Between Groups (YNG vs OLD), per Metric: \n",
      "\n",
      "\t\t   t-val \t  p-val\n",
      "offset: \t -0.2738 \t 0.7849\n",
      "exponent: \t -1.1769 \t 0.2423\n",
      "alpha_cf: \t -1.9342 \t 0.0562\n",
      "alpha_pw: \t  3.9043 \t 0.0002\n",
      "alpha_bw: \t -1.5882 \t 0.1157\n",
      "canalpha: \t  2.8359 \t 0.0056\n",
      "canal_icf: \t  3.0555 \t 0.0029\n"
     ]
    }
   ],
   "source": [
    "# Print out tests for group differences\n",
    "print('T-Tests for Differences Between Groups (YNG vs OLD), per Metric: \\n')\n",
    "print('\\t\\t   t-val \\t  p-val')\n",
    "for label in labels:\n",
    "    print_stat(label, *nan_ttest(diff_data_dict['YNG'][label],\n",
    "                                 diff_data_dict['OLD'][label]))"
   ]
  },
  {
   "cell_type": "code",
   "execution_count": 28,
   "metadata": {},
   "outputs": [
    {
     "name": "stdout",
     "output_type": "stream",
     "text": [
      "Correlation (r-vals) of each metric with behaviour, per Group: \n",
      "\n",
      "\t\t   YNG \t\t  OLD\n",
      "offset: \t  0.1435 \t 0.0341\n",
      "exponent: \t  0.2729 \t-0.1506\n",
      "alpha_cf: \t  0.0938 \t-0.1061\n",
      "alpha_pw: \t -0.1167 \t 0.3955\n",
      "alpha_bw: \t -0.1312 \t 0.1600\n",
      "canalpha: \t -0.2216 \t 0.2717\n",
      "canal_icf: \t -0.2401 \t 0.3341\n"
     ]
    }
   ],
   "source": [
    "# Check correlations of physiology to behaviour, per group\n",
    "print('Correlation (r-vals) of each metric with behaviour, per Group: \\n')\n",
    "print('\\t\\t   YNG \\t\\t  OLD')\n",
    "for label in labels:\n",
    "    print_stat(label,\n",
    "    nan_corr(diff_data_dict['YNG'][label], behav_dict['YNG'][\"d'\"])[0],\n",
    "    nan_corr(diff_data_dict['OLD'][label], behav_dict['OLD'][\"d'\"])[0])"
   ]
  },
  {
   "cell_type": "markdown",
   "metadata": {},
   "source": [
    "## Fit Models to Predict Behaviour\n",
    "\n",
    "Predict behaviour output from evoked responses of alpha and aperiodic. "
   ]
  },
  {
   "cell_type": "code",
   "execution_count": 29,
   "metadata": {},
   "outputs": [],
   "source": [
    "# Set up model definitions\n",
    "models_defs = {\n",
    "    'base_model' : 'behav ~ load',\n",
    "    'cda_model' : 'behav ~ load + cda',\n",
    "    'canal_model' : 'behav ~ load + al_pw_dif',\n",
    "    'canicf_model' : 'behav ~ load + al_pw_dif',\n",
    "    'f_al_model' : 'behav ~ load  + al_pw_dif',\n",
    "    'f_al_p_model' : 'behav ~ load + al_cf_dif + al_pw_dif + al_bw_dif',\n",
    "    'f_ap_model' : 'behav ~ load + off_dif + exp_dif',\n",
    "    'f_ap_p_model' : 'behav ~ load + off_dif + exp_dif + al_pw_dif', \n",
    "}"
   ]
  },
  {
   "cell_type": "code",
   "execution_count": 30,
   "metadata": {},
   "outputs": [],
   "source": [
    "# Set up model data\n",
    "models_data = {\n",
    "    'base_model' : lambda group : {'behav' : behav_dict[group][\"d'\"],\n",
    "                                   'load' : behav_dict[group]['Load']},\n",
    "    \n",
    "    'cda_model' : lambda group : {'behav' : behav_dict[group][\"d'\"],\n",
    "                                  'load' : behav_dict[group]['Load'],\n",
    "                                  'cda' : behav_dict[group]['CDA']}, \n",
    "    \n",
    "    'canal_model' : lambda group : {'behav' : behav_dict[group][\"d'\"],\n",
    "                                    'load' : behav_dict[group]['Load'],\n",
    "                                    'al_pw_dif' : diff_data_dict[group]['canalpha']},\n",
    "    \n",
    "    'canicf_model' : lambda group : {'behav' : behav_dict[group][\"d'\"],\n",
    "                                        'load' : behav_dict[group]['Load'],\n",
    "                                        'al_pw_dif' : diff_data_dict[group]['canal_icf']},\n",
    "    \n",
    "    'f_al_model' : lambda group : {'behav' : behav_dict[group][\"d'\"],\n",
    "                                   'load' : behav_dict[group]['Load'],\n",
    "                                   'al_pw_dif' : diff_data_dict[group]['alpha_pw']},\n",
    "    \n",
    "    'f_al_p_model' : lambda group : {'behav' : behav_dict[group][\"d'\"],\n",
    "                                     'load' : behav_dict[group]['Load'],\n",
    "                                     'al_cf_dif' : diff_data_dict[group]['alpha_cf'],\n",
    "                                     'al_pw_dif' : diff_data_dict[group]['alpha_pw'],\n",
    "                                     'al_bw_dif' : diff_data_dict[group]['alpha_bw']},\n",
    "    \n",
    "    'f_ap_model' : lambda group :  {'behav' : behav_dict[group][\"d'\"],\n",
    "                                    'load' : behav_dict[group]['Load'],\n",
    "                                    'off_dif' : diff_data_dict[group]['offset'],\n",
    "                                    'exp_dif' : diff_data_dict[group]['exponent']},\n",
    "    \n",
    "    'f_ap_p_model' : lambda group :  {'behav' : behav_dict[group][\"d'\"],\n",
    "                                      'load' : behav_dict[group]['Load'],\n",
    "                                      'al_pw_dif' : diff_data_dict[group]['alpha_pw'],\n",
    "                                      'off_dif' : diff_data_dict[group]['offset'],\n",
    "                                      'exp_dif' : diff_data_dict[group]['exponent']},\n",
    "\n",
    "}"
   ]
  },
  {
   "cell_type": "code",
   "execution_count": 31,
   "metadata": {},
   "outputs": [],
   "source": [
    "# Fit models, across groups\n",
    "models_results = deepcopy(dict_structure)\n",
    "for group in models_results.keys():\n",
    "    for model_name, model_def in models_defs.items():\n",
    "        models_results[group][model_name] = run_model(model_def,\n",
    "                                                      models_data[model_name](group),\n",
    "                                                      print_model=False)"
   ]
  },
  {
   "cell_type": "code",
   "execution_count": 32,
   "metadata": {},
   "outputs": [
    {
     "name": "stdout",
     "output_type": "stream",
     "text": [
      "\t\t\t  R^2 Adj \t  p-val\n",
      "YNG\n",
      "\tbase_model: \t  0.0471 \t 0.1181\n",
      "\tcda_model: \t  0.0609 \t 0.1153\n",
      "\tcanal_model: \t  0.0837 \t 0.0692\n",
      "\tcanicf_model: \t  0.0945 \t 0.0538\n",
      "\tf_al_model: \t  0.0522 \t 0.1397\n",
      "\tf_al_p_model: \t  0.0585 \t 0.1737\n",
      "\tf_ap_model: \t  0.1904 \t 0.0078\n",
      "\tf_ap_p_model: \t  0.1744 \t 0.0170\n",
      "OLD\n",
      "\tbase_model: \t  0.1867 \t 0.0067\n",
      "\tcda_model: \t  0.2324 \t 0.0044\n",
      "\tcanal_model: \t  0.2341 \t 0.0042\n",
      "\tcanicf_model: \t  0.2653 \t 0.0020\n",
      "\tf_al_model: \t  0.3289 \t 0.0004\n",
      "\tf_al_p_model: \t  0.2977 \t 0.0028\n",
      "\tf_ap_model: \t  0.2854 \t 0.0023\n",
      "\tf_ap_p_model: \t  0.3562 \t 0.0007\n",
      "ALL\n",
      "\tbase_model: \t  0.1109 \t 0.0019\n",
      "\tcda_model: \t  0.1009 \t 0.0059\n",
      "\tcanal_model: \t  0.1063 \t 0.0046\n",
      "\tcanicf_model: \t  0.1063 \t 0.0046\n",
      "\tf_al_model: \t  0.1124 \t 0.0034\n",
      "\tf_al_p_model: \t  0.0951 \t 0.0170\n",
      "\tf_ap_model: \t  0.1161 \t 0.0048\n",
      "\tf_ap_p_model: \t  0.1106 \t 0.0091\n"
     ]
    }
   ],
   "source": [
    "# Check the model performances - per model def per group\n",
    "print('\\t\\t\\t  R^2 Adj \\t  p-val')\n",
    "for group_label, group_models in models_results.items():\n",
    "    print(group_label)\n",
    "    for model_label, model_results in group_models.items():\n",
    "        print_stat('\\t' + model_label,\n",
    "                   model_results.rsquared_adj,\n",
    "                   model_results.f_pvalue)"
   ]
  },
  {
   "cell_type": "code",
   "execution_count": 33,
   "metadata": {},
   "outputs": [
    {
     "name": "stdout",
     "output_type": "stream",
     "text": [
      "                            OLS Regression Results                            \n",
      "==============================================================================\n",
      "Dep. Variable:                  behav   R-squared:                       0.355\n",
      "Model:                            OLS   Adj. R-squared:                  0.285\n",
      "Method:                 Least Squares   F-statistic:                     5.095\n",
      "Date:                Mon, 04 May 2020   Prob (F-statistic):            0.00226\n",
      "Time:                        22:12:11   Log-Likelihood:                -50.625\n",
      "No. Observations:                  42   AIC:                             111.3\n",
      "Df Residuals:                      37   BIC:                             119.9\n",
      "Df Model:                           4                                         \n",
      "Covariance Type:            nonrobust                                         \n",
      "==============================================================================\n",
      "                 coef    std err          t      P>|t|      [0.025      0.975]\n",
      "------------------------------------------------------------------------------\n",
      "Intercept      3.8467      0.248     15.514      0.000       3.344       4.349\n",
      "load[T.2]     -0.3230      0.329     -0.981      0.333      -0.990       0.344\n",
      "load[T.3]     -0.9876      0.335     -2.945      0.006      -1.667      -0.308\n",
      "off_dif        7.0262      2.949      2.382      0.022       1.051      13.002\n",
      "exp_dif       -7.2086      2.662     -2.708      0.010     -12.602      -1.816\n",
      "==============================================================================\n",
      "Omnibus:                        4.732   Durbin-Watson:                   1.987\n",
      "Prob(Omnibus):                  0.094   Jarque-Bera (JB):                3.882\n",
      "Skew:                          -0.740   Prob(JB):                        0.144\n",
      "Kurtosis:                       3.172   Cond. No.                         32.7\n",
      "==============================================================================\n",
      "\n",
      "Warnings:\n",
      "[1] Standard Errors assume that the covariance matrix of the errors is correctly specified.\n"
     ]
    }
   ],
   "source": [
    "# Check a particular model\n",
    "group = 'OLD'\n",
    "model = 'f_ap_model'\n",
    "print(models_results[group][model].summary())"
   ]
  },
  {
   "cell_type": "markdown",
   "metadata": {},
   "source": [
    "## Model Comparisons\n",
    "\n",
    "Explicitly test for differences between different model fits. \n",
    "\n",
    "#### Comparing Nested Models\n",
    "\n",
    "Statsmodels offers three tests for nested models: f test, lagrange multiplier, likelihood ratio\n",
    "\n",
    "Note that these three can be called from a results object, as `compare_x_test` with `f`, `lm` and `lr` as `x`. \n",
    "\n",
    "F-test can also be run with `anova_lm`. \n",
    "\n",
    "#### Comparing Non-Nested Models\n",
    "\n",
    "Statmodels offers two tests for non-nested model: cox test & j test\n",
    "\n",
    "They are better described in the R implementations:\n",
    "\n",
    "- cox_test: http://math.furman.edu/~dcs/courses/math47/R/library/lmtest/html/coxtest.html\n",
    "- j_test: http://math.furman.edu/~dcs/courses/math47/R/library/lmtest/html/jtest.html"
   ]
  },
  {
   "cell_type": "code",
   "execution_count": 34,
   "metadata": {},
   "outputs": [],
   "source": [
    "# Set group to compare\n",
    "group = 'OLD'"
   ]
  },
  {
   "cell_type": "code",
   "execution_count": 35,
   "metadata": {},
   "outputs": [
    {
     "name": "stdout",
     "output_type": "stream",
     "text": [
      "base_model\n",
      "cda_model\n",
      "canal_model\n",
      "canicf_model\n",
      "f_al_model\n",
      "f_al_p_model\n",
      "f_ap_model\n",
      "f_ap_p_model\n"
     ]
    }
   ],
   "source": [
    "# Check the model names\n",
    "print('\\n'.join(models_results[group].keys()))"
   ]
  },
  {
   "cell_type": "code",
   "execution_count": 36,
   "metadata": {},
   "outputs": [
    {
     "name": "stdout",
     "output_type": "stream",
     "text": [
      "Canonical alpha vs. Base Model\n",
      "   df_resid        ssr  df_diff  ss_diff         F    Pr(>F)\n",
      "0      39.0  32.872153      0.0      NaN       NaN       NaN\n",
      "1      38.0  30.160483      1.0  2.71167  3.416506  0.072341\n",
      "\n",
      "\n",
      "FOOOF alpha vs. Base Model\n",
      "   df_resid        ssr  df_diff   ss_diff         F    Pr(>F)\n",
      "0      39.0  32.872153      0.0       NaN       NaN       NaN\n",
      "1      38.0  26.429804      1.0  6.442349  9.262622  0.004229\n",
      "\n",
      "\n",
      "FOOOF aperiodic vs. Base Model\n",
      "   df_resid        ssr  df_diff   ss_diff         F    Pr(>F)\n",
      "0      39.0  32.872153      0.0       NaN       NaN       NaN\n",
      "1      37.0  27.399601      2.0  5.472552  3.695025  0.034431\n"
     ]
    }
   ],
   "source": [
    "# Compare nested models: alpha models vs base models\n",
    "with warnings.catch_warnings():\n",
    "    warnings.simplefilter(\"ignore\")\n",
    "    print('Canonical alpha vs. Base Model')\n",
    "    print(anova_lm(models_results[group]['base_model'],\n",
    "                   models_results[group]['canal_model']))\n",
    "    print('\\n')\n",
    "    print('FOOOF alpha vs. Base Model')\n",
    "    print(anova_lm(models_results[group]['base_model'],\n",
    "                   models_results[group]['f_al_model']))\n",
    "    print('\\n')\n",
    "    print('FOOOF aperiodic vs. Base Model')\n",
    "    print(anova_lm(models_results[group]['base_model'],\n",
    "                   models_results[group]['f_ap_model']))"
   ]
  },
  {
   "cell_type": "code",
   "execution_count": 37,
   "metadata": {},
   "outputs": [
    {
     "name": "stdout",
     "output_type": "stream",
     "text": [
      "Canonical alpha vs. FOOOFed Alpha\n",
      "Alpha-Model Compare: \t -4.2947 \t 0.0000\n"
     ]
    }
   ],
   "source": [
    "# Compare different alpha models\n",
    "print('Canonical alpha vs. FOOOFed Alpha')\n",
    "print_stat('Alpha-Model Compare', *compare_cox.run(models_results[group]['canal_model'],\n",
    "                                                   models_results[group]['f_al_model']))"
   ]
  },
  {
   "cell_type": "code",
   "execution_count": 38,
   "metadata": {},
   "outputs": [
    {
     "name": "stdout",
     "output_type": "stream",
     "text": [
      "FOOOF Alpha + vs. FOOOF Alpha\n",
      "   df_resid        ssr  df_diff   ss_diff         F    Pr(>F)\n",
      "0      38.0  26.429804      0.0       NaN       NaN       NaN\n",
      "1      36.0  26.202530      2.0  0.227274  0.156127  0.856027\n",
      "\n",
      "\n",
      "FOOOF AP + vs. FOOOF AP\n",
      "   df_resid        ssr  df_diff  ss_diff         F   Pr(>F)\n",
      "0      37.0  27.399601      0.0      NaN       NaN      NaN\n",
      "1      36.0  24.018710      1.0  3.38089  5.067385  0.03058\n"
     ]
    }
   ],
   "source": [
    "# Compare if the + models are any better\n",
    "with warnings.catch_warnings():\n",
    "    warnings.simplefilter(\"ignore\")\n",
    "    print('FOOOF Alpha + vs. FOOOF Alpha')\n",
    "    print(anova_lm(models_results[group]['f_al_model'],\n",
    "                   models_results[group]['f_al_p_model']))\n",
    "    print('\\n')\n",
    "    print('FOOOF AP + vs. FOOOF AP')\n",
    "    print(anova_lm(models_results[group]['f_ap_model'],\n",
    "                   models_results[group]['f_ap_p_model']))"
   ]
  },
  {
   "cell_type": "markdown",
   "metadata": {},
   "source": [
    "### Check Which Parameters Change\n",
    "\n",
    "Next we will check which parameters show a significant task related difference.\n",
    "\n",
    "In the cell below, per group, per measure, the average difference of the measure (from during the trial vs baseline) is printed, as well as a 1 sample t-test, which tests if this number is significantly different from 0 (no change). "
   ]
  },
  {
   "cell_type": "code",
   "execution_count": 39,
   "metadata": {},
   "outputs": [
    {
     "name": "stdout",
     "output_type": "stream",
     "text": [
      "YNG\n",
      "\n",
      " offset\n",
      "\t Avg Diff: \t -0.057\n",
      "\t t-test: \t -3.8094 \t 0.0004\n",
      "\n",
      " exponent\n",
      "\t Avg Diff: \t -0.035\n",
      "\t t-test: \t -2.5212 \t 0.0149\n",
      "\n",
      " alpha_cf\n",
      "\t Avg Diff: \t +0.029\n",
      "\t t-test: \t  0.4381 \t 0.6632\n",
      "\n",
      " alpha_pw\n",
      "\t Avg Diff: \t +0.099\n",
      "\t t-test: \t  5.3537 \t 0.0000\n",
      "\n",
      " alpha_bw\n",
      "\t Avg Diff: \t -0.081\n",
      "\t t-test: \t -1.6569 \t 0.1038\n",
      "OLD\n",
      "\n",
      " offset\n",
      "\t Avg Diff: \t -0.051\n",
      "\t t-test: \t -2.8806 \t 0.0063\n",
      "\n",
      " exponent\n",
      "\t Avg Diff: \t -0.007\n",
      "\t t-test: \t -0.3799 \t 0.7060\n",
      "\n",
      " alpha_cf\n",
      "\t Avg Diff: \t +0.300\n",
      "\t t-test: \t  2.2651 \t 0.0289\n",
      "\n",
      " alpha_pw\n",
      "\t Avg Diff: \t -0.002\n",
      "\t t-test: \t -0.1250 \t 0.9011\n",
      "\n",
      " alpha_bw\n",
      "\t Avg Diff: \t +0.082\n",
      "\t t-test: \t  0.8492 \t 0.4007\n"
     ]
    }
   ],
   "source": [
    "for age in ['YNG', 'OLD']:\n",
    "    print(age)\n",
    "    for label in ['offset', 'exponent', 'alpha_cf', 'alpha_pw', 'alpha_bw']:\n",
    "        temp = diff_data_dict[age][label]\n",
    "        print('\\n', label)\n",
    "        print('\\t Avg Diff: \\t {:+1.3f}'.format(np.mean(temp)))\n",
    "        print_stat('\\t t-test', *ttest_1samp(temp, 0))"
   ]
  },
  {
   "cell_type": "markdown",
   "metadata": {},
   "source": [
    "## Plot the difference of FOOOFs \n",
    "\n",
    "Now we recreate power spectra that visualize these changes, per group.\n",
    "\n",
    "To do so, we will use the values shown above to reconstruct how spectra change from baseline to task engaged. "
   ]
  },
  {
   "cell_type": "code",
   "execution_count": 40,
   "metadata": {},
   "outputs": [
    {
     "name": "stdout",
     "output_type": "stream",
     "text": [
      "YNG Group\n",
      "\t Off  : -0.057\n",
      "\t Exp  : -0.035\n",
      "\t CF   : +0.029\n",
      "\t PW   : +0.099\n",
      "\t BW   : -0.081\n",
      "OLD Group\n",
      "\t Off  : -0.051\n",
      "\t Exp  : -0.007\n",
      "\t CF   : +0.300\n",
      "\t PW   : -0.002\n",
      "\t BW   : +0.082\n"
     ]
    },
    {
     "data": {
      "image/png": "[encoded data removed]",
      "text/plain": [
       "<Figure size 1008x432 with 2 Axes>"
      ]
     },
     "metadata": {
      "image/png": {
       "height": 405,
       "width": 875
      },
      "needs_background": "light"
     },
     "output_type": "display_data"
    }
   ],
   "source": [
    "_, ax = plt.subplots(1, 2, figsize=(14, 6))\n",
    "titles = ['YNG Group', 'OLD Group']\n",
    "for ii, inds in enumerate([YNG_INDS, OLD_INDS]):\n",
    "\n",
    "    time_offs = all_offsets[:, inds, :].mean(0).mean(0)\n",
    "    time_exps = all_exps[:, inds, :].mean(0).mean(0)\n",
    "    time_al_cf = all_alphas_cf[:, inds, :].mean(0).mean(0)\n",
    "    time_al_pw = all_alphas_pw[:, inds, :].mean(0).mean(0)\n",
    "    time_al_bw = all_alphas_bw[:, inds, :].mean(0).mean(0)\n",
    "\n",
    "    fs, base_spectrum = gen_power_spectrum([3, 30],\n",
    "                                           [time_offs[0], time_exps[0]],\n",
    "                                           [time_al_cf[0], time_al_pw[0],\n",
    "                                            time_al_bw[0]/2], nlv=0)\n",
    "    fs, task_spectrum = gen_power_spectrum([3, 30],\n",
    "                                           [time_offs[2], time_exps[2]],\n",
    "                                           [time_al_cf[2], time_al_pw[2],\n",
    "                                            time_al_bw[2]/2], nlv=0)\n",
    "\n",
    "    plot_spectra(fs, [base_spectrum, task_spectrum],\n",
    "                 True, True, ['Baseline', 'Delay'], ax=ax[ii])\n",
    "    ax[ii].set_title(titles[ii], {'fontsize' : 16, 'fontweight' : 'bold'})\n",
    "    \n",
    "    print(titles[ii])\n",
    "    for label, dat in zip(['Off', 'Exp', 'CF ', 'PW ', 'BW '],\n",
    "                          [time_offs, time_exps,  time_al_cf, time_al_pw, time_al_bw]):\n",
    "        print('\\t', label, ' : {:+1.3f}'.format(dat[2] - dat[0]))\n",
    "    \n",
    "plt.subplots_adjust(wspace=0.3)\n",
    "if SAVE_FIG:\n",
    "    plt.savefig('../figures/EEG-TaskModels.png', dpi=500)"
   ]
  },
  {
   "cell_type": "markdown",
   "metadata": {},
   "source": [
    "## Correlations Between Features\n",
    "\n",
    "Check the correlation structure within and between FOOOF and canonical measures."
   ]
  },
  {
   "cell_type": "code",
   "execution_count": 41,
   "metadata": {},
   "outputs": [],
   "source": [
    "# Settings\n",
    "group = 'ALL'\n",
    "cur_dat = data_dict\n",
    "#cur_dat = diff_data_dict"
   ]
  },
  {
   "cell_type": "code",
   "execution_count": 42,
   "metadata": {},
   "outputs": [
    {
     "name": "stdout",
     "output_type": "stream",
     "text": [
      "Correlations between features \t\t r-val \t\t p-val\n",
      "  offset     &   exponent : \t\t+0.780 \t\t0.0000\n",
      "  offset     &   alpha_cf : \t\t+0.157 \t\t0.0084\n",
      "  offset     &   alpha_pw : \t\t+0.327 \t\t0.0000\n",
      "  offset     &   alpha_bw : \t\t+0.406 \t\t0.0000\n",
      "  offset     &   canalpha : \t\t+0.125 \t\t0.0365\n",
      "  offset     &   canal_icf : \t\t+0.132 \t\t0.0276\n",
      "  exponent   &   alpha_cf : \t\t+0.215 \t\t0.0003\n",
      "  exponent   &   alpha_pw : \t\t+0.085 \t\t0.1580\n",
      "  exponent   &   alpha_bw : \t\t+0.095 \t\t0.1125\n",
      "  exponent   &   canalpha : \t\t+0.120 \t\t0.0444\n",
      "  exponent   &   canal_icf : \t\t+0.121 \t\t0.0438\n",
      "  alpha_cf   &   alpha_pw : \t\t+0.054 \t\t0.3731\n",
      "  alpha_cf   &   alpha_bw : \t\t+0.295 \t\t0.0000\n",
      "  alpha_cf   &   canalpha : \t\t+0.053 \t\t0.3770\n",
      "  alpha_cf   &   canal_icf : \t\t+0.060 \t\t0.3189\n",
      "  alpha_pw   &   alpha_bw : \t\t+0.428 \t\t0.0000\n",
      "  alpha_pw   &   canalpha : \t\t+0.342 \t\t0.0000\n",
      "  alpha_pw   &   canal_icf : \t\t+0.323 \t\t0.0000\n",
      "  alpha_bw   &   canalpha : \t\t-0.115 \t\t0.0555\n",
      "  alpha_bw   &   canal_icf : \t\t-0.122 \t\t0.0421\n",
      "  canalpha   &   canal_icf : \t\t+0.986 \t\t0.0000\n"
     ]
    }
   ],
   "source": [
    "# Calculate and collect correlations between features\n",
    "corrs = np.zeros(shape=[len(datas), len(datas)])\n",
    "print('Correlations between features \\t\\t r-val \\t\\t p-val')\n",
    "for i1, label1 in enumerate(labels):\n",
    "    for i2, label2 in enumerate(labels):\n",
    "        corr = nan_corr(cur_dat[group][label1].flatten(),\n",
    "                        cur_dat[group][label2].flatten())\n",
    "        if i1 != i2:\n",
    "            corrs[i1, i2] = corr[0]\n",
    "        else:\n",
    "            corrs[i1, i2] = 0\n",
    "        if i1 < i2:\n",
    "            print('  {:10s} &   {} : \\t\\t{:+1.3f} \\t\\t{:1.4f}'.format(label1, label2, *corr))"
   ]
  },
  {
   "cell_type": "code",
   "execution_count": 43,
   "metadata": {},
   "outputs": [
    {
     "data": {
      "image/png": "[encoded data removed]",
      "text/plain": [
       "<Figure size 432x288 with 2 Axes>"
      ]
     },
     "metadata": {
      "image/png": {
       "height": 283,
       "width": 344
      },
      "needs_background": "light"
     },
     "output_type": "display_data"
    }
   ],
   "source": [
    "# Plot the correlation matrix between features\n",
    "plt.imshow(corrs, cmap='bwr', vmin=-1, vmax=1)\n",
    "plt.gca().set_xticklabels([''] + labels, rotation=45);\n",
    "plt.gca().set_yticklabels([''] + labels, rotation=45);\n",
    "plt.colorbar();\n",
    "\n",
    "if SAVE_FIG:\n",
    "    plt.savefig('../figures/EEG-ParamCorrs.png', dpi=500)"
   ]
  },
  {
   "cell_type": "markdown",
   "metadata": {},
   "source": [
    "## Explore Relation Between Canonical Alpha and FOOOF Alpha & Exponent\n",
    "\n",
    "In this section, we will explore how the canonical alpha measure relates to FOOOF measures.\n",
    "\n",
    "The idea of the FOOOF model is that the measured power at a particular frequency, say 10 Hz or alpha, reflects a combination of aperiodic power and any band-specific oscillations. If so, the total power at a given frequency, as is traditionally computed, should be predictable by a combination of FOOOF features.\n",
    "\n",
    "To check this, we will further explore the relationship between canonically measured alpha power, and FOOOF features for the aperiodic component (offset and exponent) and the FOOOF measure of alpha peak-specific power. "
   ]
  },
  {
   "cell_type": "code",
   "execution_count": 44,
   "metadata": {},
   "outputs": [],
   "source": [
    "# Generate the power @ alpha frequency given the aperiodic component, from the FOOOF fits\n",
    "ap_alpha = []\n",
    "for cf, off, exp in zip(all_alphas_cf.flatten(), all_offsets.flatten(), all_exps.flatten()):\n",
    "    ap_alpha.append(gen_aperiodic(np.array([10]), [off, exp])[0])\n",
    "ap_alpha = np.array(ap_alpha)\n",
    "\n",
    "# Calculate the total power at 10 Hz (or about) from the combination of aperiodic & alpha peak\n",
    "foo_total = ap_alpha + all_alphas_pw.flatten()"
   ]
  },
  {
   "cell_type": "code",
   "execution_count": 45,
   "metadata": {},
   "outputs": [
    {
     "name": "stdout",
     "output_type": "stream",
     "text": [
      "C-Alpha vs F-Alpha     : \t  0.3425 \t 0.0000\n",
      "C-ICF-Alpha vs F-Alpha : \t  0.3226 \t 0.0000\n"
     ]
    }
   ],
   "source": [
    "# Calculate correlation between canonical and FOOOF alpha\n",
    "print_stat('C-Alpha vs F-Alpha     ', *nan_corr(np.array(all_alphas_pw.flatten()),\n",
    "                                           np.array(canalpha.flatten())))\n",
    "print_stat('C-ICF-Alpha vs F-Alpha ', *nan_corr(np.array(all_alphas_pw.flatten()),\n",
    "                                               np.array(canal_icf.flatten())))"
   ]
  },
  {
   "cell_type": "code",
   "execution_count": 46,
   "metadata": {},
   "outputs": [
    {
     "name": "stdout",
     "output_type": "stream",
     "text": [
      "C-Alpha vs 10Hz-AP: \t  0.0617 \t 0.3045\n"
     ]
    }
   ],
   "source": [
    "# Calculate correlation between canonical alpha and aperiodic component @ 10 Hz\n",
    "print_stat('C-Alpha vs 10Hz-AP', *nan_corr(np.array(ap_alpha),\n",
    "                                           np.array(canalpha.flatten())))"
   ]
  },
  {
   "cell_type": "code",
   "execution_count": 47,
   "metadata": {},
   "outputs": [
    {
     "name": "stdout",
     "output_type": "stream",
     "text": [
      "C-Alpha vs Total-FOOOF: \t  0.2628 \t 0.0000\n",
      "C-ICF-Alpha vs Total-FOOOF: \t  0.2545 \t 0.0000\n"
     ]
    }
   ],
   "source": [
    "# Calculate correlation between the canonical alpha and the FOOOF model total @ 10 Hz\n",
    "print_stat('C-Alpha vs Total-FOOOF', *nan_corr(np.array(foo_total.flatten()),\n",
    "                                               np.array(canalpha.flatten())))\n",
    "print_stat('C-ICF-Alpha vs Total-FOOOF', *nan_corr(np.array(foo_total.flatten()),\n",
    "                                                   np.array(canal_icf.flatten())))"
   ]
  },
  {
   "cell_type": "markdown",
   "metadata": {},
   "source": [
    "To put it all together, let's see to what extent we can predict the canonically measured FOOOF"
   ]
  },
  {
   "cell_type": "code",
   "execution_count": 48,
   "metadata": {},
   "outputs": [
    {
     "name": "stdout",
     "output_type": "stream",
     "text": [
      "                            OLS Regression Results                            \n",
      "==============================================================================\n",
      "Dep. Variable:                  canal   R-squared:                       0.829\n",
      "Model:                            OLS   Adj. R-squared:                  0.823\n",
      "Method:                 Least Squares   F-statistic:                     143.3\n",
      "Date:                Mon, 04 May 2020   Prob (F-statistic):           5.80e-34\n",
      "Time:                        22:12:12   Log-Likelihood:                 1262.0\n",
      "No. Observations:                  93   AIC:                            -2516.\n",
      "Df Residuals:                      89   BIC:                            -2506.\n",
      "Df Model:                           3                                         \n",
      "Covariance Type:            nonrobust                                         \n",
      "==============================================================================\n",
      "                 coef    std err          t      P>|t|      [0.025      0.975]\n",
      "------------------------------------------------------------------------------\n",
      "Intercept  -1.081e-07   4.68e-08     -2.308      0.023   -2.01e-07    -1.5e-08\n",
      "exp        -2.902e-06   7.95e-07     -3.651      0.000   -4.48e-06   -1.32e-06\n",
      "off         2.467e-06   7.58e-07      3.256      0.002    9.61e-07    3.97e-06\n",
      "fal         4.489e-06    2.9e-07     15.494      0.000    3.91e-06    5.06e-06\n",
      "==============================================================================\n",
      "Omnibus:                       20.140   Durbin-Watson:                   1.869\n",
      "Prob(Omnibus):                  0.000   Jarque-Bera (JB):               27.729\n",
      "Skew:                           1.008   Prob(JB):                     9.52e-07\n",
      "Kurtosis:                       4.759   Cond. No.                         33.2\n",
      "==============================================================================\n",
      "\n",
      "Warnings:\n",
      "[1] Standard Errors assume that the covariance matrix of the errors is correctly specified.\n"
     ]
    }
   ],
   "source": [
    "# Predict standard canonical alpha\n",
    "data = pd.DataFrame()\n",
    "\n",
    "group = 'ALL'\n",
    "data['exp'] = diff_data_dict[group]['exponent']\n",
    "data['off'] = diff_data_dict[group]['offset']\n",
    "data['fal'] = diff_data_dict[group]['alpha_pw']\n",
    "data['canal'] = diff_data_dict[group]['canalpha']\n",
    "\n",
    "mod = run_model(\"canal ~ exp + off + fal\", data, True)"
   ]
  },
  {
   "cell_type": "code",
   "execution_count": 49,
   "metadata": {},
   "outputs": [
    {
     "name": "stdout",
     "output_type": "stream",
     "text": [
      "Canal - EXP: \t0.1709\n",
      "Canal - OFF: \t0.0290\n",
      "Canal - FAL: \t0.8006\n"
     ]
    }
   ],
   "source": [
    "# Check the predictions from individual components\n",
    "m1 = run_model(\"canal ~ exp\", data, False)\n",
    "m2 = run_model(\"canal ~ off\", data, False)\n",
    "m3 = run_model(\"canal ~ fal\", data, False)\n",
    "\n",
    "print('Canal - EXP: \\t{:1.4f}'.format(m1.rsquared_adj))\n",
    "print('Canal - OFF: \\t{:1.4f}'.format(m2.rsquared_adj))\n",
    "print('Canal - FAL: \\t{:1.4f}'.format(m3.rsquared_adj))"
   ]
  },
  {
   "cell_type": "code",
   "execution_count": 50,
   "metadata": {},
   "outputs": [
    {
     "name": "stdout",
     "output_type": "stream",
     "text": [
      "                            OLS Regression Results                            \n",
      "==============================================================================\n",
      "Dep. Variable:                  canal   R-squared:                       0.820\n",
      "Model:                            OLS   Adj. R-squared:                  0.814\n",
      "Method:                 Least Squares   F-statistic:                     135.3\n",
      "Date:                Mon, 04 May 2020   Prob (F-statistic):           4.77e-33\n",
      "Time:                        22:12:13   Log-Likelihood:                 1262.6\n",
      "No. Observations:                  93   AIC:                            -2517.\n",
      "Df Residuals:                      89   BIC:                            -2507.\n",
      "Df Model:                           3                                         \n",
      "Covariance Type:            nonrobust                                         \n",
      "==============================================================================\n",
      "                 coef    std err          t      P>|t|      [0.025      0.975]\n",
      "------------------------------------------------------------------------------\n",
      "Intercept  -8.883e-08   4.66e-08     -1.908      0.060   -1.81e-07     3.7e-09\n",
      "exp         -3.19e-06   7.91e-07     -4.035      0.000   -4.76e-06   -1.62e-06\n",
      "off         2.995e-06   7.53e-07      3.976      0.000     1.5e-06    4.49e-06\n",
      "fal         4.289e-06   2.88e-07     14.890      0.000    3.72e-06    4.86e-06\n",
      "==============================================================================\n",
      "Omnibus:                       23.534   Durbin-Watson:                   1.982\n",
      "Prob(Omnibus):                  0.000   Jarque-Bera (JB):               34.687\n",
      "Skew:                           1.130   Prob(JB):                     2.94e-08\n",
      "Kurtosis:                       4.962   Cond. No.                         33.2\n",
      "==============================================================================\n",
      "\n",
      "Warnings:\n",
      "[1] Standard Errors assume that the covariance matrix of the errors is correctly specified.\n"
     ]
    }
   ],
   "source": [
    "# Predict individualized frequency canonical alpha\n",
    "data = pd.DataFrame()\n",
    "\n",
    "group = 'ALL'\n",
    "data['exp'] = diff_data_dict[group]['exponent']\n",
    "data['off'] = diff_data_dict[group]['offset']\n",
    "data['fal'] = diff_data_dict[group]['alpha_pw']\n",
    "data['canal'] = diff_data_dict[group]['canal_icf']\n",
    "\n",
    "mod = run_model(\"canal ~ exp + off + fal\", data, True)"
   ]
  },
  {
   "cell_type": "code",
   "execution_count": 51,
   "metadata": {},
   "outputs": [
    {
     "name": "stdout",
     "output_type": "stream",
     "text": [
      "Canal - EXP: \t0.1461\n",
      "Canal - OFF: \t0.0140\n",
      "Canal - FAL: \t0.7839\n"
     ]
    }
   ],
   "source": [
    "# Check the predictions from individual components\n",
    "m1 = run_model(\"canal ~ exp\", data, False)\n",
    "m2 = run_model(\"canal ~ off\", data, False)\n",
    "m3 = run_model(\"canal ~ fal\", data, False)\n",
    "\n",
    "print('Canal - EXP: \\t{:1.4f}'.format(m1.rsquared_adj))\n",
    "print('Canal - OFF: \\t{:1.4f}'.format(m2.rsquared_adj))\n",
    "print('Canal - FAL: \\t{:1.4f}'.format(m3.rsquared_adj))"
   ]
  }
 ],
 "metadata": {
  "kernelspec": {
   "display_name": "Python 3",
   "language": "python",
   "name": "python3"
  },
  "language_info": {
   "codemirror_mode": {
    "name": "ipython",
    "version": 3
   },
   "file_extension": ".py",
   "mimetype": "text/x-python",
   "name": "python",
   "nbconvert_exporter": "python",
   "pygments_lexer": "ipython3",
   "version": "3.7.4"
  }
 },
 "nbformat": 4,
 "nbformat_minor": 2
}
